{
 "cells": [
  {
   "cell_type": "code",
   "execution_count": 1,
   "id": "c61d7eb1-731c-45c1-9402-e56c1792fe0a",
   "metadata": {},
   "outputs": [],
   "source": [
    "from aeon.datasets import load_italy_power_demand\n",
    "X, y = load_italy_power_demand(return_type='numpy2d')\n",
    "\n",
    "import numpy as np\n",
    "from aeon.distances import distance"
   ]
  },
  {
   "cell_type": "code",
   "execution_count": 2,
   "id": "c3ac1412-c122-4be6-8f48-9244cd588b21",
   "metadata": {},
   "outputs": [],
   "source": [
    "import numpy as np\n",
    "\n",
    "from aeon.classification.base import BaseClassifier\n",
    "\n",
    "from aeon.distances import distance\n",
    "\n",
    "class Node():\n",
    "\n",
    "    def __init__(\n",
    "            self,\n",
    "            node_id,\n",
    "            _is_leaf,\n",
    "            label,\n",
    "            splitter=None,\n",
    "    ):\n",
    "        self.node_id = node_id\n",
    "        self._is_leaf = _is_leaf\n",
    "        self.label = label\n",
    "        self.splitter = splitter\n",
    "        self.children = {}\n",
    "\n",
    "class ProximityTree(BaseClassifier):\n",
    "\n",
    "    def __init__(\n",
    "        self,\n",
    "        n_splitters: int = 5,\n",
    "        max_depth: int = None,\n",
    "        min_samples_split: int = 2,\n",
    "        random_state: int = 0,\n",
    "        n_jobs: int = 1,\n",
    "        verbose: int = 0,\n",
    "    ) -> None:\n",
    "        self.n_splitter = n_splitters\n",
    "        self.max_depth = max_depth\n",
    "        self.min_samples_split = min_samples_split\n",
    "        self.random_state = random_state\n",
    "        self.n_jobs = n_jobs\n",
    "        self.verbose = verbose\n",
    "        super().__init__()\n",
    "\n",
    "    def get_parameter_value(self, X=None):\n",
    "        \"\"\"Generate random parameter values.\n",
    "\n",
    "        For a list of distance measures, generate a dictionary\n",
    "        of parameterized distances.\n",
    "\n",
    "        Parameters\n",
    "        ----------\n",
    "        X : np.ndarray of shape (n_cases, n_timepoints)\n",
    "\n",
    "        Returns\n",
    "        -------\n",
    "        distance_param : a dictionary of distances and their\n",
    "        parameters.\n",
    "        \"\"\"\n",
    "        X_std = X.std()\n",
    "        param_ranges = {\n",
    "            \"euclidean\": {},\n",
    "            \"dtw\": {\"window\": (0, 0.25)},\n",
    "            \"ddtw\": {\"window\": (0, 0.25)},\n",
    "            \"wdtw\": {\"g\": (0, 1)},\n",
    "            \"wddtw\": {\"g\": (0, 1)},\n",
    "            \"erp\": {\"g\": (X_std / 5, X_std)},\n",
    "            \"lcss\": {\"epsilon\": (X_std / 5, X_std), \"window\": (0, 0.25)},\n",
    "        }\n",
    "        random_params = {}\n",
    "        for measure, ranges in param_ranges.items():\n",
    "            random_params[measure] = {\n",
    "                param: np.round(np.random.uniform(low, high), 3)\n",
    "                for param, (low, high) in ranges.items()\n",
    "            }\n",
    "        # For TWE\n",
    "        lmbda = np.random.randint(0, 9)\n",
    "        exponent_range = np.arange(1, 6)  # Exponents from -5 to 1 (inclusive)\n",
    "        random_exponent = np.random.choice(exponent_range)\n",
    "        nu = 1 / 10**random_exponent\n",
    "        random_params[\"twe\"] = {\"lmbda\": lmbda, \"nu\": nu}\n",
    "\n",
    "        # For MSM\n",
    "        base = 10\n",
    "        # Exponents from -2 to 2 (inclusive)\n",
    "        exponents = np.arange(-2, 3, dtype=np.float64)\n",
    "        # Randomly select an index from the exponent range\n",
    "        random_index = np.random.randint(0, len(exponents))\n",
    "        c = base ** exponents[random_index]\n",
    "        random_params[\"msm\"] = {\"c\": c}\n",
    "\n",
    "        return random_params\n",
    "\n",
    "    def get_candidate_splitter(self, X, y):\n",
    "        \"\"\"Generate candidate splitter.\n",
    "\n",
    "        Takes a time series dataset and a set of parameterized\n",
    "        distance measures to create a candidate splitter, which\n",
    "        contains a parameterized distance measure and a set of exemplars.\n",
    "\n",
    "        Parameters\n",
    "        ----------\n",
    "        X : np.ndarray shape (n_cases, n_timepoints)\n",
    "            The training input samples.\n",
    "        y : np.array shape (n_cases,) or (n_cases,1)\n",
    "        parameterized_distances : dictionary\n",
    "            Contains the distances and their parameters.\n",
    "\n",
    "        Returns\n",
    "        -------\n",
    "        splitter : list of two dictionaries\n",
    "            A distance and its parameter values and a set of exemplars.\n",
    "        \"\"\"\n",
    "        _X = X\n",
    "        _y = y\n",
    "\n",
    "        exemplars = {}\n",
    "        for label in np.unique(_y):\n",
    "            y_new = _y[_y == label]\n",
    "            X_new = _X[_y == label]\n",
    "            id = np.random.randint(0, X_new.shape[0])\n",
    "            exemplars[y_new[id]] = X_new[id, :]\n",
    "\n",
    "        # Create a list with first element exemplars and second element a\n",
    "        # random parameterized distance measure\n",
    "        parameterized_distances = self.get_parameter_value(X)\n",
    "        n = np.random.randint(0, 9)\n",
    "        dist = list(parameterized_distances.keys())[n]\n",
    "        splitter = [exemplars, {dist: parameterized_distances[dist]}]\n",
    "\n",
    "        return splitter\n",
    "\n",
    "    def gini(self, y):\n",
    "        \"\"\"Get gini score at a specific node.\n",
    "\n",
    "        Parameters\n",
    "        ----------\n",
    "        y : 1d numpy array\n",
    "            array of class labels\n",
    "\n",
    "        Returns\n",
    "        -------\n",
    "        score : float\n",
    "            gini score for the set of class labels (i.e. how pure they are). A\n",
    "            larger score means more impurity. Zero means\n",
    "            pure.\n",
    "        \"\"\"\n",
    "        # get number instances at node\n",
    "        n_instances = y.shape[0]\n",
    "        if n_instances > 0:\n",
    "            # count each class\n",
    "            unique_class_labels, class_counts = np.unique(y, return_counts=True)\n",
    "            # subtract class entropy from current score for each class\n",
    "            class_counts = np.divide(class_counts, n_instances)\n",
    "            class_counts = np.power(class_counts, 2)\n",
    "            sum = np.sum(class_counts)\n",
    "            return 1 - sum\n",
    "        else:\n",
    "            # y is empty, therefore considered pure\n",
    "            raise ValueError(\"y empty\")\n",
    "\n",
    "    def gini_gain(self, y, y_subs):\n",
    "        \"\"\"Get gini score of a split, i.e. the gain from parent to children.\n",
    "\n",
    "        Parameters\n",
    "        ----------\n",
    "        y : 1d array\n",
    "            array of class labels at parent\n",
    "        y_subs : list of 1d array like\n",
    "            list of array of class labels, one array per child\n",
    "\n",
    "        Returns\n",
    "        -------\n",
    "        score : float\n",
    "            gini score of the split from parent class labels to children. Note a\n",
    "            higher score means better gain,\n",
    "            i.e. a better split\n",
    "        \"\"\"\n",
    "        if y.ndim != 1:\n",
    "            raise ValueError()\n",
    "        # find number of instances overall\n",
    "        parent_n_instances = y.shape[0]\n",
    "        # if parent has no instances then is pure\n",
    "        if parent_n_instances == 0:\n",
    "            for child in y_subs:\n",
    "                if len(child) > 0:\n",
    "                    raise ValueError(\"children populated but parent empty\")\n",
    "            return 0.5\n",
    "        # find gini for parent node\n",
    "        score = self.gini(y)\n",
    "        # sum the children's gini scores\n",
    "        for index in range(len(y_subs)):\n",
    "            child_class_labels = y_subs[index]\n",
    "            # ignore empty children\n",
    "            if len(child_class_labels) > 0:\n",
    "                # find gini score for this child\n",
    "                child_score = self.gini(child_class_labels)\n",
    "                # weight score by proportion of instances at child compared to\n",
    "                # parent\n",
    "                child_size = len(child_class_labels)\n",
    "                child_score *= child_size / parent_n_instances\n",
    "                # add to cumulative sum\n",
    "                score -= child_score\n",
    "        return score\n",
    "\n",
    "    def _build_tree(X,y,depth,node_id,parent_target_value=None):\n",
    "\n",
    "        # If the data reaching the node is empty\n",
    "        if (len(X)==0):\n",
    "            leaf_label = parent_plurality_value\n",
    "            leaf = Node(node_id=node_id, _is_leaf=True, label=leaf_label)\n",
    "\n",
    "        # Target value in current node\n",
    "        initial_target_value = _find_trget_value(X,y)\n",
    "        \n",
    "        # If max depth is reached\n",
    "        if ((max_depth is not None)&(depth>=max_depth)):\n",
    "            leaf_label = initial_target_value\n",
    "            leaf = Node(node_id = node_id, _is_leaf = True, label = leaf_label)\n",
    "        \n",
    "        # Pure node\n",
    "        if (len(np.unique(y))==1):\n",
    "            leaf_label = initial_target_value\n",
    "            leaf = Node(node_id = node_id, _is_leaf = True, label = leaf_label)\n",
    "            return leaf\n",
    "\n",
    "        # Find the best splitter\n",
    "        splitter = self.get_best_splitter(X,y, n_splitters)\n",
    "\n",
    "        node = Node(node_id = node_id, _is_leaf=False, splitter = splitter)\n",
    "\n",
    "    def _find_target_value(y):\n",
    "        \"\"\"Get the class label of highest frequency.\"\"\"\n",
    "        unique, counts = np.unique(y, return_counts=True)\n",
    "        # Find the index of the maximum count\n",
    "        max_index = np.argmax(counts)\n",
    "        mode_value = unique[max_index]\n",
    "        mode_count = counts[max_index]\n",
    "        return mode_value\n",
    "\n",
    "    def get_best_splitter(self, X, y, n_splitters):\n",
    "        max_gain = float('-inf')\n",
    "        best_splitter = None\n",
    "        #For quality analysis\n",
    "        gains = []\n",
    "        splitters = []\n",
    "        for k in range(n_splitters):\n",
    "            splitter = self.get_candidate_splitter(X,y)\n",
    "            exemplar = splitter[0]\n",
    "            measure = list(splitter[1].keys())[0]\n",
    "            labels = list(exemplar.keys())\n",
    "            y_subs = [[] for i in range(len(labels))]\n",
    "            for i in range(X.shape[0]):\n",
    "                min_dist = float('inf')\n",
    "                label=None\n",
    "                for j in range(len(labels)):\n",
    "                    dist = distance(X[i],exemplar[labels[j]], metric=measure, kwargs=splitter[1][distance])\n",
    "                    if (dist<min_dist):\n",
    "                        min_dist = dist\n",
    "                        label = j\n",
    "                y_subs[j].append(y[i])\n",
    "            y_subs = [np.array(ele) for ele in y_subs]\n",
    "            gini_index = gini_gain(y,y_subs)\n",
    "            gains.append(gini_index)\n",
    "            splitters.append(splitter)\n",
    "            if (gini_index > max_gain):\n",
    "                max_gain = gini_index\n",
    "                best_splitter = splitter\n",
    "        return best_splitter, gains, splitters\n",
    "            \n",
    "    \n",
    "    def _fit(self, X, y):\n",
    "        self.root = self._build_tree(X,y, depth=0, node_id='0', parent_target_value=None)\n",
    "\n",
    "    def _predict(self, X):\n",
    "        pass\n",
    "\n",
    "    def _predict_proba(self, X):\n",
    "        pass\n"
   ]
  },
  {
   "cell_type": "code",
   "execution_count": 3,
   "id": "0339e3de-5000-4c2b-9fe8-2d67a86932fe",
   "metadata": {},
   "outputs": [],
   "source": [
    "clf = ProximityTree(n_splitters = 6)"
   ]
  },
  {
   "cell_type": "code",
   "execution_count": 4,
   "id": "60055127-f9d0-47d1-b898-18040fe99331",
   "metadata": {},
   "outputs": [
    {
     "data": {
      "text/plain": [
       "[{'1': array([-0.98381213, -1.0871899 , -1.4800256 , -1.5420523 , -1.5834034 ,\n",
       "         -1.3973234 , -1.2939455 , -0.32219416,  0.60820608,  1.1044196 ,\n",
       "          1.2698241 ,  1.0423929 ,  0.9183395 ,  0.40145047,  0.40145047,\n",
       "          0.50482828,  0.58753052,  1.0423929 ,  1.1457707 ,  0.95969062,\n",
       "          0.44280159,  0.1740193 , -0.34286972, -0.5703009 ]),\n",
       "  '2': array([ 0.91295034,  0.59654878,  0.04284604, -0.58995708, -0.74815786,\n",
       "         -0.66905747, -1.7764629 , -1.9346637 , -0.98545903, -0.19445513,\n",
       "          0.28014722,  0.67564917,  0.51744839,  0.12194644,  0.12194644,\n",
       "         -0.58995708, -0.51085669, -0.51085669, -0.27355552,  0.04284604,\n",
       "          0.438348  ,  0.51744839,  2.4949582 ,  2.0203558 ])},\n",
       " {'lcss': {'epsilon': 0.384, 'window': 0.145}}]"
      ]
     },
     "execution_count": 4,
     "metadata": {},
     "output_type": "execute_result"
    }
   ],
   "source": [
    "splitter = clf.get_candidate_splitter(X,y)\n",
    "splitter"
   ]
  },
  {
   "cell_type": "code",
   "execution_count": 11,
   "id": "35506fb1-1fd7-4a76-ae66-28d335ebd8ee",
   "metadata": {},
   "outputs": [
    {
     "data": {
      "text/plain": [
       "['1', '2']"
      ]
     },
     "execution_count": 11,
     "metadata": {},
     "output_type": "execute_result"
    }
   ],
   "source": [
    "labels = list(splitter[0].keys())\n",
    "labels"
   ]
  },
  {
   "cell_type": "code",
   "execution_count": 9,
   "id": "967e8a75-c493-4327-b1ba-578202d5608b",
   "metadata": {},
   "outputs": [
    {
     "data": {
      "text/plain": [
       "'lcss'"
      ]
     },
     "execution_count": 9,
     "metadata": {},
     "output_type": "execute_result"
    }
   ],
   "source": [
    "measure = list(splitter[1].keys())[0]\n",
    "measure"
   ]
  },
  {
   "cell_type": "code",
   "execution_count": 33,
   "id": "b921822f-c556-4e37-9165-3db4d89c2811",
   "metadata": {},
   "outputs": [],
   "source": [
    "y_subs = [[] for label in labels]"
   ]
  },
  {
   "cell_type": "code",
   "execution_count": 34,
   "id": "f558737e-ad3e-40c5-9a46-1c3129932ee8",
   "metadata": {},
   "outputs": [
    {
     "data": {
      "text/plain": [
       "[array([], dtype=float64), array(['2'], dtype='<U1')]"
      ]
     },
     "execution_count": 34,
     "metadata": {},
     "output_type": "execute_result"
    }
   ],
   "source": [
    "y_subs[1].append(y[13])\n",
    "y_subs = [np.array(ele) for ele in y_subs]\n",
    "y_subs"
   ]
  },
  {
   "cell_type": "code",
   "execution_count": 13,
   "id": "2482b8e1-9067-4eeb-bf36-1012e36b6228",
   "metadata": {},
   "outputs": [
    {
     "data": {
      "text/plain": [
       "{'epsilon': 0.384, 'window': 0.145}"
      ]
     },
     "execution_count": 13,
     "metadata": {},
     "output_type": "execute_result"
    }
   ],
   "source": [
    "splitter[1][measure]"
   ]
  },
  {
   "cell_type": "code",
   "execution_count": 4,
   "id": "721a6a99-e131-4b9c-bf15-5d9ebbca9033",
   "metadata": {},
   "outputs": [],
   "source": [
    "def get_best_splitter(X, y, n_splitters):\n",
    "    max_gain = float('-inf')\n",
    "    best_splitter = None\n",
    "    # For quality analysis\n",
    "    gains = []\n",
    "    splitters = []\n",
    "    for i in range(n_splitters):\n",
    "        splitter = clf.get_candidate_splitter(X,y)\n",
    "        labels = list(splitter[0].keys())\n",
    "        measure = list(splitter[1].keys())[0]\n",
    "        y_subs = [[] for k in range(len(labels))]\n",
    "        for j in range(X.shape[0]):\n",
    "            min_dist = float('inf')\n",
    "            sub = None\n",
    "            for k in range(len(labels)):\n",
    "                dist = distance(X[j], splitter[0][labels[k]], metric = measure, kwargs = splitter[1][measure])\n",
    "                if (dist<min_dist):\n",
    "                    min_dist = dist\n",
    "                    sub = k\n",
    "            y_subs[sub].append(y[j])\n",
    "        y_subs = [np.array(ele) for ele in y_subs]\n",
    "        gini_index = clf.gini_gain(y, y_subs)\n",
    "        gains.append(gini_index)\n",
    "        splitters.append(splitter)\n",
    "        if (gini_index > max_gain):\n",
    "            max_gain = gini_index\n",
    "            best_splitter = splitter\n",
    "    return best_splitter, gains, splitters, y_subs"
   ]
  },
  {
   "cell_type": "code",
   "execution_count": 5,
   "id": "a3d26c3b-0081-45a7-8ba4-ccc6dfeca3ab",
   "metadata": {},
   "outputs": [],
   "source": [
    "best_splitter, gains, splitters, y_subs = get_best_splitter(X,y,6)"
   ]
  },
  {
   "cell_type": "code",
   "execution_count": 6,
   "id": "6d6b2296-6376-4e6b-a154-804fabb090cb",
   "metadata": {},
   "outputs": [
    {
     "data": {
      "text/plain": [
       "[0.0029773176118786937,\n",
       " 0.04615381025799996,\n",
       " 0.03560220213065943,\n",
       " 0.22702491070608757,\n",
       " 0.008705269269608601,\n",
       " 0.0641445553932831]"
      ]
     },
     "execution_count": 6,
     "metadata": {},
     "output_type": "execute_result"
    }
   ],
   "source": [
    "gains"
   ]
  },
  {
   "cell_type": "code",
   "execution_count": 7,
   "id": "3f4dbcd4-a9ba-4be1-9fd2-838aae91bae6",
   "metadata": {},
   "outputs": [
    {
     "data": {
      "text/plain": [
       "[[{'1': array([-1.0468305 , -1.3498092 , -1.5129516 , -1.6294819 , -1.652788  ,\n",
       "          -1.4663395 , -1.0002183 , -0.37095477,  0.65451181,  1.1672451 ,\n",
       "           1.0740209 ,  0.88757239,  0.65451181,  0.39814517,  0.46806334,\n",
       "           0.58459363,  0.53798152,  0.39814517,  0.51467546,  1.4236117 ,\n",
       "           1.0507148 ,  0.46806334,  0.14177852, -0.39426083]),\n",
       "   '2': array([-0.29284315, -1.0045632 , -1.2269757 , -1.5383533 , -1.4493883 ,\n",
       "          -1.3604233 , -1.1380107 ,  0.01853437,  0.2409469 ,  1.219562  ,\n",
       "           1.397492  ,  1.130597  ,  0.81921946,  0.01853437, -0.20387815,\n",
       "          -0.07043063, -0.33732566, -0.42629067, -0.42629067,  0.46335942,\n",
       "           1.8867996 ,  1.664387  ,  0.50784193,  0.10749939])},\n",
       "  {'dtw': {'window': 0.199}}],\n",
       " [{'1': array([-0.5855154 , -0.81972157, -1.1877598 , -1.455424  , -1.7900042 ,\n",
       "          -1.388508  , -1.0539277 , -0.41822529, -0.45168331,  0.11710308,\n",
       "           0.51859936,  0.65243145,  0.55205738,  0.21747715, -0.11710308,\n",
       "          -0.48514133,  0.01672901,  1.1543018 ,  1.421966  ,  1.6227141 ,\n",
       "           1.52234   ,  1.3215919 ,  0.68588947, -0.05018703]),\n",
       "   '2': array([ 0.31992897, -0.69037301, -1.195524  , -0.79140321, -1.195524  ,\n",
       "          -1.195524  , -0.8924334 , -1.5996448 , -0.8924334 ,  0.31992897,\n",
       "           1.4312611 ,  1.2292007 ,  0.92611014,  0.21889877, -0.08419182,\n",
       "          -0.48831261,  0.11786857, -0.18522202,  0.21889877,  0.01683837,\n",
       "          -0.38728241,  2.1384725 ,  1.6333215 ,  1.0271403 ])},\n",
       "  {'dtw': {'window': 0.145}}],\n",
       " [{'1': array([-0.18421478, -1.0449706 , -1.4362232 , -1.2405969 , -1.4362232 ,\n",
       "          -1.3579727 , -1.0058453 , -0.77109376,  0.36353891,  1.4590463 ,\n",
       "           1.4590463 ,  1.3025452 ,  0.79391682,  0.16791259, -0.34071584,\n",
       "          -0.26246531, -0.26246531, -0.18421478,  0.0505368 ,  1.6937979 ,\n",
       "           1.419921  ,  0.87216735,  0.16791259, -0.22334005]),\n",
       "   '2': array([ 0.79402173,  0.59057132, -0.2910471 , -0.42668071, -0.49449752,\n",
       "          -0.96921513, -1.3761159 , -2.3933679 , -0.96921513, -0.2232303 ,\n",
       "           0.1836705 ,  0.59057132,  0.59057132,  0.45493772, -0.49449752,\n",
       "          -0.35886391, -0.56231433, -0.42668071, -0.35886391,  0.38712092,\n",
       "           0.59057132,  1.2687393 ,  2.3538081 ,  1.5400065 ])},\n",
       "  {'euclidean': {}}],\n",
       " [{'1': array([-1.1015447 , -1.2969407 , -1.5314158 , -1.5900346 , -1.6291138 ,\n",
       "          -1.4141783 , -1.1015447 , -0.10502533,  0.59840013,  1.0087316 ,\n",
       "           0.95011285,  0.83287528,  0.77425649,  0.36392497,  0.38346457,\n",
       "           0.42254376,  0.55932093,  1.2627464 ,  1.282286  ,  1.0673504 ,\n",
       "           0.55932093,  0.28576659, -0.10502533, -0.47627765]),\n",
       "   '2': array([-0.92155957, -1.2832933 , -1.438322  , -1.5158363 , -1.5933507 ,\n",
       "          -1.5416745 , -1.4641601 , -0.68901651,  0.65456568,  1.0421375 ,\n",
       "           1.1713281 ,  1.14549   ,  0.88710876,  0.78375628,  0.88710876,\n",
       "           0.86127064,  0.70624192,  0.5512132 ,  0.42202262,  0.42202262,\n",
       "           0.24115578,  0.34450826,  0.37034638, -0.04306353])},\n",
       "  {'ddtw': {'window': 0.133}}],\n",
       " [{'1': array([-1.0509161 , -1.2250324 , -1.5981388 , -1.6478863 , -1.6478863 ,\n",
       "          -1.3245274 , -1.0509161 , -0.3047035 ,  0.56587793,  1.2125955 ,\n",
       "           1.162848  ,  0.98873177,  0.73999422,  0.36688789,  0.51613042,\n",
       "           0.49125667,  0.6404992 ,  0.34201414,  0.51613042,  1.3867118 ,\n",
       "           0.93898426,  0.54100418, -0.05596595, -0.50369354]),\n",
       "   '2': array([ 0.54147636, -0.13950701, -0.70699314, -0.99073622, -1.2177307 ,\n",
       "          -1.1609821 , -0.76374176, -0.59349593, -1.2744793 , -0.30975285,\n",
       "           0.42797913,  0.76847082,  0.54147636,  0.08748745, -0.30975285,\n",
       "          -0.42325008, -0.4799987 , -0.70699314, -0.59349593,  0.20098468,\n",
       "           2.1304376 ,  2.1304376 ,  1.6764486 ,  1.1657111 ])},\n",
       "  {'twe': {'lmbda': 5, 'nu': 0.0001}}],\n",
       " [{'1': array([-0.93792522, -1.3634106 , -1.5052391 , -1.5457615 , -1.5660228 ,\n",
       "          -1.4039331 , -1.2215822 , -0.30982768,  0.80453891,  1.0274122 ,\n",
       "           1.0476734 ,  0.9666286 ,  0.80453891,  0.43983712,  0.37905349,\n",
       "           0.54114317,  0.70323286,  1.1287183 ,  1.1287183 ,  0.9666286 ,\n",
       "           0.48035954,  0.19670259, -0.22878284, -0.532701  ]),\n",
       "   '2': array([ 0.73517838, -0.44110703, -1.0012429 , -1.1132701 , -1.0572565 ,\n",
       "          -1.3933381 , -1.8974604 , -0.94522937,  0.34308325,  1.3513279 ,\n",
       "           1.6874094 ,  1.9114638 ,  1.743423  ,  0.45511043,  0.17504247,\n",
       "          -0.04901189,  0.11902888,  0.0070017 , -0.16103907, -0.04901189,\n",
       "          -0.44110703, -0.49712062,  0.51112402,  0.0070017 ])},\n",
       "  {'msm': {'c': 0.1}}]]"
      ]
     },
     "execution_count": 7,
     "metadata": {},
     "output_type": "execute_result"
    }
   ],
   "source": [
    "splitters"
   ]
  },
  {
   "cell_type": "code",
   "execution_count": 8,
   "id": "df3607b7-3ccf-4e6c-bbc3-7d473fc7cde0",
   "metadata": {},
   "outputs": [
    {
     "data": {
      "text/plain": [
       "[{'1': array([-1.1015447 , -1.2969407 , -1.5314158 , -1.5900346 , -1.6291138 ,\n",
       "         -1.4141783 , -1.1015447 , -0.10502533,  0.59840013,  1.0087316 ,\n",
       "          0.95011285,  0.83287528,  0.77425649,  0.36392497,  0.38346457,\n",
       "          0.42254376,  0.55932093,  1.2627464 ,  1.282286  ,  1.0673504 ,\n",
       "          0.55932093,  0.28576659, -0.10502533, -0.47627765]),\n",
       "  '2': array([-0.92155957, -1.2832933 , -1.438322  , -1.5158363 , -1.5933507 ,\n",
       "         -1.5416745 , -1.4641601 , -0.68901651,  0.65456568,  1.0421375 ,\n",
       "          1.1713281 ,  1.14549   ,  0.88710876,  0.78375628,  0.88710876,\n",
       "          0.86127064,  0.70624192,  0.5512132 ,  0.42202262,  0.42202262,\n",
       "          0.24115578,  0.34450826,  0.37034638, -0.04306353])},\n",
       " {'ddtw': {'window': 0.133}}]"
      ]
     },
     "execution_count": 8,
     "metadata": {},
     "output_type": "execute_result"
    }
   ],
   "source": [
    "best_splitter"
   ]
  },
  {
   "cell_type": "code",
   "execution_count": 9,
   "id": "24f06009-f51e-430e-8164-f43d8b229247",
   "metadata": {},
   "outputs": [
    {
     "data": {
      "text/plain": [
       "2"
      ]
     },
     "execution_count": 9,
     "metadata": {},
     "output_type": "execute_result"
    }
   ],
   "source": [
    "len(y_subs)"
   ]
  },
  {
   "cell_type": "code",
   "execution_count": 41,
   "id": "b5233060-375f-41d3-91fe-d98432ec34ce",
   "metadata": {},
   "outputs": [],
   "source": [
    "import numpy as np\n",
    "\n",
    "def get_best_splitter(X, y, n_splitters):\n",
    "    max_gain = float('-inf')\n",
    "    best_splitter = None\n",
    "    best_y_subs = None  # Track y_subs for the best splitter\n",
    "    # For quality analysis\n",
    "    gains = []\n",
    "    splitters = []\n",
    "    \n",
    "    for i in range(n_splitters):\n",
    "        splitter = clf.get_candidate_splitter(X, y)\n",
    "        labels = list(splitter[0].keys())[0]\n",
    "        measure = list(splitter[1].keys())[0]\n",
    "        y_subs = [[] for _ in range(len(labels))]\n",
    "        \n",
    "        for j in range(X.shape[0]):\n",
    "            min_dist = float('inf')\n",
    "            sub = None\n",
    "            for k in range(len(labels)):\n",
    "                dist = distance(X[j], splitter[0][labels[k]], metric=measure, kwargs=splitter[1][measure])\n",
    "                if dist < min_dist:\n",
    "                    min_dist = dist\n",
    "                    sub = k\n",
    "            y_subs[sub].append(y[j])\n",
    "        \n",
    "        y_subs = [np.array(ele) for ele in y_subs]\n",
    "        gini_index = clf.gini_gain(y, y_subs)\n",
    "        gains.append(gini_index)\n",
    "        splitters.append(splitter)\n",
    "        \n",
    "        if gini_index > max_gain:\n",
    "            max_gain = gini_index\n",
    "            best_splitter = splitter\n",
    "            best_y_subs = y_subs  # Update best_y_subs\n",
    "    \n",
    "    return best_splitter, gains, splitters, best_y_subs\n"
   ]
  },
  {
   "cell_type": "code",
   "execution_count": 11,
   "id": "eda8f753-7b51-481e-9aa3-82138d27e7f8",
   "metadata": {},
   "outputs": [],
   "source": [
    "best_splitter, gains, splitters, y_subs = get_best_splitter(X,y,6)"
   ]
  },
  {
   "cell_type": "code",
   "execution_count": 12,
   "id": "8e665e49-879a-4fd7-a744-734cdaa17bf6",
   "metadata": {},
   "outputs": [
    {
     "data": {
      "text/plain": [
       "[array(['1', '1', '2', '1', '2', '1', '1', '2', '2', '1', '1', '2', '1',\n",
       "        '1', '1', '2', '1', '1', '2', '1', '1', '1', '1', '1', '2', '2',\n",
       "        '1', '1', '2', '1', '2', '2', '1', '2', '1', '2', '1', '1', '2',\n",
       "        '2', '1', '2', '2', '1', '1', '2', '2', '2', '1', '2', '2', '1',\n",
       "        '1', '2', '1', '1', '2', '1', '2', '2', '2', '2', '1', '2', '2',\n",
       "        '2', '2', '2', '1', '1', '2', '1', '1', '1', '2', '1', '1', '2',\n",
       "        '1', '2', '1', '1', '1', '2', '1', '1', '1', '2', '2', '1', '2',\n",
       "        '1', '2', '1', '2', '2', '2', '1', '2', '1', '1', '2', '2', '2',\n",
       "        '2', '1', '2', '2', '2', '2', '2', '2', '2', '2', '1', '2', '2',\n",
       "        '1', '2', '2', '2', '2', '2', '1', '1', '2', '1', '2', '1', '1',\n",
       "        '1', '2', '2', '2', '2', '1', '2', '2', '1', '1', '1', '2', '1',\n",
       "        '2', '1', '1', '1', '2', '2', '1', '2', '1', '1', '2', '1', '1',\n",
       "        '1', '2', '1', '2', '1', '1', '1', '1', '1', '2', '2', '1', '2',\n",
       "        '1', '1', '2', '1', '1', '2', '1', '1', '2', '1', '2', '2', '1',\n",
       "        '1', '1', '1', '2', '1', '1', '1', '2', '2', '2', '2', '1', '2',\n",
       "        '1', '2', '2', '1', '1', '2', '2', '2', '1', '1', '2', '2', '1',\n",
       "        '1', '1', '1', '1', '1', '1', '1', '1', '1', '2', '1', '2', '2',\n",
       "        '2', '1', '1', '2', '2', '2', '1', '1', '2', '1', '2', '2', '1',\n",
       "        '1', '1', '1', '1', '2', '2', '2', '1', '1', '2', '2', '2', '1',\n",
       "        '2', '1', '2', '2', '2', '2', '2', '2', '1', '1', '2', '1', '2',\n",
       "        '2', '1', '1', '1', '1', '1', '1', '2', '2', '1', '2', '2', '1',\n",
       "        '2', '2', '2', '2', '1', '1', '1', '2', '1', '2', '2', '2', '2',\n",
       "        '1', '1', '2', '1', '2', '2', '1', '1', '2', '2', '1', '1', '1',\n",
       "        '2', '1', '2', '2', '2', '2', '1', '2', '2', '2', '1', '2', '2',\n",
       "        '1', '2', '1', '1', '1', '2', '1', '1', '1', '1', '1', '1', '1',\n",
       "        '1', '2', '1', '1', '1', '1', '1', '2', '2', '2', '1', '1', '2',\n",
       "        '1', '1', '2', '1', '2', '2', '1', '2', '1', '1', '1', '1', '2',\n",
       "        '1', '1', '2', '2', '1', '1', '1', '2', '1', '2', '1', '2', '2',\n",
       "        '2', '1', '2', '1', '2', '2', '1', '2', '2', '1', '1', '2', '1',\n",
       "        '2', '1', '1', '1', '1', '2', '1', '1', '1', '2', '2', '1', '2',\n",
       "        '1', '2', '2', '2', '2', '2', '2', '2', '1', '2', '2', '2', '2',\n",
       "        '1', '1', '2', '1', '2', '1', '1', '2', '2', '1', '2', '2', '1',\n",
       "        '2', '1', '1', '1', '1', '2', '2', '1', '1', '1', '1', '1', '2',\n",
       "        '2', '1', '1', '1', '1', '2', '1', '1', '2', '2', '1', '1', '2',\n",
       "        '1', '1', '1', '2', '1', '2', '2', '2', '2', '1', '1', '1', '1',\n",
       "        '2', '1', '1', '2', '1', '1', '1', '2', '2', '1', '2', '1', '2',\n",
       "        '2', '1', '1', '1', '2', '1', '1', '2', '1', '1', '1', '1', '2',\n",
       "        '1', '2', '1', '1', '2', '1', '2', '1', '1', '1', '2', '1', '2',\n",
       "        '1', '1', '2', '1', '1', '1', '2', '1', '1', '1', '1', '1', '1',\n",
       "        '2', '1', '1', '2', '2', '2', '1', '1', '1', '1', '1', '2', '1',\n",
       "        '1', '1', '1', '2', '1', '1', '2', '2', '1', '2', '1', '1', '2',\n",
       "        '2', '2', '1', '1', '2', '2', '1', '2', '1', '1', '1', '1', '2',\n",
       "        '2', '2', '2', '2', '1', '1', '2', '2', '1', '2', '1', '2', '1',\n",
       "        '1', '1', '1', '1', '1', '1', '1', '1', '2', '2', '1', '2', '1',\n",
       "        '2', '1', '1', '1', '1', '2', '1', '1', '1', '1', '2', '1', '2',\n",
       "        '2', '2', '2', '2', '2', '1', '1', '1', '2', '1', '1', '1', '1',\n",
       "        '2', '1', '2', '2', '1', '1', '2', '1', '1', '2', '1', '1', '2',\n",
       "        '2', '2', '2', '2', '1', '2', '1', '1', '2', '2', '1', '1', '2',\n",
       "        '1', '1', '1', '1', '1', '1', '1', '1', '2', '2', '1', '2', '2',\n",
       "        '2', '1', '2', '1', '1', '1', '1', '1', '2', '2', '1', '2', '2',\n",
       "        '2', '1', '1', '2', '2', '1', '1', '2', '2', '1', '1', '1', '2',\n",
       "        '1', '1', '1', '2', '2', '2', '1', '2', '1', '1', '1', '2', '2',\n",
       "        '1', '1', '2', '1', '2', '1', '1', '2', '1', '2', '2', '2', '2',\n",
       "        '2', '2', '1', '2', '2', '1', '2', '2', '1', '2', '1', '2', '1',\n",
       "        '2', '2', '1', '1', '2', '1', '1', '2', '2', '1', '1', '1', '2',\n",
       "        '1', '1', '2', '1', '1', '1', '1', '2', '1', '2', '1', '1', '2',\n",
       "        '1', '1', '1', '2', '2', '2', '1', '1', '1', '2', '1', '2', '2',\n",
       "        '2', '2', '1', '1', '1', '1', '1', '1', '1', '2', '2', '1', '2',\n",
       "        '1', '2', '2', '1', '2', '1', '2', '2', '2', '1', '1', '1', '1',\n",
       "        '2', '1', '1', '2', '1', '1', '1', '1', '2', '1', '2', '2', '1',\n",
       "        '1', '1', '1', '1', '1', '1', '2', '2', '1', '1', '1', '1', '2',\n",
       "        '1', '1', '1', '1', '2', '1', '2', '1', '2', '2', '1', '1', '2',\n",
       "        '1', '1', '1', '1', '1', '1', '1', '2', '1', '2', '2', '2', '1',\n",
       "        '2', '2', '1', '1', '1', '2', '2', '1', '2', '2', '1', '2', '1',\n",
       "        '1', '1', '2', '1', '2', '2', '1', '2', '1', '1', '2', '1', '1',\n",
       "        '2', '1', '2', '2', '2', '1', '1', '2', '2', '2', '2', '1', '1',\n",
       "        '1', '2', '1', '2', '2', '1', '1', '2', '1', '1', '1', '2', '1',\n",
       "        '2', '1', '2', '2', '1', '2', '1', '2', '1', '1', '2', '1', '2',\n",
       "        '1', '2', '2', '2', '2', '2', '1', '2', '2', '1', '2', '2', '1',\n",
       "        '1', '2', '2', '2', '1', '1', '2', '1', '2', '2', '1', '2', '1',\n",
       "        '1', '2', '2', '2', '2', '1', '2', '1', '2', '1', '1', '2', '2',\n",
       "        '2', '1', '2', '2', '2', '1', '2', '2', '1', '1', '1', '2', '2',\n",
       "        '2', '1', '1', '2', '2', '2', '2', '1', '2', '1', '1', '1', '2',\n",
       "        '1', '2', '2', '1', '2', '2', '1', '2', '2', '1', '1', '1', '2',\n",
       "        '1', '2', '1', '2', '2'], dtype='<U1'),\n",
       " array(['2', '1', '2', '2', '2', '2', '2', '2', '2', '2', '2', '2', '1',\n",
       "        '2', '2', '2', '2', '2', '2', '2', '1', '2', '1', '2', '2', '1',\n",
       "        '2', '2', '2', '2', '1', '1', '2', '2', '2', '1', '2', '2', '2',\n",
       "        '2', '2', '1', '1', '1', '2', '1', '2', '2', '2', '1', '2', '2',\n",
       "        '2', '1', '2', '1', '2', '2', '2', '2', '2', '1', '2', '2', '2',\n",
       "        '2', '1', '2', '1', '1', '2', '2', '2', '2', '2', '2', '2', '2',\n",
       "        '2', '2', '1', '2', '2', '2', '2', '1', '2', '2', '1', '2', '2',\n",
       "        '2', '2', '2', '2', '1', '2', '2', '2', '2', '2', '1', '2', '2',\n",
       "        '1', '2', '2', '2', '2', '1', '2', '2', '2', '2', '2', '2', '2',\n",
       "        '2', '2', '2', '1', '2', '2', '1', '2', '2', '2', '2', '2'],\n",
       "       dtype='<U1')]"
      ]
     },
     "execution_count": 12,
     "metadata": {},
     "output_type": "execute_result"
    }
   ],
   "source": [
    "y_subs"
   ]
  },
  {
   "cell_type": "code",
   "execution_count": 13,
   "id": "89a13e1a-0074-46c3-a368-e703b4062506",
   "metadata": {},
   "outputs": [
    {
     "data": {
      "text/plain": [
       "2"
      ]
     },
     "execution_count": 13,
     "metadata": {},
     "output_type": "execute_result"
    }
   ],
   "source": [
    "len(y_subs)"
   ]
  },
  {
   "cell_type": "code",
   "execution_count": 14,
   "id": "a4bc7f53-e08f-4b7d-a385-7ec8043833c3",
   "metadata": {},
   "outputs": [
    {
     "data": {
      "text/plain": [
       "[0.04016552827019579,\n",
       " 0.004428874219237711,\n",
       " 0.2046877647162143,\n",
       " 0.08169976407282095,\n",
       " 0.11379071802913782,\n",
       " 0.02122238041697176]"
      ]
     },
     "execution_count": 14,
     "metadata": {},
     "output_type": "execute_result"
    }
   ],
   "source": [
    "gains"
   ]
  },
  {
   "cell_type": "code",
   "execution_count": 15,
   "id": "08ec8899-4c11-4f11-9e4f-ce635d5ffea1",
   "metadata": {},
   "outputs": [
    {
     "data": {
      "text/plain": [
       "[[{'1': array([-0.32859526, -0.94077274, -1.3368876 , -1.4089085 , -1.5529502 ,\n",
       "          -1.372898  , -1.1928458 , -0.9047623 , -0.50864746, -0.14854306,\n",
       "           0.39161353,  0.71570749,  1.0398015 ,  0.31959265,  0.24757177,\n",
       "          -0.11253262, -0.1845535 ,  0.35560309,  1.2558641 ,  1.5439476 ,\n",
       "           1.6159685 ,  1.3999058 ,  0.85974925,  0.24757177]),\n",
       "   '2': array([ 0.87310195,  0.33234204, -0.41120284, -0.6815828 , -0.95196275,\n",
       "          -1.0195578 , -0.41120284, -1.6279127 , -1.2899377 , -0.54639282,\n",
       "           0.12955707,  0.53512701,  0.53512701,  0.26474705, -0.27601286,\n",
       "          -0.27601286, -0.47879783, -0.61398781, -0.47879783, -0.34360785,\n",
       "           0.67031698,  2.3601917 ,  2.0898117 ,  1.6166468 ])},\n",
       "  {'twe': {'lmbda': 4, 'nu': 0.001}}],\n",
       " [{'1': array([ 0.43000648,  0.00754397, -0.53562211, -0.89773284, -1.0184364 ,\n",
       "          -0.83738105, -0.53562211, -0.05280782, -0.53562211,  0.3696547 ,\n",
       "           0.79211719,  0.43000648,  0.00754397, -0.17351139, -0.53562211,\n",
       "          -0.89773284, -1.0787882 , -1.13914   , -0.83738105, -0.29421496,\n",
       "           1.3352833 ,  2.4216155 ,  1.9388012 ,  1.6370422 ]),\n",
       "   '2': array([ 0.89930603, -0.25400247, -0.47368027, -1.5171499 , -1.2425526 ,\n",
       "          -0.91303589, -2.1212638 , -1.1876332 ,  0.2402726 ,  1.5583395 ,\n",
       "           1.7230978 ,  1.8329367 ,  1.1739033 ,  0.51486986,  0.2402726 ,\n",
       "           0.0205948 , -0.08924411, -0.30892192, -0.25400247, -0.14416356,\n",
       "          -0.25400247, -0.25400247,  0.67962822,  0.1304337 ])},\n",
       "  {'wdtw': {'g': 0.735}}],\n",
       " [{'1': array([-0.58060799, -1.1742341 , -1.3929384 , -1.3929384 , -1.4866688 ,\n",
       "          -1.6428862 , -1.2054775 , -0.20568623,  0.41918333,  1.1690268 ,\n",
       "           1.575192  ,  1.3252442 ,  0.82534857,  0.41918333, -0.01822537,\n",
       "          -0.04946885,  0.04426159,  0.45042681,  1.2002703 ,  1.2002703 ,\n",
       "           0.88783553,  0.35669638, -0.14319928, -0.58060799]),\n",
       "   '2': array([-0.75366866, -1.1758313 , -1.3706757 , -1.4356238 , -1.5330459 ,\n",
       "          -1.4356238 , -1.0784092 , -0.81861676,  0.41539726,  1.2597227 ,\n",
       "           1.2921967 ,  1.3896189 ,  1.0324043 ,  0.77261183,  0.77261183,\n",
       "           1.0324043 ,  1.0973524 ,  0.74013778,  0.3829232 ,  0.22055294,\n",
       "          -0.29903191, -0.26655785,  0.02570862, -0.26655785])},\n",
       "  {'twe': {'lmbda': 5, 'nu': 1e-05}}],\n",
       " [{'1': array([-0.99558473, -1.381318  , -1.5741846 , -1.6384735 , -1.5956142 ,\n",
       "          -1.4884661 , -1.038444  ,  0.1616151 ,  0.6544965 ,  1.1902372 ,\n",
       "           1.3188149 ,  1.083089  ,  0.71878538,  0.41877061,  0.50448912,\n",
       "           0.56877799,  0.52591874,  0.54734837,  0.84736314,  0.99737052,\n",
       "           0.6544965 ,  0.18304472, -0.13839967, -0.52413294]),\n",
       "   '2': array([-0.78041664, -1.3014562 , -1.4385719 , -1.5756875 , -1.6305338 ,\n",
       "          -1.465995  , -1.2740331 , -0.67072411,  0.70043251,  1.2214721 ,\n",
       "           1.3037415 ,  1.1940489 ,  1.0843564 ,  0.70043251,  0.67300938,\n",
       "           0.81012505,  0.81012505,  0.56331685,  0.42620119,  0.28908553,\n",
       "           0.0971236 ,  0.0971236 ,  0.31650866, -0.1496846 ])},\n",
       "  {'lcss': {'epsilon': 0.526, 'window': 0.046}}],\n",
       " [{'1': array([-0.91662145, -1.2836099 , -1.5078805 , -1.5894335 , -1.6098218 ,\n",
       "          -1.4671041 , -1.1001157 , -0.08070346,  0.59210859,  1.04065   ,\n",
       "           1.1018147 ,  1.0610382 ,  0.81637925,  0.38822615,  0.32706141,\n",
       "           0.44939088,  0.42900263,  0.81637925,  1.2853089 ,  1.1629794 ,\n",
       "           0.65327332,  0.26589668, -0.1418682 , -0.69235076]),\n",
       "   '2': array([-0.92834935, -1.095871  , -1.4029941 , -1.6542767 , -1.6542767 ,\n",
       "          -1.6263564 , -1.291313  , -0.17450176,  0.57934584,  1.4169543 ,\n",
       "           1.4169543 ,  1.193592  ,  0.97022976,  0.57934584,  0.57934584,\n",
       "           0.52350527,  0.57934584,  0.49558499,  0.21638218,  0.16054162,\n",
       "           0.71894724,  0.55142555, -0.03490035, -0.1186612 ])},\n",
       "  {'lcss': {'epsilon': 0.648, 'window': 0.163}}],\n",
       " [{'1': array([-0.81884402, -1.2746953 , -1.3506705 , -1.6039213 , -1.6039213 ,\n",
       "          -1.5785962 , -1.14807   , -0.7428688 ,  0.49805976,  1.0298863 ,\n",
       "           0.95391107,  0.77663556,  0.6500102 ,  0.16883382,  0.59936006,\n",
       "           0.52338484,  0.54870991,  0.42208455,  1.3844373 ,  1.4097624 ,\n",
       "           0.85261078,  0.54870991, -0.00844169, -0.23636735]),\n",
       "   '2': array([ 0.54095839,  0.13268791, -0.19392848, -0.60219896, -0.76550715,\n",
       "          -0.60219896, -0.52054486, -1.500394  , -1.4187399 , -0.60219896,\n",
       "          -0.03062029,  0.13268791,  0.13268791, -0.11227438, -0.27558257,\n",
       "          -0.52054486, -0.52054486, -0.43889077, -0.35723667,  0.05103381,\n",
       "           0.86757477,  2.5006567 ,  2.1740403 ,  1.929078  ])},\n",
       "  {'euclidean': {}}]]"
      ]
     },
     "execution_count": 15,
     "metadata": {},
     "output_type": "execute_result"
    }
   ],
   "source": [
    "splitters"
   ]
  },
  {
   "cell_type": "code",
   "execution_count": 16,
   "id": "d0bd0b8e-552c-44d3-ba83-9e46dbc0aec6",
   "metadata": {},
   "outputs": [
    {
     "data": {
      "text/plain": [
       "[{'1': array([-0.58060799, -1.1742341 , -1.3929384 , -1.3929384 , -1.4866688 ,\n",
       "         -1.6428862 , -1.2054775 , -0.20568623,  0.41918333,  1.1690268 ,\n",
       "          1.575192  ,  1.3252442 ,  0.82534857,  0.41918333, -0.01822537,\n",
       "         -0.04946885,  0.04426159,  0.45042681,  1.2002703 ,  1.2002703 ,\n",
       "          0.88783553,  0.35669638, -0.14319928, -0.58060799]),\n",
       "  '2': array([-0.75366866, -1.1758313 , -1.3706757 , -1.4356238 , -1.5330459 ,\n",
       "         -1.4356238 , -1.0784092 , -0.81861676,  0.41539726,  1.2597227 ,\n",
       "          1.2921967 ,  1.3896189 ,  1.0324043 ,  0.77261183,  0.77261183,\n",
       "          1.0324043 ,  1.0973524 ,  0.74013778,  0.3829232 ,  0.22055294,\n",
       "         -0.29903191, -0.26655785,  0.02570862, -0.26655785])},\n",
       " {'twe': {'lmbda': 5, 'nu': 1e-05}}]"
      ]
     },
     "execution_count": 16,
     "metadata": {},
     "output_type": "execute_result"
    }
   ],
   "source": [
    "best_splitter"
   ]
  },
  {
   "cell_type": "code",
   "execution_count": null,
   "id": "23fee880-e2b8-410a-bf2f-cf16bf787e03",
   "metadata": {},
   "outputs": [],
   "source": []
  }
 ],
 "metadata": {
  "kernelspec": {
   "display_name": "Python 3 (ipykernel)",
   "language": "python",
   "name": "python3"
  },
  "language_info": {
   "codemirror_mode": {
    "name": "ipython",
    "version": 3
   },
   "file_extension": ".py",
   "mimetype": "text/x-python",
   "name": "python",
   "nbconvert_exporter": "python",
   "pygments_lexer": "ipython3",
   "version": "3.12.2"
  }
 },
 "nbformat": 4,
 "nbformat_minor": 5
}
