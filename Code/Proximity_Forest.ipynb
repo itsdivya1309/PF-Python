{
 "cells": [
  {
   "cell_type": "code",
   "execution_count": 10,
   "id": "2d1ecc24-cb41-4ce4-bc94-b3d08d30f530",
   "metadata": {},
   "outputs": [],
   "source": [
    "from aeon.classification.distance_based import ProximityForest\n",
    "from aeon.datasets import load_arrow_head\n",
    "X, y = load_arrow_head(split='TEST', return_type='numpy3d')\n",
    "X_test, y_test = load_arrow_head(split='TRAIN', return_type='numpy3d')"
   ]
  },
  {
   "cell_type": "code",
   "execution_count": 21,
   "id": "a6e5cc68-890f-4afd-9de4-1b6b2c7c6589",
   "metadata": {},
   "outputs": [],
   "source": [
    "clf = ProximityForest(n_trees=50, n_jobs=-1, n_splitters=3)"
   ]
  },
  {
   "cell_type": "code",
   "execution_count": 12,
   "id": "9cad32de-8fa7-4f11-a733-f311b24edf0f",
   "metadata": {},
   "outputs": [],
   "source": [
    "import time "
   ]
  },
  {
   "cell_type": "code",
   "execution_count": 22,
   "id": "75f6367d-0aba-493a-a3c8-60d0c8e2f915",
   "metadata": {},
   "outputs": [
    {
     "name": "stdout",
     "output_type": "stream",
     "text": [
      "Elapsed = 399.3518910999992 s\n"
     ]
    }
   ],
   "source": [
    "start = time.perf_counter()\n",
    "clf.fit(X,y)\n",
    "end = time.perf_counter()\n",
    "print('Elapsed = {} s'.format((end-start)))"
   ]
  },
  {
   "cell_type": "code",
   "execution_count": 23,
   "id": "bec2aa22-7639-41a0-92d4-83834ed5056f",
   "metadata": {},
   "outputs": [],
   "source": [
    "from sklearn.metrics import accuracy_score"
   ]
  },
  {
   "cell_type": "code",
   "execution_count": 24,
   "id": "dbc4fcae-4ebb-4342-8c4a-7b8036cac15f",
   "metadata": {},
   "outputs": [
    {
     "name": "stdout",
     "output_type": "stream",
     "text": [
      "Elapsed = 18.787481999999727 s\n"
     ]
    }
   ],
   "source": [
    "start = time.perf_counter()\n",
    "y_pred = clf.predict(X_test)\n",
    "end = time.perf_counter()\n",
    "print('Elapsed = {} s'.format((end-start)))"
   ]
  },
  {
   "cell_type": "code",
   "execution_count": 25,
   "id": "7ad48c1f-88f2-45d8-8c47-084aec9c0210",
   "metadata": {},
   "outputs": [
    {
     "data": {
      "text/plain": [
       "0.9444444444444444"
      ]
     },
     "execution_count": 25,
     "metadata": {},
     "output_type": "execute_result"
    }
   ],
   "source": [
    "score = accuracy_score(y_pred, y_test)\n",
    "score"
   ]
  },
  {
   "cell_type": "code",
   "execution_count": 26,
   "id": "ef3f1327-8934-48f4-aa56-e80470fdea11",
   "metadata": {},
   "outputs": [
    {
     "data": {
      "text/plain": [
       "(175, 1, 251)"
      ]
     },
     "execution_count": 26,
     "metadata": {},
     "output_type": "execute_result"
    }
   ],
   "source": [
    "X.shape"
   ]
  },
  {
   "cell_type": "code",
   "execution_count": 27,
   "id": "e3cee9b8-a9bb-4c4d-9671-caee74768065",
   "metadata": {},
   "outputs": [
    {
     "data": {
      "text/plain": [
       "(36, 1, 251)"
      ]
     },
     "execution_count": 27,
     "metadata": {},
     "output_type": "execute_result"
    }
   ],
   "source": [
    "X_test.shape"
   ]
  },
  {
   "cell_type": "code",
   "execution_count": 28,
   "id": "1394d1e3-0ee1-48b7-a0e5-fa2bfde899ee",
   "metadata": {},
   "outputs": [
    {
     "data": {
      "text/plain": [
       "1.0"
      ]
     },
     "execution_count": 28,
     "metadata": {},
     "output_type": "execute_result"
    }
   ],
   "source": [
    "accuracy_score(y, clf.predict(X))"
   ]
  },
  {
   "cell_type": "code",
   "execution_count": 29,
   "id": "b3697634-1c06-4b7d-a57c-66e4b60c9acd",
   "metadata": {},
   "outputs": [
    {
     "data": {
      "text/plain": [
       "[ProximityTree(n_jobs=-1, n_splitters=3),\n",
       " ProximityTree(n_jobs=-1, n_splitters=3),\n",
       " ProximityTree(n_jobs=-1, n_splitters=3),\n",
       " ProximityTree(n_jobs=-1, n_splitters=3),\n",
       " ProximityTree(n_jobs=-1, n_splitters=3),\n",
       " ProximityTree(n_jobs=-1, n_splitters=3),\n",
       " ProximityTree(n_jobs=-1, n_splitters=3),\n",
       " ProximityTree(n_jobs=-1, n_splitters=3),\n",
       " ProximityTree(n_jobs=-1, n_splitters=3),\n",
       " ProximityTree(n_jobs=-1, n_splitters=3),\n",
       " ProximityTree(n_jobs=-1, n_splitters=3),\n",
       " ProximityTree(n_jobs=-1, n_splitters=3),\n",
       " ProximityTree(n_jobs=-1, n_splitters=3),\n",
       " ProximityTree(n_jobs=-1, n_splitters=3),\n",
       " ProximityTree(n_jobs=-1, n_splitters=3),\n",
       " ProximityTree(n_jobs=-1, n_splitters=3),\n",
       " ProximityTree(n_jobs=-1, n_splitters=3),\n",
       " ProximityTree(n_jobs=-1, n_splitters=3),\n",
       " ProximityTree(n_jobs=-1, n_splitters=3),\n",
       " ProximityTree(n_jobs=-1, n_splitters=3),\n",
       " ProximityTree(n_jobs=-1, n_splitters=3),\n",
       " ProximityTree(n_jobs=-1, n_splitters=3),\n",
       " ProximityTree(n_jobs=-1, n_splitters=3),\n",
       " ProximityTree(n_jobs=-1, n_splitters=3),\n",
       " ProximityTree(n_jobs=-1, n_splitters=3),\n",
       " ProximityTree(n_jobs=-1, n_splitters=3),\n",
       " ProximityTree(n_jobs=-1, n_splitters=3),\n",
       " ProximityTree(n_jobs=-1, n_splitters=3),\n",
       " ProximityTree(n_jobs=-1, n_splitters=3),\n",
       " ProximityTree(n_jobs=-1, n_splitters=3),\n",
       " ProximityTree(n_jobs=-1, n_splitters=3),\n",
       " ProximityTree(n_jobs=-1, n_splitters=3),\n",
       " ProximityTree(n_jobs=-1, n_splitters=3),\n",
       " ProximityTree(n_jobs=-1, n_splitters=3),\n",
       " ProximityTree(n_jobs=-1, n_splitters=3),\n",
       " ProximityTree(n_jobs=-1, n_splitters=3),\n",
       " ProximityTree(n_jobs=-1, n_splitters=3),\n",
       " ProximityTree(n_jobs=-1, n_splitters=3),\n",
       " ProximityTree(n_jobs=-1, n_splitters=3),\n",
       " ProximityTree(n_jobs=-1, n_splitters=3),\n",
       " ProximityTree(n_jobs=-1, n_splitters=3),\n",
       " ProximityTree(n_jobs=-1, n_splitters=3),\n",
       " ProximityTree(n_jobs=-1, n_splitters=3),\n",
       " ProximityTree(n_jobs=-1, n_splitters=3),\n",
       " ProximityTree(n_jobs=-1, n_splitters=3),\n",
       " ProximityTree(n_jobs=-1, n_splitters=3),\n",
       " ProximityTree(n_jobs=-1, n_splitters=3),\n",
       " ProximityTree(n_jobs=-1, n_splitters=3),\n",
       " ProximityTree(n_jobs=-1, n_splitters=3),\n",
       " ProximityTree(n_jobs=-1, n_splitters=3)]"
      ]
     },
     "execution_count": 29,
     "metadata": {},
     "output_type": "execute_result"
    }
   ],
   "source": [
    "clf.trees_"
   ]
  },
  {
   "cell_type": "code",
   "execution_count": null,
   "id": "a60afb18-1701-4552-94e6-1b5ff2147272",
   "metadata": {},
   "outputs": [],
   "source": []
  }
 ],
 "metadata": {
  "kernelspec": {
   "display_name": "Python 3 (ipykernel)",
   "language": "python",
   "name": "python3"
  },
  "language_info": {
   "codemirror_mode": {
    "name": "ipython",
    "version": 3
   },
   "file_extension": ".py",
   "mimetype": "text/x-python",
   "name": "python",
   "nbconvert_exporter": "python",
   "pygments_lexer": "ipython3",
   "version": "3.12.2"
  }
 },
 "nbformat": 4,
 "nbformat_minor": 5
}
