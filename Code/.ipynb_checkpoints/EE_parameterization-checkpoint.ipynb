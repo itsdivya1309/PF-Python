{
 "cells": [
  {
   "cell_type": "code",
   "execution_count": 1,
   "id": "a85466f3-4d13-4329-bdaa-921ed2bad3df",
   "metadata": {},
   "outputs": [],
   "source": [
    "import numpy as np"
   ]
  },
  {
   "cell_type": "code",
   "execution_count": 2,
   "id": "1c1aca54-2c8d-4d9d-a87b-123b88663be9",
   "metadata": {},
   "outputs": [],
   "source": [
    "from aeon.datasets import load_italy_power_demand\n",
    "X, y = load_italy_power_demand(return_type='numpy2d')"
   ]
  },
  {
   "cell_type": "code",
   "execution_count": 3,
   "id": "aab55d5c-eedd-4e2d-a044-2b4b2e01ff88",
   "metadata": {},
   "outputs": [
    {
     "data": {
      "text/plain": [
       "[{'euclidean': {}},\n",
       " {'dtw': {'window': 0.064}},\n",
       " {'ddtw': {'window': 0.181}},\n",
       " {'wdtw': {'g': 0.282}},\n",
       " {'wddtw': {'g': 0.908}},\n",
       " {'erp': {'g': 0.616}},\n",
       " {'lcss': {'epsilon': 0.644, 'window': 0.208}},\n",
       " {'twe': {'lmbda': 3, 'nu': 0.001}},\n",
       " {'msm': {'c': 0.01}}]"
      ]
     },
     "execution_count": 3,
     "metadata": {},
     "output_type": "execute_result"
    }
   ],
   "source": [
    "from splitter import get_parameter_value, get_candidate_splitter\n",
    "distances = get_parameter_value(X)\n",
    "distances"
   ]
  },
  {
   "cell_type": "code",
   "execution_count": 4,
   "id": "7237642e-4abd-4f55-be0b-ceac415e1858",
   "metadata": {},
   "outputs": [
    {
     "data": {
      "text/plain": [
       "[[{'1': array([-0.96811603, -1.3994791 , -1.4583013 , -1.5955532 , -1.5955532 ,\n",
       "          -1.3994791 , -1.1641901 , -0.22303434,  0.58086961,  1.0122327 ,\n",
       "           1.2083068 ,  1.0514475 ,  0.87498082,  0.5612622 ,  0.48283254,\n",
       "           0.62008443,  0.58086961,  0.93380306,  1.0514475 ,  0.97301789,\n",
       "           0.50243996,  0.12989911, -0.18381951, -0.57596778])},\n",
       "  {'2': array([-0.80377593, -1.1948021 , -1.4033493 , -1.4815546 , -1.4554861 ,\n",
       "          -1.3251441 , -1.5597598 , -0.77770752,  0.57784972,  1.3077652 ,\n",
       "           1.359902  ,  1.4381072 ,  0.94280745,  0.65605495,  0.78639699,\n",
       "           0.78639699,  0.8124654 ,  0.55178132,  0.36930246,  0.1868236 ,\n",
       "           0.03041314,  0.212892  ,  0.26502882, -0.28240776])}],\n",
       " {'erp': {'g': 0.616}}]"
      ]
     },
     "execution_count": 4,
     "metadata": {},
     "output_type": "execute_result"
    }
   ],
   "source": [
    "splitter = get_candidate_splitter(X,y,distances)\n",
    "splitter"
   ]
  },
  {
   "cell_type": "code",
   "execution_count": 5,
   "id": "0a15a860-939c-4896-9a45-c778f775f96e",
   "metadata": {},
   "outputs": [
    {
     "data": {
      "text/plain": [
       "array([-0.71051757, -1.1833204 , -1.3724416 , -1.5930829 , -1.4670021 ,\n",
       "       -1.3724416 , -1.0887599 ,  0.04596695,  0.92853223,  1.0861332 ,\n",
       "        1.2752543 ,  0.96005242,  0.61333034,  0.01444676, -0.6474772 ,\n",
       "       -0.26923494, -0.20619456,  0.61333034,  1.3698149 ,  1.4643754 ,\n",
       "        1.054613  ,  0.58181015,  0.1720477 , -0.26923494])"
      ]
     },
     "execution_count": 5,
     "metadata": {},
     "output_type": "execute_result"
    }
   ],
   "source": [
    "X[0]"
   ]
  },
  {
   "cell_type": "code",
   "execution_count": 6,
   "id": "f478b1a1-ae44-4258-96da-2771310326c4",
   "metadata": {},
   "outputs": [
    {
     "data": {
      "text/plain": [
       "numpy.str_"
      ]
     },
     "execution_count": 6,
     "metadata": {},
     "output_type": "execute_result"
    }
   ],
   "source": [
    "type(y[0])"
   ]
  },
  {
   "cell_type": "code",
   "execution_count": 7,
   "id": "748430df-15c7-4a04-81cc-a35a0a5238a5",
   "metadata": {},
   "outputs": [
    {
     "data": {
      "text/plain": [
       "array(['1', '2'], dtype='<U1')"
      ]
     },
     "execution_count": 7,
     "metadata": {},
     "output_type": "execute_result"
    }
   ],
   "source": [
    "np.unique(y)"
   ]
  },
  {
   "cell_type": "code",
   "execution_count": 8,
   "id": "a9375d9f-d075-4bfb-8737-4914d4453d42",
   "metadata": {},
   "outputs": [
    {
     "data": {
      "text/plain": [
       "(1096, 24)"
      ]
     },
     "execution_count": 8,
     "metadata": {},
     "output_type": "execute_result"
    }
   ],
   "source": [
    "X.shape"
   ]
  },
  {
   "cell_type": "code",
   "execution_count": 9,
   "id": "4f54fb48-c89d-48ca-9383-66bb7eb97c35",
   "metadata": {},
   "outputs": [
    {
     "data": {
      "text/plain": [
       "array(['1', '1', '2', ..., '2', '2', '2'], dtype='<U1')"
      ]
     },
     "execution_count": 9,
     "metadata": {},
     "output_type": "execute_result"
    }
   ],
   "source": [
    "y"
   ]
  },
  {
   "cell_type": "code",
   "execution_count": 10,
   "id": "610445ee-ba3c-4ac2-bde0-4ea3f4ed38d3",
   "metadata": {},
   "outputs": [
    {
     "data": {
      "text/plain": [
       "array([0, 0, 1, ..., 1, 1, 1], dtype=int64)"
      ]
     },
     "execution_count": 10,
     "metadata": {},
     "output_type": "execute_result"
    }
   ],
   "source": [
    "from sklearn.preprocessing import LabelEncoder\n",
    "\n",
    "label_encoder = LabelEncoder()\n",
    "y_labels = label_encoder.fit_transform(y)\n",
    "y_labels"
   ]
  },
  {
   "cell_type": "code",
   "execution_count": 11,
   "id": "c97d202d-38bb-4787-9576-89586c091316",
   "metadata": {},
   "outputs": [
    {
     "data": {
      "text/plain": [
       "array([0, 1], dtype=int64)"
      ]
     },
     "execution_count": 11,
     "metadata": {},
     "output_type": "execute_result"
    }
   ],
   "source": [
    "np.unique(y_labels)"
   ]
  },
  {
   "cell_type": "code",
   "execution_count": 12,
   "id": "2a9320ce-90c2-49d6-bd79-9cfbd34f7d3c",
   "metadata": {},
   "outputs": [
    {
     "name": "stdout",
     "output_type": "stream",
     "text": [
      "[ True  True  True ...  True  True  True]\n"
     ]
    }
   ],
   "source": [
    "new_y = label_encoder.inverse_transform(y_labels)\n",
    "print(new_y==y)"
   ]
  },
  {
   "cell_type": "code",
   "execution_count": 13,
   "id": "3c24448a-89bf-4ac8-98d5-c23e314a2470",
   "metadata": {},
   "outputs": [
    {
     "data": {
      "text/plain": [
       "(3, 25)"
      ]
     },
     "execution_count": 13,
     "metadata": {},
     "output_type": "execute_result"
    }
   ],
   "source": [
    "X_sample = X[:3]\n",
    "y_sample = y_labels[:3].reshape(-1,1)\n",
    "X_combined = np.concatenate([X_sample, y_sample], axis=1)\n",
    "X_combined.shape"
   ]
  },
  {
   "cell_type": "code",
   "execution_count": 14,
   "id": "98980cdf-ae97-46ca-81fc-a76e01b9715e",
   "metadata": {},
   "outputs": [
    {
     "data": {
      "text/plain": [
       "(1096, 25)"
      ]
     },
     "execution_count": 14,
     "metadata": {},
     "output_type": "execute_result"
    }
   ],
   "source": [
    "# Cobining the data with it's labels\n",
    "X_combined = np.concatenate([X,y_labels.reshape(-1,1)], axis=1)\n",
    "X_combined.shape"
   ]
  },
  {
   "cell_type": "code",
   "execution_count": 15,
   "id": "dd7e4515-bdbd-4b35-a31d-14e1d13029c5",
   "metadata": {},
   "outputs": [
    {
     "data": {
      "text/plain": [
       "(1096,)"
      ]
     },
     "execution_count": 15,
     "metadata": {},
     "output_type": "execute_result"
    }
   ],
   "source": [
    "y_labels.shape"
   ]
  },
  {
   "cell_type": "code",
   "execution_count": 16,
   "id": "57b743b6-6efa-4444-9d2c-3b95115af783",
   "metadata": {},
   "outputs": [
    {
     "name": "stdout",
     "output_type": "stream",
     "text": [
      "0\n",
      "1\n"
     ]
    }
   ],
   "source": [
    "for label in np.unique(y_labels):\n",
    "    print(label)"
   ]
  },
  {
   "cell_type": "code",
   "execution_count": 19,
   "id": "8263b99f-2b47-4b0a-9ec7-8408b48a1809",
   "metadata": {},
   "outputs": [
    {
     "ename": "IndexError",
     "evalue": "boolean index did not match indexed array along dimension 0; dimension is 0 but corresponding boolean dimension is 1096",
     "output_type": "error",
     "traceback": [
      "\u001b[1;31m---------------------------------------------------------------------------\u001b[0m",
      "\u001b[1;31mIndexError\u001b[0m                                Traceback (most recent call last)",
      "Cell \u001b[1;32mIn[19], line 4\u001b[0m\n\u001b[0;32m      2\u001b[0m \u001b[38;5;28;01mfor\u001b[39;00m label \u001b[38;5;129;01min\u001b[39;00m np\u001b[38;5;241m.\u001b[39munique(y):\n\u001b[0;32m      3\u001b[0m     y_new \u001b[38;5;241m=\u001b[39m y[y\u001b[38;5;241m==\u001b[39mlabel]\n\u001b[1;32m----> 4\u001b[0m     X_new \u001b[38;5;241m=\u001b[39m X[y\u001b[38;5;241m==\u001b[39mlabel]\n\u001b[0;32m      5\u001b[0m     n \u001b[38;5;241m=\u001b[39m np\u001b[38;5;241m.\u001b[39mrandom\u001b[38;5;241m.\u001b[39mrandint(\u001b[38;5;241m0\u001b[39m,X_new\u001b[38;5;241m.\u001b[39mshape[\u001b[38;5;241m0\u001b[39m])\n\u001b[0;32m      6\u001b[0m     exemplars\u001b[38;5;241m.\u001b[39mappend({y_new[n]: X_new[n,:]})\n",
      "\u001b[1;31mIndexError\u001b[0m: boolean index did not match indexed array along dimension 0; dimension is 0 but corresponding boolean dimension is 1096"
     ]
    }
   ],
   "source": [
    "exemplars = []\n",
    "for label in np.unique(y):\n",
    "    y_new = y[y==label]\n",
    "    X_new = X[y==label]\n",
    "    n = np.random.randint(0,X_new.shape[0])\n",
    "    exemplars.append({y_new[n]: X_new[n,:]})\n",
    "    print(X_new.shape)\n",
    "exemplars"
   ]
  },
  {
   "cell_type": "code",
   "execution_count": null,
   "id": "863f52f7-679c-4df1-a8ed-5d6633b18c8f",
   "metadata": {},
   "outputs": [],
   "source": [
    "y[:10]"
   ]
  },
  {
   "cell_type": "code",
   "execution_count": null,
   "id": "67727802-c7f0-4945-9457-259f399854bc",
   "metadata": {},
   "outputs": [],
   "source": [
    "import numpy as np\n",
    "\n",
    "# Example data (ensure X and y have matching first dimensions)\n",
    "X = np.random.rand(1096, 24)\n",
    "y = np.random.choice(['label1', 'label2', 'label3'], 1096)\n",
    "\n",
    "# Check dimensions\n",
    "print(f\"X shape: {X.shape}\")\n",
    "print(f\"y shape: {y.shape}\")\n",
    "\n",
    "# Apply masking based on unique labels in y\n",
    "for label in np.unique(y):\n",
    "    X_new = X[y == label]\n",
    "    print(f\"Shape for label '{label}': {X_new.shape}\")\n"
   ]
  },
  {
   "cell_type": "code",
   "execution_count": 3,
   "id": "3c07c5ae-8611-47e8-927c-96c25f53adc5",
   "metadata": {},
   "outputs": [],
   "source": [
    "import timeit"
   ]
  },
  {
   "cell_type": "code",
   "execution_count": 3,
   "id": "5c81d923-38a9-465b-8c93-a8431afe8850",
   "metadata": {},
   "outputs": [],
   "source": [
    "def get_parameter_value(X=None):\n",
    "    \"\"\"For a list of distance measures, generate a dictionary \n",
    "    of parameterized distances.\n",
    "    \n",
    "    Parameters\n",
    "    ----------\n",
    "    X : np.ndarray of shape (n_cases, n_timepoints)\n",
    "        \n",
    "    Returns\n",
    "    -------\n",
    "    distance_param : a list of distances and their \n",
    "        parameters.\n",
    "    \"\"\"\n",
    "    X_std = X.std()\n",
    "    param_ranges = {\n",
    "        \"euclidean\": {},\n",
    "        \"dtw\": {\"window\": (0,0.25)},\n",
    "        \"ddtw\": {\"window\": (0,0.25)},\n",
    "        \"wdtw\": {\"g\": (0,1)},\n",
    "        \"wddtw\": {\"g\": (0,1)},\n",
    "        \"erp\": {\"g\": (X_std/5,X_std)},\n",
    "        \"lcss\": {\"epsilon\": (X_std/5,X_std),\n",
    "                 \"window\": (0,0.25)}\n",
    "    }\n",
    "    random_params = []\n",
    "    for measure, ranges in param_ranges.items():\n",
    "        random_params.append({measure : {param: np.round(np.random.uniform(low,high),3)\n",
    "                                  for param, (low,high) in ranges.items()}})\n",
    "        \n",
    "    # For TWE\n",
    "    lmbda = np.random.randint(0,9)\n",
    "    exponent_range = np.arange(1,6)  # Exponents from -5 to 1 (inclusive)\n",
    "    random_exponent = np.random.choice(exponent_range)\n",
    "    nu = 1/10**random_exponent\n",
    "    random_params.append({ \"twe\" : {\"lmbda\": lmbda,\n",
    "                            \"nu\": nu}})\n",
    "    \n",
    "    # For MSM\n",
    "    base = 10\n",
    "    # Exponents from -2 to 2 (inclusive)\n",
    "    exponents = np.arange(-2, 3, dtype=np.float64)\n",
    "\n",
    "    # Randomly select an index from the exponent range\n",
    "    random_index = np.random.randint(0, len(exponents))\n",
    "    c = base ** exponents[random_index]\n",
    "    random_params.append({\"msm\" : {\"c\": c}})\n",
    "    \n",
    "    return random_params\n",
    "\n",
    "\n",
    "def get_candidate_splitter(X, y, paramterized_distances):\n",
    "    \"\"\"Generate candidate splitter.\n",
    "    \n",
    "    Takes a time series dataset and a set of parameterized \n",
    "    distance measures to create a candidate splitter, which \n",
    "    contains a parameterized distance measure and a set of exemplars.\n",
    "    \n",
    "    Parameters\n",
    "    ----------\n",
    "    X : np.ndarray shape (n_cases, n_timepoints)\n",
    "        The training input samples.\n",
    "    y : np.array shape (n_cases,) or (n_cases,1)\n",
    "    parameterized_distances : list\n",
    "        Contains the distances and their parameters.\n",
    "\n",
    "    Returns\n",
    "    -------\n",
    "    splitter : list of two dictionaries\n",
    "        A distance and its parameter values and a set of exemplars.\n",
    "    \"\"\"\n",
    "    _X = X\n",
    "    _y = y\n",
    "    #label_encoder = LabelEncoder()\n",
    "    #_y_label = label_encoder.fit_transform(_y)\n",
    "    #if _y_label.ndim == 1:\n",
    "    #    _y_label = _y_label.reshape(-1,1)\n",
    "    #_X_y = np.concatenate([_X,_y_label], axis=1)\n",
    "\n",
    "    # Now, I need to create a dictionary\n",
    "    # where the keys will be unique classes and values will be a random\n",
    "    # data of that class\n",
    "    exemplars = []\n",
    "    for label in np.unique(_y):\n",
    "        y_new = _y[_y==label]\n",
    "        X_new = _X[_y==label]\n",
    "        id = np.random.randint(0, X_new.shape[0])\n",
    "        exemplars.append({y_new[id] : X_new[id,:]})\n",
    "\n",
    "    # Create a list with first element exemplars and second element a random \n",
    "    # parameterized distance measure\n",
    "    n = np.random.randint(0,9)\n",
    "    splitter = [exemplars, paramterized_distances[n]]\n",
    "\n",
    "    \n",
    "    return splitter"
   ]
  },
  {
   "cell_type": "code",
   "execution_count": 4,
   "id": "ac289d17-35a1-44c2-9bec-127c2b4a95a9",
   "metadata": {},
   "outputs": [
    {
     "name": "stdout",
     "output_type": "stream",
     "text": [
      "Elapsed (with compilation) = 0.004015445709228516s\n"
     ]
    }
   ],
   "source": [
    "import time\n",
    "\n",
    "start = time.time()\n",
    "distance = get_parameter_value(X)\n",
    "end = time.time()\n",
    "print(\"Elapsed (with compilation) = {}s\".format((end - start)))"
   ]
  },
  {
   "cell_type": "code",
   "execution_count": 5,
   "id": "33541903-601d-418c-8dd4-82ba8b6f8ac5",
   "metadata": {},
   "outputs": [
    {
     "name": "stdout",
     "output_type": "stream",
     "text": [
      "Elapsed (after compilation) = 0.0009999275207519531s\n"
     ]
    }
   ],
   "source": [
    "start = time.time()\n",
    "distance = get_parameter_value(X)\n",
    "end = time.time()\n",
    "print(\"Elapsed (after compilation) = {}s\".format((end - start)))"
   ]
  },
  {
   "cell_type": "code",
   "execution_count": 6,
   "id": "473a2de0-8f53-4adf-b883-a8702f0bc11b",
   "metadata": {},
   "outputs": [
    {
     "name": "stdout",
     "output_type": "stream",
     "text": [
      "Elapsed (with compilation) = 0.0009999275207519531s\n"
     ]
    }
   ],
   "source": [
    "start = time.time()\n",
    "splitter = get_candidate_splitter(X,y,distance)\n",
    "end = time.time()\n",
    "print(\"Elapsed (with compilation) = {}s\".format((end - start)))"
   ]
  },
  {
   "cell_type": "code",
   "execution_count": 7,
   "id": "b7548d62-4ecc-4a42-89f2-02c6e7194a2c",
   "metadata": {},
   "outputs": [
    {
     "name": "stdout",
     "output_type": "stream",
     "text": [
      "Elapsed (after compilation) = 0.0013093948364257812s\n"
     ]
    }
   ],
   "source": [
    "start = time.time()\n",
    "splitter = get_candidate_splitter(X,y,distance)\n",
    "end = time.time()\n",
    "print(\"Elapsed (after compilation) = {}s\".format((end - start)))"
   ]
  },
  {
   "cell_type": "code",
   "execution_count": 8,
   "id": "3cbee1e1-8a88-409a-ad2f-191e670a3ae2",
   "metadata": {},
   "outputs": [
    {
     "ename": "TypingError",
     "evalue": "Failed in nopython mode pipeline (step: nopython frontend)\n\u001b[1m\u001b[1mInvalid use of getiter with parameters (Tuple(Tuple(unicode_type, DictType[undefined,undefined]<iv={}>), Tuple(unicode_type, DictType[unicode_type,Tuple(int64, float64)]<iv=None>), Tuple(unicode_type, DictType[unicode_type,Tuple(int64, float64)]<iv=None>), Tuple(unicode_type, DictType[unicode_type,UniTuple(int64 x 2)]<iv=None>), Tuple(unicode_type, DictType[unicode_type,UniTuple(int64 x 2)]<iv=None>), Tuple(unicode_type, DictType[unicode_type,UniTuple(float64 x 2)]<iv=None>), Tuple(unicode_type, DictType[unicode_type,UniTuple(float64 x 2)]<iv=None>)))\n\u001b[0m\n\u001b[0m\u001b[1mDuring: typing of intrinsic-call at D:\\Python\\Project\\Aeon\\PF_Python\\Code\\splitter.py (33)\u001b[0m\n\u001b[1m\nFile \"splitter.py\", line 33:\u001b[0m\n\u001b[1mdef get_parameter_value(X=None):\n    <source elided>\n    random_params = []\n\u001b[1m    for measure, ranges in param_ranges.items():\n\u001b[0m    \u001b[1m^\u001b[0m\u001b[0m\n",
     "output_type": "error",
     "traceback": [
      "\u001b[1;31m---------------------------------------------------------------------------\u001b[0m",
      "\u001b[1;31mTypingError\u001b[0m                               Traceback (most recent call last)",
      "Cell \u001b[1;32mIn[8], line 4\u001b[0m\n\u001b[0;32m      1\u001b[0m \u001b[38;5;28;01mfrom\u001b[39;00m \u001b[38;5;21;01msplitter\u001b[39;00m \u001b[38;5;28;01mimport\u001b[39;00m get_parameter_value, get_candidate_splitter\n\u001b[0;32m      3\u001b[0m start \u001b[38;5;241m=\u001b[39m time\u001b[38;5;241m.\u001b[39mtime()\n\u001b[1;32m----> 4\u001b[0m distance \u001b[38;5;241m=\u001b[39m get_parameter_value(X)\n\u001b[0;32m      5\u001b[0m end \u001b[38;5;241m=\u001b[39m time\u001b[38;5;241m.\u001b[39mtime()\n\u001b[0;32m      6\u001b[0m \u001b[38;5;28mprint\u001b[39m(\u001b[38;5;124m\"\u001b[39m\u001b[38;5;124mElapsed (with compilation) = \u001b[39m\u001b[38;5;132;01m{}\u001b[39;00m\u001b[38;5;124ms\u001b[39m\u001b[38;5;124m\"\u001b[39m\u001b[38;5;241m.\u001b[39mformat((end \u001b[38;5;241m-\u001b[39m start)))\n",
      "File \u001b[1;32m~\\anaconda3\\envs\\aeon-env\\Lib\\site-packages\\numba\\core\\dispatcher.py:468\u001b[0m, in \u001b[0;36m_DispatcherBase._compile_for_args\u001b[1;34m(self, *args, **kws)\u001b[0m\n\u001b[0;32m    464\u001b[0m         msg \u001b[38;5;241m=\u001b[39m (\u001b[38;5;124mf\u001b[39m\u001b[38;5;124m\"\u001b[39m\u001b[38;5;132;01m{\u001b[39;00m\u001b[38;5;28mstr\u001b[39m(e)\u001b[38;5;241m.\u001b[39mrstrip()\u001b[38;5;132;01m}\u001b[39;00m\u001b[38;5;124m \u001b[39m\u001b[38;5;130;01m\\n\u001b[39;00m\u001b[38;5;130;01m\\n\u001b[39;00m\u001b[38;5;124mThis error may have been caused \u001b[39m\u001b[38;5;124m\"\u001b[39m\n\u001b[0;32m    465\u001b[0m                \u001b[38;5;124mf\u001b[39m\u001b[38;5;124m\"\u001b[39m\u001b[38;5;124mby the following argument(s):\u001b[39m\u001b[38;5;130;01m\\n\u001b[39;00m\u001b[38;5;132;01m{\u001b[39;00margs_str\u001b[38;5;132;01m}\u001b[39;00m\u001b[38;5;130;01m\\n\u001b[39;00m\u001b[38;5;124m\"\u001b[39m)\n\u001b[0;32m    466\u001b[0m         e\u001b[38;5;241m.\u001b[39mpatch_message(msg)\n\u001b[1;32m--> 468\u001b[0m     error_rewrite(e, \u001b[38;5;124m'\u001b[39m\u001b[38;5;124mtyping\u001b[39m\u001b[38;5;124m'\u001b[39m)\n\u001b[0;32m    469\u001b[0m \u001b[38;5;28;01mexcept\u001b[39;00m errors\u001b[38;5;241m.\u001b[39mUnsupportedError \u001b[38;5;28;01mas\u001b[39;00m e:\n\u001b[0;32m    470\u001b[0m     \u001b[38;5;66;03m# Something unsupported is present in the user code, add help info\u001b[39;00m\n\u001b[0;32m    471\u001b[0m     error_rewrite(e, \u001b[38;5;124m'\u001b[39m\u001b[38;5;124munsupported_error\u001b[39m\u001b[38;5;124m'\u001b[39m)\n",
      "File \u001b[1;32m~\\anaconda3\\envs\\aeon-env\\Lib\\site-packages\\numba\\core\\dispatcher.py:409\u001b[0m, in \u001b[0;36m_DispatcherBase._compile_for_args.<locals>.error_rewrite\u001b[1;34m(e, issue_type)\u001b[0m\n\u001b[0;32m    407\u001b[0m     \u001b[38;5;28;01mraise\u001b[39;00m e\n\u001b[0;32m    408\u001b[0m \u001b[38;5;28;01melse\u001b[39;00m:\n\u001b[1;32m--> 409\u001b[0m     \u001b[38;5;28;01mraise\u001b[39;00m e\u001b[38;5;241m.\u001b[39mwith_traceback(\u001b[38;5;28;01mNone\u001b[39;00m)\n",
      "\u001b[1;31mTypingError\u001b[0m: Failed in nopython mode pipeline (step: nopython frontend)\n\u001b[1m\u001b[1mInvalid use of getiter with parameters (Tuple(Tuple(unicode_type, DictType[undefined,undefined]<iv={}>), Tuple(unicode_type, DictType[unicode_type,Tuple(int64, float64)]<iv=None>), Tuple(unicode_type, DictType[unicode_type,Tuple(int64, float64)]<iv=None>), Tuple(unicode_type, DictType[unicode_type,UniTuple(int64 x 2)]<iv=None>), Tuple(unicode_type, DictType[unicode_type,UniTuple(int64 x 2)]<iv=None>), Tuple(unicode_type, DictType[unicode_type,UniTuple(float64 x 2)]<iv=None>), Tuple(unicode_type, DictType[unicode_type,UniTuple(float64 x 2)]<iv=None>)))\n\u001b[0m\n\u001b[0m\u001b[1mDuring: typing of intrinsic-call at D:\\Python\\Project\\Aeon\\PF_Python\\Code\\splitter.py (33)\u001b[0m\n\u001b[1m\nFile \"splitter.py\", line 33:\u001b[0m\n\u001b[1mdef get_parameter_value(X=None):\n    <source elided>\n    random_params = []\n\u001b[1m    for measure, ranges in param_ranges.items():\n\u001b[0m    \u001b[1m^\u001b[0m\u001b[0m\n"
     ]
    }
   ],
   "source": [
    "from splitter import get_parameter_value, get_candidate_splitter\n",
    "\n",
    "start = time.time()\n",
    "distance = get_parameter_value(X)\n",
    "end = time.time()\n",
    "print(\"Elapsed (with compilation) = {}s\".format((end - start)))"
   ]
  },
  {
   "cell_type": "code",
   "execution_count": null,
   "id": "202079f1-feca-4886-9d04-29592b66544a",
   "metadata": {},
   "outputs": [],
   "source": []
  }
 ],
 "metadata": {
  "kernelspec": {
   "display_name": "Python 3 (ipykernel)",
   "language": "python",
   "name": "python3"
  },
  "language_info": {
   "codemirror_mode": {
    "name": "ipython",
    "version": 3
   },
   "file_extension": ".py",
   "mimetype": "text/x-python",
   "name": "python",
   "nbconvert_exporter": "python",
   "pygments_lexer": "ipython3",
   "version": "3.12.2"
  }
 },
 "nbformat": 4,
 "nbformat_minor": 5
}
