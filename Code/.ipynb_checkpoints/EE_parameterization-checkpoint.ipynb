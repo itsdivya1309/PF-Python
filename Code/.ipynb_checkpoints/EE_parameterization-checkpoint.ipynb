{
 "cells": [
  {
   "cell_type": "code",
   "execution_count": 1,
   "id": "a85466f3-4d13-4329-bdaa-921ed2bad3df",
   "metadata": {},
   "outputs": [],
   "source": [
    "import numpy as np"
   ]
  },
  {
   "cell_type": "code",
   "execution_count": 2,
   "id": "1c1aca54-2c8d-4d9d-a87b-123b88663be9",
   "metadata": {},
   "outputs": [],
   "source": [
    "from aeon.datasets import load_italy_power_demand\n",
    "X, y = load_italy_power_demand(return_type='numpy2d')"
   ]
  },
  {
   "cell_type": "code",
   "execution_count": 3,
   "id": "3810b674-ffc8-429c-bc8f-1659df56f7e7",
   "metadata": {},
   "outputs": [
    {
     "data": {
      "text/plain": [
       "(1096, 24)"
      ]
     },
     "execution_count": 3,
     "metadata": {},
     "output_type": "execute_result"
    }
   ],
   "source": [
    "X.shape"
   ]
  },
  {
   "cell_type": "code",
   "execution_count": 4,
   "id": "82eda6e3-7966-43b2-abc6-de3ede251ca8",
   "metadata": {},
   "outputs": [
    {
     "data": {
      "text/plain": [
       "0.9789450102267494"
      ]
     },
     "execution_count": 4,
     "metadata": {},
     "output_type": "execute_result"
    }
   ],
   "source": [
    "X.std()"
   ]
  },
  {
   "cell_type": "code",
   "execution_count": 5,
   "id": "2dd6dfbd-3c28-4769-a470-1cca33837b5b",
   "metadata": {},
   "outputs": [
    {
     "data": {
      "text/plain": [
       "(1096,)"
      ]
     },
     "execution_count": 5,
     "metadata": {},
     "output_type": "execute_result"
    }
   ],
   "source": [
    "y.shape"
   ]
  },
  {
   "cell_type": "code",
   "execution_count": 6,
   "id": "e9828c58-8cba-4e36-8d20-9ba522543f1b",
   "metadata": {},
   "outputs": [],
   "source": [
    "# List of all the distances used\n",
    "distances = ['dtw','ddtw','wdtw','wddtw','erp','lcss','twe','msm','euclidean']"
   ]
  },
  {
   "cell_type": "code",
   "execution_count": 7,
   "id": "6c33b6b1-f552-4cd4-8483-d1275ad4382a",
   "metadata": {},
   "outputs": [],
   "source": [
    "# Defining a function that takes in a distance measure and returns its parameter values\n",
    "def get_parameter_value(distance_measure, train_X=None):\n",
    "    parameterized_distance = {}\n",
    "    if distance_measure == \"dtw\" or \"ddtw\":\n",
    "        window = np.random.uniform(0,0.25)\n",
    "        parameterized_distance[distance_measure] = {'window': window}\n",
    "    elif distance_measure == \"wdtw\" or \"wddtw\":\n",
    "        g = np.random.uniform(0,1)\n",
    "        parameterized_distance[distance_measure] = {'g': g}\n",
    "    return parameterized_distance"
   ]
  },
  {
   "cell_type": "code",
   "execution_count": 8,
   "id": "cb831a1a-9dd3-43ea-93e5-4fb57c2ea6fb",
   "metadata": {},
   "outputs": [
    {
     "data": {
      "text/plain": [
       "{'wdtw': {'window': 0.1244869673559236}}"
      ]
     },
     "execution_count": 8,
     "metadata": {},
     "output_type": "execute_result"
    }
   ],
   "source": [
    "get_parameter_value('wdtw')"
   ]
  },
  {
   "cell_type": "code",
   "execution_count": 9,
   "id": "200d10c8-706b-4b5b-acbd-e535685a0ca1",
   "metadata": {},
   "outputs": [
    {
     "data": {
      "text/plain": [
       "{'ddtw': {'window': 0.20016468316425629}}"
      ]
     },
     "execution_count": 9,
     "metadata": {},
     "output_type": "execute_result"
    }
   ],
   "source": [
    "get_parameter_value('ddtw')"
   ]
  },
  {
   "cell_type": "code",
   "execution_count": 10,
   "id": "a5284e4d-d554-4859-b684-0aefd58837b9",
   "metadata": {},
   "outputs": [],
   "source": [
    "def get_parameter_value(X=None):\n",
    "    \"\"\"For a list of distance measures, generate a dictionary \n",
    "    of parameterized distances.\n",
    "    \n",
    "    Parameters\n",
    "    ----------\n",
    "    X : np.ndarray of shape (n_cases, n_timepoints)\n",
    "        \n",
    "    Returns\n",
    "    -------\n",
    "    distance_param : a dictionary of distances and their \n",
    "        parameters.\n",
    "    \"\"\"\n",
    "    X_std = X.std()\n",
    "    param_ranges = {\n",
    "        \"euclidean\": {},\n",
    "        \"dtw\": {\"window\": (0,0.25)},\n",
    "        \"ddtw\": {\"window\": (0,0.25)},\n",
    "        \"wdtw\": {\"g\": (0,1)},\n",
    "        \"wddtw\": {\"g\": (0,1)},\n",
    "        \"erp\": {\"g\": (X_std/5,X_std)},\n",
    "        \"lcss\": {\"epsilon\": (X_std/5,X_std),\n",
    "                 \"window\": (0,0.25)}\n",
    "    }\n",
    "    random_params = {}\n",
    "    for measure, ranges in param_ranges.items():\n",
    "        random_params[measure] = {param: np.random.uniform(low,high)\n",
    "                                  for param, (low,high) in ranges.items()}\n",
    "        \n",
    "    # For TWE\n",
    "    lmbda = np.random.randint(0,9)\n",
    "    exponent_range = np.arange(1,6)  # Exponents from -5 to 1 (inclusive)\n",
    "    random_exponent = np.random.choice(exponent_range)\n",
    "    nu = 1/10**random_exponent\n",
    "    random_params[\"twe\"] = {\"lmbda\": lmbda,\n",
    "                            \"nu\": nu}\n",
    "    \n",
    "    # For MSM\n",
    "    base = 10\n",
    "    # Exponents from -2 to 2 (inclusive)\n",
    "    exponents = np.arange(-2, 3, dtype=np.float64)\n",
    "\n",
    "    # Randomly select an index from the exponent range\n",
    "    random_index = np.random.randint(0, len(exponents))\n",
    "    c = base ** exponents[random_index]\n",
    "    random_params[\"msm\"] = {\"c\": c}\n",
    "    \n",
    "    return random_params"
   ]
  },
  {
   "cell_type": "code",
   "execution_count": 11,
   "id": "a0170ab0-198c-415c-a1f3-931ec9b46fcf",
   "metadata": {},
   "outputs": [
    {
     "data": {
      "text/plain": [
       "{'euclidean': {},\n",
       " 'dtw': {'window': 0.14797234019120947},\n",
       " 'ddtw': {'window': 0.1751382855104222},\n",
       " 'wdtw': {'g': 0.6893244729090926},\n",
       " 'wddtw': {'g': 0.6958472954443427},\n",
       " 'erp': {'g': 0.8512145739185257},\n",
       " 'lcss': {'epsilon': 0.4652692960539752, 'window': 0.06718152003653774},\n",
       " 'twe': {'lmbda': 1, 'nu': 0.1},\n",
       " 'msm': {'c': 0.1}}"
      ]
     },
     "execution_count": 11,
     "metadata": {},
     "output_type": "execute_result"
    }
   ],
   "source": [
    "get_parameter_value(X)"
   ]
  },
  {
   "cell_type": "code",
   "execution_count": 12,
   "id": "064c18ae-df19-4f55-95a7-a0473253cc99",
   "metadata": {},
   "outputs": [
    {
     "data": {
      "text/plain": [
       "1e-05"
      ]
     },
     "execution_count": 12,
     "metadata": {},
     "output_type": "execute_result"
    }
   ],
   "source": [
    "exponent_range = np.arange(1,6)  # Exponents from -5 to 0 (inclusive)\n",
    "random_exponent = np.random.choice(exponent_range)\n",
    "nu = 1/10**random_exponent\n",
    "nu"
   ]
  },
  {
   "cell_type": "code",
   "execution_count": 13,
   "id": "a8e7fc93-5a2f-47bf-8cf5-0a1e9a7a2726",
   "metadata": {},
   "outputs": [],
   "source": [
    "def get_parameter_value(X=None):\n",
    "    \"\"\"For a list of distance measures, generate a dictionary \n",
    "    of parameterized distances.\n",
    "    \n",
    "    Parameters\n",
    "    ----------\n",
    "    X : np.ndarray of shape (n_cases, n_timepoints)\n",
    "        \n",
    "    Returns\n",
    "    -------\n",
    "    distance_param : a dictionary of distances and their \n",
    "        parameters.\n",
    "    \"\"\"\n",
    "    X_std = X.std()\n",
    "    param_ranges = {\n",
    "        \"euclidean\": {},\n",
    "        \"dtw\": {\"window\": (0,0.25)},\n",
    "        \"ddtw\": {\"window\": (0,0.25)},\n",
    "        \"wdtw\": {\"g\": (0,1)},\n",
    "        \"wddtw\": {\"g\": (0,1)},\n",
    "        \"erp\": {\"g\": (X_std/5,X_std)},\n",
    "        \"lcss\": {\"epsilon\": (X_std/5,X_std),\n",
    "                 \"window\": (0,0.25)}\n",
    "    }\n",
    "    random_params = {}\n",
    "    for measure, ranges in param_ranges.items():\n",
    "        random_params[measure] = {param: np.random.uniform(low,high)\n",
    "                                  for param, (low,high) in ranges.items()}\n",
    "        \n",
    "    # For TWE\n",
    "    lmbda = np.random.randint(0,9)\n",
    "    exponent_range = np.arange(1,6)  # Exponents from -5 to 1 (inclusive)\n",
    "    random_exponent = np.random.choice(exponent_range)\n",
    "    nu = 1/10**random_exponent\n",
    "    random_params[\"twe\"] = {\"lmbda\": lmbda,\n",
    "                            \"nu\": nu}\n",
    "    \n",
    "    return random_params"
   ]
  },
  {
   "cell_type": "code",
   "execution_count": 14,
   "id": "13348829-9cc6-40d0-8bb1-83b165dae2a2",
   "metadata": {},
   "outputs": [
    {
     "data": {
      "text/plain": [
       "array([1.00000e-02, 2.50075e+01, 5.00050e+01, 7.50025e+01, 1.00000e+02])"
      ]
     },
     "execution_count": 14,
     "metadata": {},
     "output_type": "execute_result"
    }
   ],
   "source": [
    "exp_range = np.linspace(0.01, 100, 5)\n",
    "exp_range"
   ]
  },
  {
   "cell_type": "code",
   "execution_count": 15,
   "id": "e7d71522-b3fa-4c37-b2ea-2de7d317ec08",
   "metadata": {},
   "outputs": [
    {
     "data": {
      "text/plain": [
       "100.0"
      ]
     },
     "execution_count": 15,
     "metadata": {},
     "output_type": "execute_result"
    }
   ],
   "source": [
    "base = 10\n",
    "  # Exponents from -2 to 2 (inclusive)\n",
    "exponents = np.arange(-2, 3, dtype=np.float64)\n",
    "\n",
    "# Randomly select an index from the exponent range\n",
    "random_index = np.random.randint(0, len(exponents))\n",
    "c = base ** exponents[random_index]\n",
    "c"
   ]
  },
  {
   "cell_type": "code",
   "execution_count": 16,
   "id": "20848085-415b-4a1a-b23f-51aae914a760",
   "metadata": {
    "scrolled": true
   },
   "outputs": [
    {
     "name": "stdout",
     "output_type": "stream",
     "text": [
      "{'euclidean': {}, 'dtw': {'window': 0.01835}, 'ddtw': {'window': 0.00744}, 'wdtw': {'g': 0.43901}, 'wddtw': {'g': 0.34928}, 'erp': {'g': 0.06492}, 'lcss': {'epsilon': 0.15306, 'window': 0.05401}, 'twe': {'lmbda': 8, 'nu': 0.001}, 'msm': {'c': 1.0}}\n"
     ]
    }
   ],
   "source": [
    "import numpy as np\n",
    "\n",
    "def get_parameter_value(X=None):\n",
    "    \"\"\"For a list of distance measures, generate a dictionary \n",
    "    of parameterized distances.\n",
    "    \n",
    "    Parameters\n",
    "    ----------\n",
    "    X : np.ndarray of shape (n_cases, n_timepoints)\n",
    "        \n",
    "    Returns\n",
    "    -------\n",
    "    distance_param : a dictionary of distances and their \n",
    "        parameters.\n",
    "    \"\"\"\n",
    "    X_std = X.std()\n",
    "    param_ranges = {\n",
    "        \"euclidean\": {},\n",
    "        \"dtw\": {\"window\": (0,0.25)},\n",
    "        \"ddtw\": {\"window\": (0,0.25)},\n",
    "        \"wdtw\": {\"g\": (0,1)},\n",
    "        \"wddtw\": {\"g\": (0,1)},\n",
    "        \"erp\": {\"g\": (X_std/5,X_std)},\n",
    "        \"lcss\": {\"epsilon\": (X_std/5,X_std),\n",
    "                 \"window\": (0,0.25)}\n",
    "    }\n",
    "    random_params = {}\n",
    "    for measure, ranges in param_ranges.items():\n",
    "        random_params[measure] = {param: np.round(np.random.uniform(low,high), 5)\n",
    "                                  for param, (low,high) in ranges.items()}\n",
    "        \n",
    "    # For TWE\n",
    "    lmbda = np.random.randint(0,9)\n",
    "    exponent_range = np.arange(1,6)  # Exponents from -5 to 1 (inclusive)\n",
    "    random_exponent = np.random.choice(exponent_range)\n",
    "    nu = 1/10**random_exponent\n",
    "    random_params[\"twe\"] = {\"lmbda\": lmbda,\n",
    "                            \"nu\": np.round(nu, 5)}\n",
    "    \n",
    "    # For MSM\n",
    "    base = 10\n",
    "    # Exponents from -2 to 2 (inclusive)\n",
    "    exponents = np.arange(-2, 3, dtype=np.float64)\n",
    "\n",
    "    # Randomly select an index from the exponent range\n",
    "    random_index = np.random.randint(0, len(exponents))\n",
    "    c = base ** exponents[random_index]\n",
    "    random_params[\"msm\"] = {\"c\": np.round(c, 5)}\n",
    "    \n",
    "    return random_params\n",
    "\n",
    "# Example usage:\n",
    "X = np.random.rand(10, 5)  # Example input\n",
    "result = get_parameter_value(X)\n",
    "print(result)\n"
   ]
  },
  {
   "cell_type": "code",
   "execution_count": 17,
   "id": "cc6c5ab8-0112-471d-adb0-f88ebf3cb150",
   "metadata": {},
   "outputs": [],
   "source": [
    "def get_parameter_value(X=None):\n",
    "    \"\"\"For a list of distance measures, generate a dictionary \n",
    "    of parameterized distances.\n",
    "    \n",
    "    Parameters\n",
    "    ----------\n",
    "    X : np.ndarray of shape (n_cases, n_timepoints)\n",
    "        \n",
    "    Returns\n",
    "    -------\n",
    "    distance_param : a dictionary of distances and their \n",
    "        parameters.\n",
    "    \"\"\"\n",
    "    X_std = X.std()\n",
    "    param_ranges = {\n",
    "        \"euclidean\": {},\n",
    "        \"dtw\": {\"window\": (0,0.25)},\n",
    "        \"ddtw\": {\"window\": (0,0.25)},\n",
    "        \"wdtw\": {\"g\": (0,1)},\n",
    "        \"wddtw\": {\"g\": (0,1)},\n",
    "        \"erp\": {\"g\": (X_std/5,X_std)},\n",
    "        \"lcss\": {\"epsilon\": (X_std/5,X_std),\n",
    "                 \"window\": (0,0.25)}\n",
    "    }\n",
    "    random_params = {}\n",
    "    for measure, ranges in param_ranges.items():\n",
    "        random_params[measure] = {param: np.round(np.random.uniform(low,high),3)\n",
    "                                  for param, (low,high) in ranges.items()}\n",
    "        \n",
    "    # For TWE\n",
    "    lmbda = np.random.randint(0,9)\n",
    "    exponent_range = np.arange(1,6)  # Exponents from -5 to 1 (inclusive)\n",
    "    random_exponent = np.random.choice(exponent_range)\n",
    "    nu = 1/10**random_exponent\n",
    "    random_params[\"twe\"] = {\"lmbda\": lmbda,\n",
    "                            \"nu\": nu}\n",
    "    \n",
    "    # For MSM\n",
    "    base = 10\n",
    "    # Exponents from -2 to 2 (inclusive)\n",
    "    exponents = np.arange(-2, 3, dtype=np.float64)\n",
    "\n",
    "    # Randomly select an index from the exponent range\n",
    "    random_index = np.random.randint(0, len(exponents))\n",
    "    c = base ** exponents[random_index]\n",
    "    random_params[\"msm\"] = {\"c\": c}\n",
    "    \n",
    "    return random_params"
   ]
  },
  {
   "cell_type": "code",
   "execution_count": 18,
   "id": "054fcde6-a262-4ceb-b2d1-6be5a7dd2da6",
   "metadata": {},
   "outputs": [
    {
     "data": {
      "text/plain": [
       "{'euclidean': {},\n",
       " 'dtw': {'window': 0.005},\n",
       " 'ddtw': {'window': 0.065},\n",
       " 'wdtw': {'g': 0.765},\n",
       " 'wddtw': {'g': 0.77},\n",
       " 'erp': {'g': 0.129},\n",
       " 'lcss': {'epsilon': 0.184, 'window': 0.216},\n",
       " 'twe': {'lmbda': 0, 'nu': 0.0001},\n",
       " 'msm': {'c': 10.0}}"
      ]
     },
     "execution_count": 18,
     "metadata": {},
     "output_type": "execute_result"
    }
   ],
   "source": [
    "get_parameter_value(X)"
   ]
  },
  {
   "cell_type": "code",
   "execution_count": null,
   "id": "aab55d5c-eedd-4e2d-a044-2b4b2e01ff88",
   "metadata": {},
   "outputs": [],
   "source": []
  }
 ],
 "metadata": {
  "kernelspec": {
   "display_name": "Python 3 (ipykernel)",
   "language": "python",
   "name": "python3"
  },
  "language_info": {
   "codemirror_mode": {
    "name": "ipython",
    "version": 3
   },
   "file_extension": ".py",
   "mimetype": "text/x-python",
   "name": "python",
   "nbconvert_exporter": "python",
   "pygments_lexer": "ipython3",
   "version": "3.12.2"
  }
 },
 "nbformat": 4,
 "nbformat_minor": 5
}
