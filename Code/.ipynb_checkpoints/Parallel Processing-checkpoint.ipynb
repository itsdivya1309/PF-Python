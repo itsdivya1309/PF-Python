{
 "cells": [
  {
   "cell_type": "code",
   "execution_count": 1,
   "id": "9c5c3422-bfbc-426c-b372-3b703ae508bf",
   "metadata": {},
   "outputs": [],
   "source": [
    "from aeon.classification.distance_based import ProximityForest\n",
    "from aeon.datasets import load_arrow_head\n",
    "X, y = load_arrow_head(split='TEST', return_type = 'numpy3d')\n",
    "X_test, y_test = load_arrow_head(split='TRAIN', return_type='numpy3d')"
   ]
  },
  {
   "cell_type": "code",
   "execution_count": 2,
   "id": "1496cff7-c359-4361-b210-984b820826d0",
   "metadata": {},
   "outputs": [],
   "source": [
    "import time"
   ]
  },
  {
   "cell_type": "code",
   "execution_count": 3,
   "id": "d5830667-ba65-4ce1-8788-5c1d1d0c2228",
   "metadata": {},
   "outputs": [
    {
     "name": "stdout",
     "output_type": "stream",
     "text": [
      "Elapsed = 1141.102961299941 s\n"
     ]
    }
   ],
   "source": [
    "clf = ProximityForest(n_trees=100, n_jobs=-1)\n",
    "\n",
    "start = time.perf_counter()\n",
    "clf.fit(X,y)\n",
    "end = time.perf_counter()\n",
    "print('Elapsed = {} s'.format((end-start)))"
   ]
  },
  {
   "cell_type": "code",
   "execution_count": 4,
   "id": "6e3ecde9-a0b1-468c-ac90-665eff304854",
   "metadata": {},
   "outputs": [
    {
     "name": "stdout",
     "output_type": "stream",
     "text": [
      "Elapsed = 9128.582767199958 s\n"
     ]
    }
   ],
   "source": [
    "from aeon.classification.distance_based import ElasticEnsemble\n",
    "ee_clf = ElasticEnsemble(distance_measures = ['dtw','lcss'])\n",
    "\n",
    "start = time.perf_counter()\n",
    "ee_clf.fit(X,y)\n",
    "end = time.perf_counter()\n",
    "print('Elapsed = {} s'.format((end-start)))"
   ]
  },
  {
   "cell_type": "code",
   "execution_count": 5,
   "id": "19602fff-4380-459d-b566-e32fbf2969ec",
   "metadata": {},
   "outputs": [],
   "source": [
    "from sklearn.metrics import accuracy_score"
   ]
  },
  {
   "cell_type": "code",
   "execution_count": 6,
   "id": "7a6e018b-6188-452a-8b62-0022da5390b9",
   "metadata": {},
   "outputs": [
    {
     "data": {
      "text/plain": [
       "0.9444444444444444"
      ]
     },
     "execution_count": 6,
     "metadata": {},
     "output_type": "execute_result"
    }
   ],
   "source": [
    "y_clf = clf.predict(X_test)\n",
    "accuracy_score(y_clf, y_test)"
   ]
  },
  {
   "cell_type": "code",
   "execution_count": 8,
   "id": "25108e6b-6ae5-410c-abf4-673221a61895",
   "metadata": {},
   "outputs": [
    {
     "data": {
      "text/plain": [
       "0.8888888888888888"
      ]
     },
     "execution_count": 8,
     "metadata": {},
     "output_type": "execute_result"
    }
   ],
   "source": [
    "y_ee = ee_clf.predict(X_test)\n",
    "accuracy_score(y_ee, y_test)"
   ]
  },
  {
   "cell_type": "code",
   "execution_count": 12,
   "id": "636460a3-c797-4fab-ba15-500a26fcdcfe",
   "metadata": {},
   "outputs": [],
   "source": [
    "__all__ = [\"ProximityForest\"]\n",
    "\n",
    "from typing import Type, Union\n",
    "import numpy as np\n",
    "from joblib import Parallel, delayed\n",
    "from aeon.classification.base import BaseClassifier\n",
    "from aeon.classification.distance_based import ProximityTree\n",
    "\n",
    "class ProximityForest(BaseClassifier):\n",
    "    \"\"\"Proximity Forest Classifier.\n",
    "\n",
    "    The Proximity Forest is an ensemble of Proximity Trees.\n",
    "    \"\"\"\n",
    "    _tags = {\n",
    "        \"capability:multivariate\": True,\n",
    "        \"capability:unequal_length\": True,\n",
    "        \"capability:multithreading\": True,\n",
    "        \"algorithm_type\": \"distance\",\n",
    "        \"X_inner_type\": [\"np-list\", \"numpy3D\"],\n",
    "    }\n",
    "\n",
    "    def __init__(\n",
    "        self,\n",
    "        n_trees=10,\n",
    "        n_splitters: int = 5,\n",
    "        max_depth: int = None,\n",
    "        min_samples_split: int = 2,\n",
    "        random_state: Union[int, Type[np.random.RandomState], None] = None,\n",
    "        n_jobs: int = 1,\n",
    "    ):\n",
    "        self.n_trees = n_trees\n",
    "        self.n_splitters = n_splitters\n",
    "        self.max_depth = max_depth\n",
    "        self.min_samples_split = min_samples_split\n",
    "        self.random_state = random_state\n",
    "        self.n_jobs = n_jobs\n",
    "        super().__init__()\n",
    "\n",
    "    def _fit_tree(self, X, y):\n",
    "        clf = ProximityTree(\n",
    "            n_splitters=self.n_splitters,\n",
    "            max_depth=self.max_depth,\n",
    "            min_samples_split=self.min_samples_split,\n",
    "            random_state=self.random_state,\n",
    "            n_jobs=self._n_jobs,  # Use self._n_jobs set by _preprocess_collection\n",
    "        )\n",
    "        clf.fit(X, y)\n",
    "        return clf\n",
    "\n",
    "    def _fit(self, X, y):\n",
    "        # Check dimension of X\n",
    "        if X.ndim == 3:\n",
    "            if X.shape[1] == 1:\n",
    "                X = np.squeeze(X, axis=1)\n",
    "            else:\n",
    "                raise ValueError(\"X should be univariate.\")\n",
    "\n",
    "        self.classes_ = list(np.unique(y))\n",
    "        self.trees_ = Parallel(n_jobs=self._n_jobs)(\n",
    "            delayed(self._fit_tree)(X, y) for _ in range(self.n_trees)\n",
    "        )\n",
    "\n",
    "        self._is_fitted = True\n",
    "\n",
    "    def _predict_proba_tree(self, tree, X):\n",
    "        return tree.predict_proba(X)\n",
    "\n",
    "    def _predict_proba(self, X):\n",
    "        # Check dimension of X\n",
    "        if X.ndim == 3:\n",
    "            if X.shape[1] == 1:\n",
    "                X = np.squeeze(X, axis=1)\n",
    "            else:\n",
    "                raise ValueError(\"X should be univariate.\")\n",
    "\n",
    "        output_probas = Parallel(n_jobs=self._n_jobs)(\n",
    "            delayed(self._predict_proba_tree)(tree, X) for tree in self.trees_\n",
    "        )\n",
    "\n",
    "        output_probas = np.sum(output_probas, axis=0)\n",
    "        output_probas = np.divide(output_probas, self.n_trees)\n",
    "        return output_probas\n",
    "\n",
    "    def _predict(self, X):\n",
    "        probas = self._predict_proba(X)\n",
    "        idx = np.argmax(probas, axis=1)\n",
    "        preds = np.asarray([self.classes_[x] for x in idx])\n",
    "        return preds\n"
   ]
  },
  {
   "cell_type": "code",
   "execution_count": 13,
   "id": "796a9a04-4e74-4811-bc64-01adf30cf1f5",
   "metadata": {},
   "outputs": [
    {
     "name": "stdout",
     "output_type": "stream",
     "text": [
      "Elapsed = 533.3314680999611 s\n"
     ]
    }
   ],
   "source": [
    "clf2 = ProximityForest(n_trees=100)\n",
    "\n",
    "start = time.perf_counter()\n",
    "clf2.fit(X,y)\n",
    "end = time.perf_counter()\n",
    "print('Elapsed = {} s'.format((end-start)))"
   ]
  },
  {
   "cell_type": "code",
   "execution_count": 14,
   "id": "9522ab9b-5684-478b-8d83-fc38dd0cf2e3",
   "metadata": {},
   "outputs": [
    {
     "data": {
      "text/plain": [
       "0.9444444444444444"
      ]
     },
     "execution_count": 14,
     "metadata": {},
     "output_type": "execute_result"
    }
   ],
   "source": [
    "y_2 = clf2.predict(X_test)\n",
    "accuracy_score(y_2, y_test)"
   ]
  },
  {
   "cell_type": "code",
   "execution_count": null,
   "id": "c6558bf4-cebd-48c4-9b20-7f05a915701f",
   "metadata": {},
   "outputs": [],
   "source": []
  }
 ],
 "metadata": {
  "kernelspec": {
   "display_name": "Python 3 (ipykernel)",
   "language": "python",
   "name": "python3"
  },
  "language_info": {
   "codemirror_mode": {
    "name": "ipython",
    "version": 3
   },
   "file_extension": ".py",
   "mimetype": "text/x-python",
   "name": "python",
   "nbconvert_exporter": "python",
   "pygments_lexer": "ipython3",
   "version": "3.12.2"
  }
 },
 "nbformat": 4,
 "nbformat_minor": 5
}
