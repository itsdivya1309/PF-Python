{
 "cells": [
  {
   "cell_type": "code",
   "execution_count": 1,
   "id": "7d3a3e7e-ec57-4a47-b7fb-2498d92e6cba",
   "metadata": {},
   "outputs": [],
   "source": [
    "import numpy as np\n",
    "\n",
    "from typing import Type, Union\n",
    "\n",
    "from aeon.classification.distance_based import ProximityTree\n",
    "from sklearn.utils import check_random_state\n",
    "\n",
    "from aeon.classification.base import BaseClassifier"
   ]
  },
  {
   "cell_type": "code",
   "execution_count": 2,
   "id": "d8933750-5fcd-4b87-ba46-ddb0aff1638c",
   "metadata": {},
   "outputs": [],
   "source": [
    "class ProximityForest(BaseClassifier):\n",
    "    \"\"\"Proximity Forest Classifier.\n",
    "    \n",
    "    The Proximity Forest is an ensemble of Proximity Trees.\"\"\"\n",
    "\n",
    "    def __init__(\n",
    "        self,\n",
    "        n_trees=10,\n",
    "        n_splitters: int = 5,\n",
    "        max_depth: int = None,\n",
    "        min_samples_split: int = 2,\n",
    "        random_state: Union[int, Type[np.random.RandomState], None] = None,\n",
    "        n_jobs: int = 1\n",
    "    ):\n",
    "        self.n_trees = n_trees\n",
    "        self.n_splitters = n_splitters\n",
    "        self.max_depth = max_depth\n",
    "        self.min_samples_split = min_samples_split\n",
    "        self.random_state = random_state\n",
    "        self.n_jobs = n_jobs\n",
    "        super().__init__()\n",
    "\n",
    "    def _fit(self, X, y):\n",
    "        # Check dimension of X\n",
    "        if X.ndim == 3:\n",
    "            if X.shape[1] == 1:\n",
    "                X = np.squeeze(X, axis=1)\n",
    "            else:\n",
    "                raise ValueError(\"X should be univariate.\")\n",
    "\n",
    "        self.classes_ = list(np.unique(y))\n",
    "        self.trees_ = []\n",
    "        for i in range(self.n_trees):\n",
    "            clf = ProximityTree(\n",
    "                n_splitters = self.n_splitters,\n",
    "                max_depth = self.max_depth,\n",
    "                min_samples_split = self.min_samples_split,\n",
    "                random_state = self.random_state,\n",
    "                n_jobs = self.n_jobs)\n",
    "            clf.fit(X,y)\n",
    "            self.trees_.append(clf)\n",
    "            \n",
    "        self._is_fitted = True\n",
    "\n",
    "    def _predict_proba(self, X):\n",
    "        # Check dimension of X\n",
    "        if X.ndim == 3:\n",
    "            if X.shape[1] == 1:\n",
    "                X = np.squeeze(X, axis=1)\n",
    "            else:\n",
    "                raise ValueError(\"X should be univariate.\")\n",
    "\n",
    "        output_probas = []\n",
    "        for i in range(self.n_trees):\n",
    "            proba = self.trees_[i].predict_proba(X)\n",
    "            output_probas.append(proba)\n",
    "\n",
    "        output_probas = np.sum(output_probas, axis=0)\n",
    "        output_probas = np.divide(output_probas, self.n_trees)\n",
    "        return output_probas\n",
    "        \n",
    "    def _predict(self, X):\n",
    "        probas = self._predict_proba(X)\n",
    "        idx = np.argmax(probas, axis=1)\n",
    "        preds = np.asarray([self.classes_[x] for x in idx])\n",
    "        return preds"
   ]
  },
  {
   "cell_type": "code",
   "execution_count": 3,
   "id": "8c066312-2097-4cbe-b4e6-69408bf9005c",
   "metadata": {},
   "outputs": [
    {
     "data": {
      "text/plain": [
       "(175, 1, 251)"
      ]
     },
     "execution_count": 3,
     "metadata": {},
     "output_type": "execute_result"
    }
   ],
   "source": [
    "from aeon.datasets import load_arrow_head\n",
    "X, y = load_arrow_head(split='TEST', return_type = 'numpy3d')\n",
    "X.shape"
   ]
  },
  {
   "cell_type": "code",
   "execution_count": 4,
   "id": "7c47d8aa-09ca-4cea-84c3-be5c15c6f6eb",
   "metadata": {},
   "outputs": [
    {
     "data": {
      "text/plain": [
       "(36, 1, 251)"
      ]
     },
     "execution_count": 4,
     "metadata": {},
     "output_type": "execute_result"
    }
   ],
   "source": [
    "X_test, y_test = load_arrow_head(split='TRAIN', return_type='numpy3d')\n",
    "X_test.shape"
   ]
  },
  {
   "cell_type": "code",
   "execution_count": 5,
   "id": "cd33d5f0-6f55-4f25-ab6e-1005190cad41",
   "metadata": {},
   "outputs": [],
   "source": [
    "import time"
   ]
  },
  {
   "cell_type": "code",
   "execution_count": 6,
   "id": "60f40f59-1ea1-4ce6-b5f9-b973551c7632",
   "metadata": {},
   "outputs": [
    {
     "name": "stdout",
     "output_type": "stream",
     "text": [
      "Elapsed = 0.00018369988538324833s\n"
     ]
    }
   ],
   "source": [
    "start = time.perf_counter()\n",
    "clf = ProximityForest()\n",
    "end = time.perf_counter()\n",
    "print(\"Elapsed = {}s\".format((end - start)))"
   ]
  },
  {
   "cell_type": "code",
   "execution_count": 7,
   "id": "6ea4ec6f-9a60-4264-80cf-67ab23cf35be",
   "metadata": {},
   "outputs": [
    {
     "name": "stdout",
     "output_type": "stream",
     "text": [
      "Elapsed = 50.049295200034976s\n"
     ]
    }
   ],
   "source": [
    "start = time.perf_counter()\n",
    "clf.fit(X,y)\n",
    "end = time.perf_counter()\n",
    "print(\"Elapsed = {}s\".format((end - start)))"
   ]
  },
  {
   "cell_type": "code",
   "execution_count": 8,
   "id": "c156ec56-c210-4735-bb30-df3d9327d0ad",
   "metadata": {},
   "outputs": [
    {
     "name": "stdout",
     "output_type": "stream",
     "text": [
      "Elapsed = 1.6872906000353396s\n"
     ]
    }
   ],
   "source": [
    "start = time.perf_counter()\n",
    "y_pred = clf.predict(X_test)\n",
    "end = time.perf_counter()\n",
    "print(\"Elapsed = {}s\".format((end - start)))"
   ]
  },
  {
   "cell_type": "code",
   "execution_count": 9,
   "id": "b74e2aef-61ad-4399-848c-e7bd28337472",
   "metadata": {},
   "outputs": [
    {
     "data": {
      "text/plain": [
       "0.9444444444444444"
      ]
     },
     "execution_count": 9,
     "metadata": {},
     "output_type": "execute_result"
    }
   ],
   "source": [
    "from sklearn.metrics import accuracy_score\n",
    "score = accuracy_score(y_test, y_pred)\n",
    "score"
   ]
  },
  {
   "cell_type": "code",
   "execution_count": 10,
   "id": "2ab16e4b-65e2-4ae3-bdf9-1bfa388bb302",
   "metadata": {},
   "outputs": [
    {
     "data": {
      "text/plain": [
       "1.0"
      ]
     },
     "execution_count": 10,
     "metadata": {},
     "output_type": "execute_result"
    }
   ],
   "source": [
    "y_ = clf.predict(X)\n",
    "accuracy_score(y_,y)"
   ]
  },
  {
   "cell_type": "code",
   "execution_count": 11,
   "id": "04bf219a-8967-4bd0-b4c5-d44c70866d97",
   "metadata": {},
   "outputs": [
    {
     "data": {
      "text/plain": [
       "array([[1.  , 0.  , 0.  ],\n",
       "       [0.1 , 0.8 , 0.1 ],\n",
       "       [0.  , 0.4 , 0.6 ],\n",
       "       [1.  , 0.  , 0.  ],\n",
       "       [0.  , 1.  , 0.  ],\n",
       "       [0.55, 0.25, 0.2 ],\n",
       "       [0.65, 0.35, 0.  ],\n",
       "       [0.25, 0.65, 0.1 ],\n",
       "       [0.  , 0.1 , 0.9 ],\n",
       "       [1.  , 0.  , 0.  ],\n",
       "       [0.1 , 0.5 , 0.4 ],\n",
       "       [0.  , 0.1 , 0.9 ],\n",
       "       [0.85, 0.15, 0.  ],\n",
       "       [0.  , 1.  , 0.  ],\n",
       "       [0.25, 0.2 , 0.55],\n",
       "       [0.95, 0.05, 0.  ],\n",
       "       [0.  , 1.  , 0.  ],\n",
       "       [0.  , 0.  , 1.  ],\n",
       "       [1.  , 0.  , 0.  ],\n",
       "       [0.15, 0.85, 0.  ],\n",
       "       [0.45, 0.  , 0.55],\n",
       "       [0.7 , 0.3 , 0.  ],\n",
       "       [0.25, 0.75, 0.  ],\n",
       "       [0.3 , 0.  , 0.7 ],\n",
       "       [0.9 , 0.1 , 0.  ],\n",
       "       [0.05, 0.95, 0.  ],\n",
       "       [0.8 , 0.1 , 0.1 ],\n",
       "       [1.  , 0.  , 0.  ],\n",
       "       [0.  , 0.9 , 0.1 ],\n",
       "       [0.  , 0.  , 1.  ],\n",
       "       [0.95, 0.05, 0.  ],\n",
       "       [0.05, 0.85, 0.1 ],\n",
       "       [0.  , 0.  , 1.  ],\n",
       "       [1.  , 0.  , 0.  ],\n",
       "       [0.  , 1.  , 0.  ],\n",
       "       [0.  , 0.  , 1.  ]])"
      ]
     },
     "execution_count": 11,
     "metadata": {},
     "output_type": "execute_result"
    }
   ],
   "source": [
    "clf.predict_proba(X_test)"
   ]
  },
  {
   "cell_type": "code",
   "execution_count": 12,
   "id": "3ba1936e-72f4-4e95-ab31-662ecfa0ef86",
   "metadata": {},
   "outputs": [
    {
     "name": "stdout",
     "output_type": "stream",
     "text": [
      "Elapsed = 5.014899000059813s\n"
     ]
    }
   ],
   "source": [
    "from aeon.classification.distance_based import ProximityTree\n",
    "\n",
    "clf1 = ProximityTree()\n",
    "start = time.perf_counter()\n",
    "clf1.fit(X,y)\n",
    "end = time.perf_counter()\n",
    "print(\"Elapsed = {}s\".format((end - start)))"
   ]
  },
  {
   "cell_type": "code",
   "execution_count": 13,
   "id": "ba2c459f-0289-47fc-a2e9-54635e0fbb19",
   "metadata": {},
   "outputs": [
    {
     "data": {
      "text/plain": [
       "0.6944444444444444"
      ]
     },
     "execution_count": 13,
     "metadata": {},
     "output_type": "execute_result"
    }
   ],
   "source": [
    "y_pred1 = clf1.predict(X_test)\n",
    "score1 = accuracy_score(y_pred1, y_test)\n",
    "score1"
   ]
  },
  {
   "cell_type": "code",
   "execution_count": null,
   "id": "31d19e36-66c4-47f1-8113-289acd379249",
   "metadata": {},
   "outputs": [],
   "source": [
    "from aeon.classification.distance_based import ElasticEnsemble\n",
    "\n",
    "clf1 = ElasticEnsemble(distance_measures=['dtw','lcss','twe','ddtw'])\n",
    "start = time.perf_counter()\n",
    "clf1.fit(X,y)\n",
    "end = time.perf_counter()\n",
    "print(\"Elapsed = {}s\".format((end - start)))"
   ]
  },
  {
   "cell_type": "code",
   "execution_count": null,
   "id": "7d23281f-fc64-48ad-a49d-7c9aa32da88d",
   "metadata": {},
   "outputs": [],
   "source": []
  }
 ],
 "metadata": {
  "kernelspec": {
   "display_name": "Python 3 (ipykernel)",
   "language": "python",
   "name": "python3"
  },
  "language_info": {
   "codemirror_mode": {
    "name": "ipython",
    "version": 3
   },
   "file_extension": ".py",
   "mimetype": "text/x-python",
   "name": "python",
   "nbconvert_exporter": "python",
   "pygments_lexer": "ipython3",
   "version": "3.12.2"
  }
 },
 "nbformat": 4,
 "nbformat_minor": 5
}
