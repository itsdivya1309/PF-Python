{
 "cells": [
  {
   "cell_type": "code",
   "execution_count": 1,
   "id": "c65b8cd1-f19f-4353-bf50-a42054414241",
   "metadata": {},
   "outputs": [],
   "source": [
    "from aeon.classification.distance_based import ProximityForest\n",
    "from aeon.datasets import load_arrow_head\n",
    "X, y = load_arrow_head(split='TEST', return_type = 'numpy3d')\n",
    "X_test, y_test = load_arrow_head(split='TRAIN', return_type='numpy3d')"
   ]
  },
  {
   "cell_type": "code",
   "execution_count": 7,
   "id": "e9457449-8fb1-4692-9e65-7963bb7e3125",
   "metadata": {},
   "outputs": [],
   "source": [
    "import time\n",
    "clf = ProximityForest(n_trees=100, n_jobs=-1,max_depth=10)"
   ]
  },
  {
   "cell_type": "code",
   "execution_count": 8,
   "id": "84dcee37-851d-4142-9eeb-3fedbb4002a0",
   "metadata": {},
   "outputs": [
    {
     "name": "stdout",
     "output_type": "stream",
     "text": [
      "Elapsed = 524.6889166999608s\n"
     ]
    }
   ],
   "source": [
    "start = time.perf_counter()\n",
    "clf.fit(X,y)\n",
    "end = time.perf_counter()\n",
    "print(\"Elapsed = {}s\".format((end - start)))"
   ]
  },
  {
   "cell_type": "code",
   "execution_count": 4,
   "id": "09e17c1b-1d45-4db2-abc7-c2bedabb8e9b",
   "metadata": {},
   "outputs": [
    {
     "name": "stdout",
     "output_type": "stream",
     "text": [
      "Elapsed = 1.6598012999165803s\n"
     ]
    }
   ],
   "source": [
    "start = time.perf_counter()\n",
    "y_pred = clf.predict(X_test)\n",
    "end = time.perf_counter()\n",
    "print(\"Elapsed = {}s\".format((end - start)))"
   ]
  },
  {
   "cell_type": "code",
   "execution_count": 5,
   "id": "14f9eee5-7875-4918-beb2-26e3a5307607",
   "metadata": {},
   "outputs": [
    {
     "data": {
      "text/plain": [
       "0.9166666666666666"
      ]
     },
     "execution_count": 5,
     "metadata": {},
     "output_type": "execute_result"
    }
   ],
   "source": [
    "from sklearn.metrics import accuracy_score\n",
    "score = accuracy_score(y_test, y_pred)\n",
    "score"
   ]
  },
  {
   "cell_type": "code",
   "execution_count": 6,
   "id": "a39f3dd6-9bb3-4188-9809-000f743cd63d",
   "metadata": {},
   "outputs": [
    {
     "data": {
      "text/plain": [
       "[ProximityTree(),\n",
       " ProximityTree(),\n",
       " ProximityTree(),\n",
       " ProximityTree(),\n",
       " ProximityTree(),\n",
       " ProximityTree(),\n",
       " ProximityTree(),\n",
       " ProximityTree(),\n",
       " ProximityTree(),\n",
       " ProximityTree()]"
      ]
     },
     "execution_count": 6,
     "metadata": {},
     "output_type": "execute_result"
    }
   ],
   "source": [
    "clf.trees_"
   ]
  },
  {
   "cell_type": "code",
   "execution_count": null,
   "id": "47ef8283-2370-4633-a68e-88625337d365",
   "metadata": {},
   "outputs": [],
   "source": [
    "\"\"\"Proximity Forest Classifier.\n",
    "\n",
    "The Proximity Forest is an ensemble of Proximity Trees.\n",
    "\"\"\"\n",
    "\n",
    "__all__ = [\"ProximityForest\"]\n",
    "\n",
    "from typing import Type, Union\n",
    "\n",
    "import numpy as np\n",
    "\n",
    "from aeon.classification.base import BaseClassifier\n",
    "from aeon.classification.distance_based import ProximityTree\n",
    "\n",
    "from joblib import Parallel, delayed\n",
    "\n",
    "class ProximityForest(BaseClassifier):\n",
    "    \"\"\"Proximity Forest Classifier.\n",
    "\n",
    "    The Proximity Forest is an ensemble of Proximity Trees.\n",
    "    \"\"\"\n",
    "\n",
    "    def __init__(\n",
    "        self,\n",
    "        n_trees=10,\n",
    "        n_splitters: int = 5,\n",
    "        max_depth: int = None,\n",
    "        min_samples_split: int = 2,\n",
    "        random_state: Union[int, Type[np.random.RandomState], None] = None,\n",
    "        n_jobs: int = 1,\n",
    "    ):\n",
    "        self.n_trees = n_trees\n",
    "        self.n_splitters = n_splitters\n",
    "        self.max_depth = max_depth\n",
    "        self.min_samples_split = min_samples_split\n",
    "        self.random_state = random_state\n",
    "        self.n_jobs = n_jobs\n",
    "        super().__init__()\n",
    "\n",
    "    def _fit(self, X, y):\n",
    "        # Check dimension of X\n",
    "        if X.ndim == 3:\n",
    "            if X.shape[1] == 1:\n",
    "                X = np.squeeze(X, axis=1)\n",
    "            else:\n",
    "                raise ValueError(\"X should be univariate.\")\n",
    "\n",
    "        self.classes_ = list(np.unique(y))\n",
    "        self.trees_ = Parallel(n_jobs=self.n_jobs)(\n",
    "        delayed(self._fit_tree)(X, y) for _ in range(self.n_trees)\n",
    "    )\n",
    "        self.trees_ = []\n",
    "        for _ in range(self.n_trees):\n",
    "            clf = ProximityTree(\n",
    "                n_splitters=self.n_splitters,\n",
    "                max_depth=self.max_depth,\n",
    "                min_samples_split=self.min_samples_split,\n",
    "                random_state=self.random_state,\n",
    "                n_jobs=self.n_jobs,\n",
    "            )\n",
    "            clf.fit(X, y)\n",
    "            self.trees_.append(clf)\n",
    "\n",
    "        self._is_fitted = True\n",
    "\n",
    "    def _fit_tree(self, X, y):\n",
    "        clf = ProximityTree(\n",
    "            n_splitters=self.n_splitters,\n",
    "            max_depth=self.max_depth,\n",
    "            min_samples_split=self.min_samples_split,\n",
    "            random_state=self.random_state,\n",
    "            n_jobs=self.n_jobs\n",
    "        )\n",
    "        clf.fit(X, y)\n",
    "        return clf\n",
    "        \n",
    "    def _predict_proba(self, X):\n",
    "        # Check dimension of X\n",
    "        if X.ndim == 3:\n",
    "            if X.shape[1] == 1:\n",
    "                X = np.squeeze(X, axis=1)\n",
    "            else:\n",
    "                raise ValueError(\"X should be univariate.\")\n",
    "\n",
    "        output_probas = []\n",
    "        for i in range(self.n_trees):\n",
    "            proba = self.trees_[i].predict_proba(X)\n",
    "            output_probas.append(proba)\n",
    "\n",
    "        output_probas = np.sum(output_probas, axis=0)\n",
    "        output_probas = np.divide(output_probas, self.n_trees)\n",
    "        return output_probas\n",
    "\n",
    "    def _predict(self, X):\n",
    "        probas = self._predict_proba(X)\n",
    "        idx = np.argmax(probas, axis=1)\n",
    "        preds = np.asarray([self.classes_[x] for x in idx])\n",
    "        return preds\n"
   ]
  }
 ],
 "metadata": {
  "kernelspec": {
   "display_name": "Python 3 (ipykernel)",
   "language": "python",
   "name": "python3"
  },
  "language_info": {
   "codemirror_mode": {
    "name": "ipython",
    "version": 3
   },
   "file_extension": ".py",
   "mimetype": "text/x-python",
   "name": "python",
   "nbconvert_exporter": "python",
   "pygments_lexer": "ipython3",
   "version": "3.12.2"
  }
 },
 "nbformat": 4,
 "nbformat_minor": 5
}
