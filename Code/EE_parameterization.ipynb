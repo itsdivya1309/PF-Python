{
 "cells": [
  {
   "cell_type": "code",
   "execution_count": 1,
   "id": "a85466f3-4d13-4329-bdaa-921ed2bad3df",
   "metadata": {},
   "outputs": [],
   "source": [
    "import numpy as np"
   ]
  },
  {
   "cell_type": "code",
   "execution_count": 2,
   "id": "1c1aca54-2c8d-4d9d-a87b-123b88663be9",
   "metadata": {},
   "outputs": [],
   "source": [
    "from aeon.datasets import load_italy_power_demand\n",
    "X, y = load_italy_power_demand(return_type='numpy2d')"
   ]
  },
  {
   "cell_type": "code",
   "execution_count": 3,
   "id": "aab55d5c-eedd-4e2d-a044-2b4b2e01ff88",
   "metadata": {},
   "outputs": [
    {
     "data": {
      "text/plain": [
       "[{'euclidean': {}},\n",
       " {'dtw': {'window': 0.223}},\n",
       " {'ddtw': {'window': 0.128}},\n",
       " {'wdtw': {'g': 0.327}},\n",
       " {'wddtw': {'g': 0.206}},\n",
       " {'erp': {'g': 0.963}},\n",
       " {'lcss': {'epsilon': 0.398, 'window': 0.15}},\n",
       " {'twe': {'lmbda': 8, 'nu': 0.01}},\n",
       " {'msm': {'c': 0.01}}]"
      ]
     },
     "execution_count": 3,
     "metadata": {},
     "output_type": "execute_result"
    }
   ],
   "source": [
    "from splitter import get_parameter_value, get_candidate_splitter\n",
    "distances = get_parameter_value(X)\n",
    "distances"
   ]
  },
  {
   "cell_type": "code",
   "execution_count": 4,
   "id": "7237642e-4abd-4f55-be0b-ceac415e1858",
   "metadata": {},
   "outputs": [
    {
     "data": {
      "text/plain": [
       "[[{'1': array([-0.33966915, -0.78271587, -1.1371532 , -1.5802    , -1.5802    ,\n",
       "          -1.4915906 , -1.0485439 , -0.78271587, -0.11814579,  0.0590729 ,\n",
       "           0.67933831,  0.72364299,  0.76794766,  0.19198691,  0.01476823,\n",
       "          -0.20675514, -0.20675514,  0.45781494,  1.8755644 ,  1.9198691 ,\n",
       "           1.4768224 ,  0.81225233,  0.28059626,  0.01476823])},\n",
       "  {'2': array([-0.37357907, -0.98663192, -1.4464215 , -1.6763164 , -1.752948  ,\n",
       "          -1.3697899 , -0.91000031, -0.98663192, -0.22031586,  0.85252662,\n",
       "           1.0057898 ,  1.3123162 ,  1.2356846 ,  0.77589501,  0.46936859,\n",
       "           0.77589501,  0.92915822,  0.39273699,  0.16284217,  0.00957896,\n",
       "          -0.37357907,  1.3123162 ,  0.92915822, -0.06705265])}],\n",
       " {'euclidean': {}}]"
      ]
     },
     "execution_count": 4,
     "metadata": {},
     "output_type": "execute_result"
    }
   ],
   "source": [
    "splitter = get_candidate_splitter(X,y,distances)\n",
    "splitter"
   ]
  },
  {
   "cell_type": "code",
   "execution_count": 5,
   "id": "0a15a860-939c-4896-9a45-c778f775f96e",
   "metadata": {},
   "outputs": [
    {
     "data": {
      "text/plain": [
       "array([-0.71051757, -1.1833204 , -1.3724416 , -1.5930829 , -1.4670021 ,\n",
       "       -1.3724416 , -1.0887599 ,  0.04596695,  0.92853223,  1.0861332 ,\n",
       "        1.2752543 ,  0.96005242,  0.61333034,  0.01444676, -0.6474772 ,\n",
       "       -0.26923494, -0.20619456,  0.61333034,  1.3698149 ,  1.4643754 ,\n",
       "        1.054613  ,  0.58181015,  0.1720477 , -0.26923494])"
      ]
     },
     "execution_count": 5,
     "metadata": {},
     "output_type": "execute_result"
    }
   ],
   "source": [
    "X[0]"
   ]
  },
  {
   "cell_type": "code",
   "execution_count": 6,
   "id": "f478b1a1-ae44-4258-96da-2771310326c4",
   "metadata": {},
   "outputs": [
    {
     "data": {
      "text/plain": [
       "numpy.str_"
      ]
     },
     "execution_count": 6,
     "metadata": {},
     "output_type": "execute_result"
    }
   ],
   "source": [
    "type(y[0])"
   ]
  },
  {
   "cell_type": "code",
   "execution_count": 7,
   "id": "748430df-15c7-4a04-81cc-a35a0a5238a5",
   "metadata": {},
   "outputs": [
    {
     "data": {
      "text/plain": [
       "array(['1', '2'], dtype='<U1')"
      ]
     },
     "execution_count": 7,
     "metadata": {},
     "output_type": "execute_result"
    }
   ],
   "source": [
    "np.unique(y)"
   ]
  },
  {
   "cell_type": "code",
   "execution_count": 8,
   "id": "a9375d9f-d075-4bfb-8737-4914d4453d42",
   "metadata": {},
   "outputs": [
    {
     "data": {
      "text/plain": [
       "(1096, 24)"
      ]
     },
     "execution_count": 8,
     "metadata": {},
     "output_type": "execute_result"
    }
   ],
   "source": [
    "X.shape"
   ]
  },
  {
   "cell_type": "code",
   "execution_count": 9,
   "id": "4f54fb48-c89d-48ca-9383-66bb7eb97c35",
   "metadata": {},
   "outputs": [
    {
     "data": {
      "text/plain": [
       "array(['1', '1', '2', ..., '2', '2', '2'], dtype='<U1')"
      ]
     },
     "execution_count": 9,
     "metadata": {},
     "output_type": "execute_result"
    }
   ],
   "source": [
    "y"
   ]
  },
  {
   "cell_type": "code",
   "execution_count": 10,
   "id": "610445ee-ba3c-4ac2-bde0-4ea3f4ed38d3",
   "metadata": {},
   "outputs": [
    {
     "data": {
      "text/plain": [
       "array([0, 0, 1, ..., 1, 1, 1], dtype=int64)"
      ]
     },
     "execution_count": 10,
     "metadata": {},
     "output_type": "execute_result"
    }
   ],
   "source": [
    "from sklearn.preprocessing import LabelEncoder\n",
    "\n",
    "label_encoder = LabelEncoder()\n",
    "y_labels = label_encoder.fit_transform(y)\n",
    "y_labels"
   ]
  },
  {
   "cell_type": "code",
   "execution_count": 11,
   "id": "c97d202d-38bb-4787-9576-89586c091316",
   "metadata": {},
   "outputs": [
    {
     "data": {
      "text/plain": [
       "array([0, 1], dtype=int64)"
      ]
     },
     "execution_count": 11,
     "metadata": {},
     "output_type": "execute_result"
    }
   ],
   "source": [
    "np.unique(y_labels)"
   ]
  },
  {
   "cell_type": "code",
   "execution_count": 12,
   "id": "2a9320ce-90c2-49d6-bd79-9cfbd34f7d3c",
   "metadata": {},
   "outputs": [
    {
     "name": "stdout",
     "output_type": "stream",
     "text": [
      "[ True  True  True ...  True  True  True]\n"
     ]
    }
   ],
   "source": [
    "new_y = label_encoder.inverse_transform(y_labels)\n",
    "print(new_y==y)"
   ]
  },
  {
   "cell_type": "code",
   "execution_count": 13,
   "id": "3c24448a-89bf-4ac8-98d5-c23e314a2470",
   "metadata": {},
   "outputs": [
    {
     "data": {
      "text/plain": [
       "(3, 25)"
      ]
     },
     "execution_count": 13,
     "metadata": {},
     "output_type": "execute_result"
    }
   ],
   "source": [
    "X_sample = X[:3]\n",
    "y_sample = y_labels[:3].reshape(-1,1)\n",
    "X_combined = np.concatenate([X_sample, y_sample], axis=1)\n",
    "X_combined.shape"
   ]
  },
  {
   "cell_type": "code",
   "execution_count": 14,
   "id": "98980cdf-ae97-46ca-81fc-a76e01b9715e",
   "metadata": {},
   "outputs": [
    {
     "data": {
      "text/plain": [
       "(1096, 25)"
      ]
     },
     "execution_count": 14,
     "metadata": {},
     "output_type": "execute_result"
    }
   ],
   "source": [
    "# Cobining the data with it's labels\n",
    "X_combined = np.concatenate([X,y_labels.reshape(-1,1)], axis=1)\n",
    "X_combined.shape"
   ]
  },
  {
   "cell_type": "code",
   "execution_count": 15,
   "id": "dd7e4515-bdbd-4b35-a31d-14e1d13029c5",
   "metadata": {},
   "outputs": [
    {
     "data": {
      "text/plain": [
       "(1096,)"
      ]
     },
     "execution_count": 15,
     "metadata": {},
     "output_type": "execute_result"
    }
   ],
   "source": [
    "y_labels.shape"
   ]
  },
  {
   "cell_type": "code",
   "execution_count": 16,
   "id": "57b743b6-6efa-4444-9d2c-3b95115af783",
   "metadata": {},
   "outputs": [
    {
     "name": "stdout",
     "output_type": "stream",
     "text": [
      "0\n",
      "1\n"
     ]
    }
   ],
   "source": [
    "for label in np.unique(y_labels):\n",
    "    print(label)"
   ]
  },
  {
   "cell_type": "code",
   "execution_count": 19,
   "id": "8263b99f-2b47-4b0a-9ec7-8408b48a1809",
   "metadata": {},
   "outputs": [
    {
     "ename": "IndexError",
     "evalue": "boolean index did not match indexed array along dimension 0; dimension is 0 but corresponding boolean dimension is 1096",
     "output_type": "error",
     "traceback": [
      "\u001b[1;31m---------------------------------------------------------------------------\u001b[0m",
      "\u001b[1;31mIndexError\u001b[0m                                Traceback (most recent call last)",
      "Cell \u001b[1;32mIn[19], line 4\u001b[0m\n\u001b[0;32m      2\u001b[0m \u001b[38;5;28;01mfor\u001b[39;00m label \u001b[38;5;129;01min\u001b[39;00m np\u001b[38;5;241m.\u001b[39munique(y):\n\u001b[0;32m      3\u001b[0m     y_new \u001b[38;5;241m=\u001b[39m y[y\u001b[38;5;241m==\u001b[39mlabel]\n\u001b[1;32m----> 4\u001b[0m     X_new \u001b[38;5;241m=\u001b[39m X[y\u001b[38;5;241m==\u001b[39mlabel]\n\u001b[0;32m      5\u001b[0m     n \u001b[38;5;241m=\u001b[39m np\u001b[38;5;241m.\u001b[39mrandom\u001b[38;5;241m.\u001b[39mrandint(\u001b[38;5;241m0\u001b[39m,X_new\u001b[38;5;241m.\u001b[39mshape[\u001b[38;5;241m0\u001b[39m])\n\u001b[0;32m      6\u001b[0m     exemplars\u001b[38;5;241m.\u001b[39mappend({y_new[n]: X_new[n,:]})\n",
      "\u001b[1;31mIndexError\u001b[0m: boolean index did not match indexed array along dimension 0; dimension is 0 but corresponding boolean dimension is 1096"
     ]
    }
   ],
   "source": [
    "exemplars = []\n",
    "for label in np.unique(y):\n",
    "    y_new = y[y==label]\n",
    "    X_new = X[y==label]\n",
    "    n = np.random.randint(0,X_new.shape[0])\n",
    "    exemplars.append({y_new[n]: X_new[n,:]})\n",
    "    print(X_new.shape)\n",
    "exemplars"
   ]
  },
  {
   "cell_type": "code",
   "execution_count": null,
   "id": "863f52f7-679c-4df1-a8ed-5d6633b18c8f",
   "metadata": {},
   "outputs": [],
   "source": [
    "y[:10]"
   ]
  },
  {
   "cell_type": "code",
   "execution_count": null,
   "id": "67727802-c7f0-4945-9457-259f399854bc",
   "metadata": {},
   "outputs": [],
   "source": [
    "import numpy as np\n",
    "\n",
    "# Example data (ensure X and y have matching first dimensions)\n",
    "X = np.random.rand(1096, 24)\n",
    "y = np.random.choice(['label1', 'label2', 'label3'], 1096)\n",
    "\n",
    "# Check dimensions\n",
    "print(f\"X shape: {X.shape}\")\n",
    "print(f\"y shape: {y.shape}\")\n",
    "\n",
    "# Apply masking based on unique labels in y\n",
    "for label in np.unique(y):\n",
    "    X_new = X[y == label]\n",
    "    print(f\"Shape for label '{label}': {X_new.shape}\")\n"
   ]
  },
  {
   "cell_type": "code",
   "execution_count": null,
   "id": "3c07c5ae-8611-47e8-927c-96c25f53adc5",
   "metadata": {},
   "outputs": [],
   "source": []
  },
  {
   "cell_type": "code",
   "execution_count": null,
   "id": "5c81d923-38a9-465b-8c93-a8431afe8850",
   "metadata": {},
   "outputs": [],
   "source": []
  }
 ],
 "metadata": {
  "kernelspec": {
   "display_name": "Python 3 (ipykernel)",
   "language": "python",
   "name": "python3"
  },
  "language_info": {
   "codemirror_mode": {
    "name": "ipython",
    "version": 3
   },
   "file_extension": ".py",
   "mimetype": "text/x-python",
   "name": "python",
   "nbconvert_exporter": "python",
   "pygments_lexer": "ipython3",
   "version": "3.12.2"
  }
 },
 "nbformat": 4,
 "nbformat_minor": 5
}
