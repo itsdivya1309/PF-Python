{
 "cells": [
  {
   "cell_type": "code",
   "execution_count": 1,
   "id": "5f1ae822-93cb-4bb5-b561-706488be3d9d",
   "metadata": {},
   "outputs": [],
   "source": [
    "from aeon.classification.distance_based import ProximityTree\n",
    "import numpy as np\n",
    "\n",
    "from numba import njit"
   ]
  },
  {
   "cell_type": "code",
   "execution_count": 8,
   "id": "33c829b0-6128-43dd-ac29-67a62673c509",
   "metadata": {},
   "outputs": [],
   "source": [
    "from aeon.datasets import load_italy_power_demand\n",
    "X, y = load_italy_power_demand(return_type='numpy3d')"
   ]
  },
  {
   "cell_type": "code",
   "execution_count": 9,
   "id": "e06c4324-3660-4fa1-9ed9-5f3e7289091e",
   "metadata": {},
   "outputs": [],
   "source": [
    "clf = ProximityTree(n_splitters = 7)"
   ]
  },
  {
   "cell_type": "code",
   "execution_count": 10,
   "id": "3f31a76c-0fb8-410f-99f0-182476d5aa61",
   "metadata": {},
   "outputs": [
    {
     "data": {
      "text/plain": [
       "(196, 1, 24)"
      ]
     },
     "execution_count": 10,
     "metadata": {},
     "output_type": "execute_result"
    }
   ],
   "source": [
    "X_train, X_test = X[:900], X[900:]\n",
    "y_train, y_test = y[:900],y[900:]\n",
    "X_test.shape"
   ]
  },
  {
   "cell_type": "code",
   "execution_count": 5,
   "id": "58d5d514-e550-455e-ae98-464a6eba8064",
   "metadata": {},
   "outputs": [
    {
     "ename": "ValueError",
     "evalue": "cannot select an axis to squeeze out which has size not equal to one",
     "output_type": "error",
     "traceback": [
      "\u001b[1;31m---------------------------------------------------------------------------\u001b[0m",
      "\u001b[1;31mValueError\u001b[0m                                Traceback (most recent call last)",
      "Cell \u001b[1;32mIn[5], line 1\u001b[0m\n\u001b[1;32m----> 1\u001b[0m X \u001b[38;5;241m=\u001b[39m X\u001b[38;5;241m.\u001b[39msqueeze(axis\u001b[38;5;241m=\u001b[39m\u001b[38;5;241m1\u001b[39m)\n\u001b[0;32m      2\u001b[0m X\u001b[38;5;241m.\u001b[39mshape\n\u001b[0;32m      3\u001b[0m \u001b[38;5;66;03m#X1 = X\u001b[39;00m\n",
      "\u001b[1;31mValueError\u001b[0m: cannot select an axis to squeeze out which has size not equal to one"
     ]
    }
   ],
   "source": [
    "X = X.squeeze(axis=1)\n",
    "X.shape\n",
    "#X1 = X\n",
    "X1 = X1.squeeze()\n",
    "X1.shape"
   ]
  },
  {
   "cell_type": "code",
   "execution_count": 5,
   "id": "5a9b46e3-e5e8-48b4-a696-8be195bcdb51",
   "metadata": {},
   "outputs": [
    {
     "data": {
      "text/plain": [
       "(900,)"
      ]
     },
     "execution_count": 5,
     "metadata": {},
     "output_type": "execute_result"
    }
   ],
   "source": [
    "y_train.shape"
   ]
  },
  {
   "cell_type": "code",
   "execution_count": 11,
   "id": "81b048fc-237a-41a2-b3ed-cc6ed0866b54",
   "metadata": {},
   "outputs": [
    {
     "data": {
      "text/html": [
       "<style>#sk-container-id-2 {\n",
       "  /* Definition of color scheme common for light and dark mode */\n",
       "  --sklearn-color-text: black;\n",
       "  --sklearn-color-line: gray;\n",
       "  /* Definition of color scheme for unfitted estimators */\n",
       "  --sklearn-color-unfitted-level-0: #fff5e6;\n",
       "  --sklearn-color-unfitted-level-1: #f6e4d2;\n",
       "  --sklearn-color-unfitted-level-2: #ffe0b3;\n",
       "  --sklearn-color-unfitted-level-3: chocolate;\n",
       "  /* Definition of color scheme for fitted estimators */\n",
       "  --sklearn-color-fitted-level-0: #f0f8ff;\n",
       "  --sklearn-color-fitted-level-1: #d4ebff;\n",
       "  --sklearn-color-fitted-level-2: #b3dbfd;\n",
       "  --sklearn-color-fitted-level-3: cornflowerblue;\n",
       "\n",
       "  /* Specific color for light theme */\n",
       "  --sklearn-color-text-on-default-background: var(--sg-text-color, var(--theme-code-foreground, var(--jp-content-font-color1, black)));\n",
       "  --sklearn-color-background: var(--sg-background-color, var(--theme-background, var(--jp-layout-color0, white)));\n",
       "  --sklearn-color-border-box: var(--sg-text-color, var(--theme-code-foreground, var(--jp-content-font-color1, black)));\n",
       "  --sklearn-color-icon: #696969;\n",
       "\n",
       "  @media (prefers-color-scheme: dark) {\n",
       "    /* Redefinition of color scheme for dark theme */\n",
       "    --sklearn-color-text-on-default-background: var(--sg-text-color, var(--theme-code-foreground, var(--jp-content-font-color1, white)));\n",
       "    --sklearn-color-background: var(--sg-background-color, var(--theme-background, var(--jp-layout-color0, #111)));\n",
       "    --sklearn-color-border-box: var(--sg-text-color, var(--theme-code-foreground, var(--jp-content-font-color1, white)));\n",
       "    --sklearn-color-icon: #878787;\n",
       "  }\n",
       "}\n",
       "\n",
       "#sk-container-id-2 {\n",
       "  color: var(--sklearn-color-text);\n",
       "}\n",
       "\n",
       "#sk-container-id-2 pre {\n",
       "  padding: 0;\n",
       "}\n",
       "\n",
       "#sk-container-id-2 input.sk-hidden--visually {\n",
       "  border: 0;\n",
       "  clip: rect(1px 1px 1px 1px);\n",
       "  clip: rect(1px, 1px, 1px, 1px);\n",
       "  height: 1px;\n",
       "  margin: -1px;\n",
       "  overflow: hidden;\n",
       "  padding: 0;\n",
       "  position: absolute;\n",
       "  width: 1px;\n",
       "}\n",
       "\n",
       "#sk-container-id-2 div.sk-dashed-wrapped {\n",
       "  border: 1px dashed var(--sklearn-color-line);\n",
       "  margin: 0 0.4em 0.5em 0.4em;\n",
       "  box-sizing: border-box;\n",
       "  padding-bottom: 0.4em;\n",
       "  background-color: var(--sklearn-color-background);\n",
       "}\n",
       "\n",
       "#sk-container-id-2 div.sk-container {\n",
       "  /* jupyter's `normalize.less` sets `[hidden] { display: none; }`\n",
       "     but bootstrap.min.css set `[hidden] { display: none !important; }`\n",
       "     so we also need the `!important` here to be able to override the\n",
       "     default hidden behavior on the sphinx rendered scikit-learn.org.\n",
       "     See: https://github.com/scikit-learn/scikit-learn/issues/21755 */\n",
       "  display: inline-block !important;\n",
       "  position: relative;\n",
       "}\n",
       "\n",
       "#sk-container-id-2 div.sk-text-repr-fallback {\n",
       "  display: none;\n",
       "}\n",
       "\n",
       "div.sk-parallel-item,\n",
       "div.sk-serial,\n",
       "div.sk-item {\n",
       "  /* draw centered vertical line to link estimators */\n",
       "  background-image: linear-gradient(var(--sklearn-color-text-on-default-background), var(--sklearn-color-text-on-default-background));\n",
       "  background-size: 2px 100%;\n",
       "  background-repeat: no-repeat;\n",
       "  background-position: center center;\n",
       "}\n",
       "\n",
       "/* Parallel-specific style estimator block */\n",
       "\n",
       "#sk-container-id-2 div.sk-parallel-item::after {\n",
       "  content: \"\";\n",
       "  width: 100%;\n",
       "  border-bottom: 2px solid var(--sklearn-color-text-on-default-background);\n",
       "  flex-grow: 1;\n",
       "}\n",
       "\n",
       "#sk-container-id-2 div.sk-parallel {\n",
       "  display: flex;\n",
       "  align-items: stretch;\n",
       "  justify-content: center;\n",
       "  background-color: var(--sklearn-color-background);\n",
       "  position: relative;\n",
       "}\n",
       "\n",
       "#sk-container-id-2 div.sk-parallel-item {\n",
       "  display: flex;\n",
       "  flex-direction: column;\n",
       "}\n",
       "\n",
       "#sk-container-id-2 div.sk-parallel-item:first-child::after {\n",
       "  align-self: flex-end;\n",
       "  width: 50%;\n",
       "}\n",
       "\n",
       "#sk-container-id-2 div.sk-parallel-item:last-child::after {\n",
       "  align-self: flex-start;\n",
       "  width: 50%;\n",
       "}\n",
       "\n",
       "#sk-container-id-2 div.sk-parallel-item:only-child::after {\n",
       "  width: 0;\n",
       "}\n",
       "\n",
       "/* Serial-specific style estimator block */\n",
       "\n",
       "#sk-container-id-2 div.sk-serial {\n",
       "  display: flex;\n",
       "  flex-direction: column;\n",
       "  align-items: center;\n",
       "  background-color: var(--sklearn-color-background);\n",
       "  padding-right: 1em;\n",
       "  padding-left: 1em;\n",
       "}\n",
       "\n",
       "\n",
       "/* Toggleable style: style used for estimator/Pipeline/ColumnTransformer box that is\n",
       "clickable and can be expanded/collapsed.\n",
       "- Pipeline and ColumnTransformer use this feature and define the default style\n",
       "- Estimators will overwrite some part of the style using the `sk-estimator` class\n",
       "*/\n",
       "\n",
       "/* Pipeline and ColumnTransformer style (default) */\n",
       "\n",
       "#sk-container-id-2 div.sk-toggleable {\n",
       "  /* Default theme specific background. It is overwritten whether we have a\n",
       "  specific estimator or a Pipeline/ColumnTransformer */\n",
       "  background-color: var(--sklearn-color-background);\n",
       "}\n",
       "\n",
       "/* Toggleable label */\n",
       "#sk-container-id-2 label.sk-toggleable__label {\n",
       "  cursor: pointer;\n",
       "  display: block;\n",
       "  width: 100%;\n",
       "  margin-bottom: 0;\n",
       "  padding: 0.5em;\n",
       "  box-sizing: border-box;\n",
       "  text-align: center;\n",
       "}\n",
       "\n",
       "#sk-container-id-2 label.sk-toggleable__label-arrow:before {\n",
       "  /* Arrow on the left of the label */\n",
       "  content: \"▸\";\n",
       "  float: left;\n",
       "  margin-right: 0.25em;\n",
       "  color: var(--sklearn-color-icon);\n",
       "}\n",
       "\n",
       "#sk-container-id-2 label.sk-toggleable__label-arrow:hover:before {\n",
       "  color: var(--sklearn-color-text);\n",
       "}\n",
       "\n",
       "/* Toggleable content - dropdown */\n",
       "\n",
       "#sk-container-id-2 div.sk-toggleable__content {\n",
       "  max-height: 0;\n",
       "  max-width: 0;\n",
       "  overflow: hidden;\n",
       "  text-align: left;\n",
       "  /* unfitted */\n",
       "  background-color: var(--sklearn-color-unfitted-level-0);\n",
       "}\n",
       "\n",
       "#sk-container-id-2 div.sk-toggleable__content.fitted {\n",
       "  /* fitted */\n",
       "  background-color: var(--sklearn-color-fitted-level-0);\n",
       "}\n",
       "\n",
       "#sk-container-id-2 div.sk-toggleable__content pre {\n",
       "  margin: 0.2em;\n",
       "  border-radius: 0.25em;\n",
       "  color: var(--sklearn-color-text);\n",
       "  /* unfitted */\n",
       "  background-color: var(--sklearn-color-unfitted-level-0);\n",
       "}\n",
       "\n",
       "#sk-container-id-2 div.sk-toggleable__content.fitted pre {\n",
       "  /* unfitted */\n",
       "  background-color: var(--sklearn-color-fitted-level-0);\n",
       "}\n",
       "\n",
       "#sk-container-id-2 input.sk-toggleable__control:checked~div.sk-toggleable__content {\n",
       "  /* Expand drop-down */\n",
       "  max-height: 200px;\n",
       "  max-width: 100%;\n",
       "  overflow: auto;\n",
       "}\n",
       "\n",
       "#sk-container-id-2 input.sk-toggleable__control:checked~label.sk-toggleable__label-arrow:before {\n",
       "  content: \"▾\";\n",
       "}\n",
       "\n",
       "/* Pipeline/ColumnTransformer-specific style */\n",
       "\n",
       "#sk-container-id-2 div.sk-label input.sk-toggleable__control:checked~label.sk-toggleable__label {\n",
       "  color: var(--sklearn-color-text);\n",
       "  background-color: var(--sklearn-color-unfitted-level-2);\n",
       "}\n",
       "\n",
       "#sk-container-id-2 div.sk-label.fitted input.sk-toggleable__control:checked~label.sk-toggleable__label {\n",
       "  background-color: var(--sklearn-color-fitted-level-2);\n",
       "}\n",
       "\n",
       "/* Estimator-specific style */\n",
       "\n",
       "/* Colorize estimator box */\n",
       "#sk-container-id-2 div.sk-estimator input.sk-toggleable__control:checked~label.sk-toggleable__label {\n",
       "  /* unfitted */\n",
       "  background-color: var(--sklearn-color-unfitted-level-2);\n",
       "}\n",
       "\n",
       "#sk-container-id-2 div.sk-estimator.fitted input.sk-toggleable__control:checked~label.sk-toggleable__label {\n",
       "  /* fitted */\n",
       "  background-color: var(--sklearn-color-fitted-level-2);\n",
       "}\n",
       "\n",
       "#sk-container-id-2 div.sk-label label.sk-toggleable__label,\n",
       "#sk-container-id-2 div.sk-label label {\n",
       "  /* The background is the default theme color */\n",
       "  color: var(--sklearn-color-text-on-default-background);\n",
       "}\n",
       "\n",
       "/* On hover, darken the color of the background */\n",
       "#sk-container-id-2 div.sk-label:hover label.sk-toggleable__label {\n",
       "  color: var(--sklearn-color-text);\n",
       "  background-color: var(--sklearn-color-unfitted-level-2);\n",
       "}\n",
       "\n",
       "/* Label box, darken color on hover, fitted */\n",
       "#sk-container-id-2 div.sk-label.fitted:hover label.sk-toggleable__label.fitted {\n",
       "  color: var(--sklearn-color-text);\n",
       "  background-color: var(--sklearn-color-fitted-level-2);\n",
       "}\n",
       "\n",
       "/* Estimator label */\n",
       "\n",
       "#sk-container-id-2 div.sk-label label {\n",
       "  font-family: monospace;\n",
       "  font-weight: bold;\n",
       "  display: inline-block;\n",
       "  line-height: 1.2em;\n",
       "}\n",
       "\n",
       "#sk-container-id-2 div.sk-label-container {\n",
       "  text-align: center;\n",
       "}\n",
       "\n",
       "/* Estimator-specific */\n",
       "#sk-container-id-2 div.sk-estimator {\n",
       "  font-family: monospace;\n",
       "  border: 1px dotted var(--sklearn-color-border-box);\n",
       "  border-radius: 0.25em;\n",
       "  box-sizing: border-box;\n",
       "  margin-bottom: 0.5em;\n",
       "  /* unfitted */\n",
       "  background-color: var(--sklearn-color-unfitted-level-0);\n",
       "}\n",
       "\n",
       "#sk-container-id-2 div.sk-estimator.fitted {\n",
       "  /* fitted */\n",
       "  background-color: var(--sklearn-color-fitted-level-0);\n",
       "}\n",
       "\n",
       "/* on hover */\n",
       "#sk-container-id-2 div.sk-estimator:hover {\n",
       "  /* unfitted */\n",
       "  background-color: var(--sklearn-color-unfitted-level-2);\n",
       "}\n",
       "\n",
       "#sk-container-id-2 div.sk-estimator.fitted:hover {\n",
       "  /* fitted */\n",
       "  background-color: var(--sklearn-color-fitted-level-2);\n",
       "}\n",
       "\n",
       "/* Specification for estimator info (e.g. \"i\" and \"?\") */\n",
       "\n",
       "/* Common style for \"i\" and \"?\" */\n",
       "\n",
       ".sk-estimator-doc-link,\n",
       "a:link.sk-estimator-doc-link,\n",
       "a:visited.sk-estimator-doc-link {\n",
       "  float: right;\n",
       "  font-size: smaller;\n",
       "  line-height: 1em;\n",
       "  font-family: monospace;\n",
       "  background-color: var(--sklearn-color-background);\n",
       "  border-radius: 1em;\n",
       "  height: 1em;\n",
       "  width: 1em;\n",
       "  text-decoration: none !important;\n",
       "  margin-left: 1ex;\n",
       "  /* unfitted */\n",
       "  border: var(--sklearn-color-unfitted-level-1) 1pt solid;\n",
       "  color: var(--sklearn-color-unfitted-level-1);\n",
       "}\n",
       "\n",
       ".sk-estimator-doc-link.fitted,\n",
       "a:link.sk-estimator-doc-link.fitted,\n",
       "a:visited.sk-estimator-doc-link.fitted {\n",
       "  /* fitted */\n",
       "  border: var(--sklearn-color-fitted-level-1) 1pt solid;\n",
       "  color: var(--sklearn-color-fitted-level-1);\n",
       "}\n",
       "\n",
       "/* On hover */\n",
       "div.sk-estimator:hover .sk-estimator-doc-link:hover,\n",
       ".sk-estimator-doc-link:hover,\n",
       "div.sk-label-container:hover .sk-estimator-doc-link:hover,\n",
       ".sk-estimator-doc-link:hover {\n",
       "  /* unfitted */\n",
       "  background-color: var(--sklearn-color-unfitted-level-3);\n",
       "  color: var(--sklearn-color-background);\n",
       "  text-decoration: none;\n",
       "}\n",
       "\n",
       "div.sk-estimator.fitted:hover .sk-estimator-doc-link.fitted:hover,\n",
       ".sk-estimator-doc-link.fitted:hover,\n",
       "div.sk-label-container:hover .sk-estimator-doc-link.fitted:hover,\n",
       ".sk-estimator-doc-link.fitted:hover {\n",
       "  /* fitted */\n",
       "  background-color: var(--sklearn-color-fitted-level-3);\n",
       "  color: var(--sklearn-color-background);\n",
       "  text-decoration: none;\n",
       "}\n",
       "\n",
       "/* Span, style for the box shown on hovering the info icon */\n",
       ".sk-estimator-doc-link span {\n",
       "  display: none;\n",
       "  z-index: 9999;\n",
       "  position: relative;\n",
       "  font-weight: normal;\n",
       "  right: .2ex;\n",
       "  padding: .5ex;\n",
       "  margin: .5ex;\n",
       "  width: min-content;\n",
       "  min-width: 20ex;\n",
       "  max-width: 50ex;\n",
       "  color: var(--sklearn-color-text);\n",
       "  box-shadow: 2pt 2pt 4pt #999;\n",
       "  /* unfitted */\n",
       "  background: var(--sklearn-color-unfitted-level-0);\n",
       "  border: .5pt solid var(--sklearn-color-unfitted-level-3);\n",
       "}\n",
       "\n",
       ".sk-estimator-doc-link.fitted span {\n",
       "  /* fitted */\n",
       "  background: var(--sklearn-color-fitted-level-0);\n",
       "  border: var(--sklearn-color-fitted-level-3);\n",
       "}\n",
       "\n",
       ".sk-estimator-doc-link:hover span {\n",
       "  display: block;\n",
       "}\n",
       "\n",
       "/* \"?\"-specific style due to the `<a>` HTML tag */\n",
       "\n",
       "#sk-container-id-2 a.estimator_doc_link {\n",
       "  float: right;\n",
       "  font-size: 1rem;\n",
       "  line-height: 1em;\n",
       "  font-family: monospace;\n",
       "  background-color: var(--sklearn-color-background);\n",
       "  border-radius: 1rem;\n",
       "  height: 1rem;\n",
       "  width: 1rem;\n",
       "  text-decoration: none;\n",
       "  /* unfitted */\n",
       "  color: var(--sklearn-color-unfitted-level-1);\n",
       "  border: var(--sklearn-color-unfitted-level-1) 1pt solid;\n",
       "}\n",
       "\n",
       "#sk-container-id-2 a.estimator_doc_link.fitted {\n",
       "  /* fitted */\n",
       "  border: var(--sklearn-color-fitted-level-1) 1pt solid;\n",
       "  color: var(--sklearn-color-fitted-level-1);\n",
       "}\n",
       "\n",
       "/* On hover */\n",
       "#sk-container-id-2 a.estimator_doc_link:hover {\n",
       "  /* unfitted */\n",
       "  background-color: var(--sklearn-color-unfitted-level-3);\n",
       "  color: var(--sklearn-color-background);\n",
       "  text-decoration: none;\n",
       "}\n",
       "\n",
       "#sk-container-id-2 a.estimator_doc_link.fitted:hover {\n",
       "  /* fitted */\n",
       "  background-color: var(--sklearn-color-fitted-level-3);\n",
       "}\n",
       "</style><div id=\"sk-container-id-2\" class=\"sk-top-container\"><div class=\"sk-text-repr-fallback\"><pre>ProximityTree(n_splitters=7)</pre><b>In a Jupyter environment, please rerun this cell to show the HTML representation or trust the notebook. <br />On GitHub, the HTML representation is unable to render, please try loading this page with nbviewer.org.</b></div><div class=\"sk-container\" hidden><div class=\"sk-item\"><div class=\"sk-estimator fitted sk-toggleable\"><input class=\"sk-toggleable__control sk-hidden--visually\" id=\"sk-estimator-id-2\" type=\"checkbox\" checked><label for=\"sk-estimator-id-2\" class=\"sk-toggleable__label fitted sk-toggleable__label-arrow fitted\">&nbsp;ProximityTree<span class=\"sk-estimator-doc-link fitted\">i<span>Fitted</span></span></label><div class=\"sk-toggleable__content fitted\"><pre>ProximityTree(n_splitters=7)</pre></div> </div></div></div></div>"
      ],
      "text/plain": [
       "ProximityTree(n_splitters=7)"
      ]
     },
     "execution_count": 11,
     "metadata": {},
     "output_type": "execute_result"
    }
   ],
   "source": [
    "clf.fit(X_train,y_train)"
   ]
  },
  {
   "cell_type": "code",
   "execution_count": 12,
   "id": "c453b624-282a-4215-8369-fbfa990a3081",
   "metadata": {},
   "outputs": [],
   "source": [
    "from sklearn.metrics import accuracy_score\n",
    "\n",
    "y_pred = clf.predict(X_test)\n",
    "score = accuracy_score(y_pred, y_test)"
   ]
  },
  {
   "cell_type": "code",
   "execution_count": 13,
   "id": "e6b8b8b1-4d21-4f51-a61c-c15690570d58",
   "metadata": {},
   "outputs": [
    {
     "data": {
      "text/plain": [
       "0.9387755102040817"
      ]
     },
     "execution_count": 13,
     "metadata": {},
     "output_type": "execute_result"
    }
   ],
   "source": [
    "score"
   ]
  },
  {
   "cell_type": "code",
   "execution_count": 8,
   "id": "2f75e18a-9b56-4228-92f6-5407e517ae1a",
   "metadata": {},
   "outputs": [
    {
     "data": {
      "text/plain": [
       "1096"
      ]
     },
     "execution_count": 8,
     "metadata": {},
     "output_type": "execute_result"
    }
   ],
   "source": [
    "len(X)"
   ]
  },
  {
   "cell_type": "code",
   "execution_count": 6,
   "id": "963eea17-61dd-4bad-8f57-fd012c7d163f",
   "metadata": {},
   "outputs": [
    {
     "data": {
      "text/plain": [
       "1"
      ]
     },
     "execution_count": 6,
     "metadata": {},
     "output_type": "execute_result"
    }
   ],
   "source": [
    "y.ndim"
   ]
  },
  {
   "cell_type": "code",
   "execution_count": 7,
   "id": "5ad6dce7-881f-434c-a6e6-36bdfa12e56a",
   "metadata": {},
   "outputs": [
    {
     "data": {
      "text/plain": [
       "(1096, 1, 24)"
      ]
     },
     "execution_count": 7,
     "metadata": {},
     "output_type": "execute_result"
    }
   ],
   "source": [
    "X.shape"
   ]
  },
  {
   "cell_type": "code",
   "execution_count": 8,
   "id": "8726182c-dbb8-4fcf-9720-75928416195b",
   "metadata": {},
   "outputs": [
    {
     "data": {
      "text/plain": [
       "3"
      ]
     },
     "execution_count": 8,
     "metadata": {},
     "output_type": "execute_result"
    }
   ],
   "source": [
    "X.reshape((X.shape[0],-1))\n",
    "X.ndim"
   ]
  },
  {
   "cell_type": "code",
   "execution_count": 9,
   "id": "84357723-d48d-42df-90a9-0db08d0ca378",
   "metadata": {},
   "outputs": [
    {
     "data": {
      "text/plain": [
       "array([], dtype=int32)"
      ]
     },
     "execution_count": 9,
     "metadata": {},
     "output_type": "execute_result"
    }
   ],
   "source": [
    "y = np.array([1,1,2,2,4,4,2,2])\n",
    "y_subs = [np.array([1,1,4,4]), np.array([2,2,2,2])]\n",
    "a = np.array([], dtype = y.dtype)\n",
    "a"
   ]
  },
  {
   "cell_type": "code",
   "execution_count": 18,
   "id": "00baa9e7-dc21-4867-9722-19e0a57a888c",
   "metadata": {},
   "outputs": [
    {
     "data": {
      "text/plain": [
       "2"
      ]
     },
     "execution_count": 18,
     "metadata": {},
     "output_type": "execute_result"
    }
   ],
   "source": [
    "splitter = clf.get_candidate_splitter(X,y)\n",
    "len(splitter)"
   ]
  },
  {
   "cell_type": "code",
   "execution_count": 16,
   "id": "2a06760a-298e-4b1f-b677-587fd0675b95",
   "metadata": {},
   "outputs": [
    {
     "data": {
      "text/plain": [
       "(10, 50)"
      ]
     },
     "execution_count": 16,
     "metadata": {},
     "output_type": "execute_result"
    }
   ],
   "source": [
    "X = np.random.rand(10, 50)\n",
    "X.shape"
   ]
  },
  {
   "cell_type": "code",
   "execution_count": 17,
   "id": "f7f05282-f17a-4a3b-bbce-2b73eccda073",
   "metadata": {},
   "outputs": [
    {
     "data": {
      "text/plain": [
       "(10,)"
      ]
     },
     "execution_count": 17,
     "metadata": {},
     "output_type": "execute_result"
    }
   ],
   "source": [
    "y = np.array([1,1,1,2,2,2,0,0,0,1])\n",
    "y.shape"
   ]
  },
  {
   "cell_type": "code",
   "execution_count": 20,
   "id": "2ad0604b-ae25-464b-9684-27e531be5300",
   "metadata": {},
   "outputs": [
    {
     "data": {
      "text/plain": [
       "dict_keys(['lcss'])"
      ]
     },
     "execution_count": 20,
     "metadata": {},
     "output_type": "execute_result"
    }
   ],
   "source": [
    "splitter[1].keys()"
   ]
  },
  {
   "cell_type": "code",
   "execution_count": 21,
   "id": "05bacdb7-4435-4fae-8b62-4c1c037c3145",
   "metadata": {},
   "outputs": [],
   "source": [
    "from sklearn.utils import check_random_state"
   ]
  },
  {
   "cell_type": "code",
   "execution_count": 22,
   "id": "eb254d77-9c82-43ab-8357-956937e1cf23",
   "metadata": {},
   "outputs": [],
   "source": [
    "random_state = 42\n",
    "st1 = check_random_state(random_state)"
   ]
  },
  {
   "cell_type": "code",
   "execution_count": 23,
   "id": "f3f4a05a-7383-46c9-b306-6361fbea1c2e",
   "metadata": {},
   "outputs": [],
   "source": [
    "st2 = check_random_state(random_state)"
   ]
  },
  {
   "cell_type": "code",
   "execution_count": 24,
   "id": "7a926921-8063-48dd-805b-2240d3fb76b8",
   "metadata": {},
   "outputs": [
    {
     "data": {
      "text/plain": [
       "RandomState(MT19937) at 0x1EFF83D0240"
      ]
     },
     "execution_count": 24,
     "metadata": {},
     "output_type": "execute_result"
    }
   ],
   "source": [
    "st1"
   ]
  },
  {
   "cell_type": "code",
   "execution_count": 26,
   "id": "3a22c1c1-e73a-459a-baab-870e614025fd",
   "metadata": {},
   "outputs": [
    {
     "data": {
      "text/plain": [
       "RandomState(MT19937) at 0x1EFF83D0840"
      ]
     },
     "execution_count": 26,
     "metadata": {},
     "output_type": "execute_result"
    }
   ],
   "source": [
    "st2"
   ]
  },
  {
   "cell_type": "code",
   "execution_count": 6,
   "id": "edbe0538-d109-4cd2-a477-0bac41030497",
   "metadata": {},
   "outputs": [],
   "source": [
    "from numba import njit\n",
    "\n",
    "@njit(cache=True, fastmath=True)\n",
    "def gini(y):\n",
    "        \"\"\"Get gini score at a specific node.\n",
    "\n",
    "        Parameters\n",
    "        ----------\n",
    "        y : 1d numpy array\n",
    "            array of class labels\n",
    "\n",
    "        Returns\n",
    "        -------\n",
    "        score : float\n",
    "            gini score for the set of class labels (i.e. how pure they are). A\n",
    "            larger score means more impurity. Zero means\n",
    "            pure.\n",
    "        \"\"\"\n",
    "        # get number instances at node\n",
    "        n_instances = y.shape[0]\n",
    "        if n_instances > 0:\n",
    "            # count each class\n",
    "            unique_labels = list(np.unique(y))\n",
    "            class_counts = []\n",
    "            for i in range(len(unique_labels)):\n",
    "                cnt = 0\n",
    "                for j in range(len(y)):\n",
    "                    if y[j]==unique_labels[i]:\n",
    "                        cnt += 1\n",
    "                class_counts.append(cnt)\n",
    "            class_counts = np.array(class_counts)\n",
    "            # subtract class entropy from current score for each class\n",
    "            class_counts = np.divide(class_counts, n_instances)\n",
    "            class_counts = np.power(class_counts, 2)\n",
    "            sum = np.sum(class_counts)\n",
    "            return 1 - sum\n",
    "        else:\n",
    "            # y is empty, therefore considered pure\n",
    "            raise ValueError(\"y empty\")"
   ]
  },
  {
   "cell_type": "code",
   "execution_count": 11,
   "id": "37e89a3d-96e4-4919-b0d6-ccf630c39ee5",
   "metadata": {},
   "outputs": [
    {
     "data": {
      "text/plain": [
       "0.625"
      ]
     },
     "execution_count": 11,
     "metadata": {},
     "output_type": "execute_result"
    }
   ],
   "source": [
    "gini(y)"
   ]
  },
  {
   "cell_type": "code",
   "execution_count": 36,
   "id": "cf9bb82a-34f0-4c3d-b7fc-d0d1d4393efe",
   "metadata": {},
   "outputs": [
    {
     "data": {
      "text/plain": [
       "array(['1', '2'], dtype='<U1')"
      ]
     },
     "execution_count": 36,
     "metadata": {},
     "output_type": "execute_result"
    }
   ],
   "source": [
    "unique_class_labels, class_counts = np.unique(y, return_counts=True)\n",
    "unique_class_labels"
   ]
  },
  {
   "cell_type": "code",
   "execution_count": 37,
   "id": "b78dfe96-c095-4bb0-920d-82a9ae6633e1",
   "metadata": {},
   "outputs": [
    {
     "data": {
      "text/plain": [
       "array([547, 549], dtype=int64)"
      ]
     },
     "execution_count": 37,
     "metadata": {},
     "output_type": "execute_result"
    }
   ],
   "source": [
    "class_counts"
   ]
  },
  {
   "cell_type": "code",
   "execution_count": 72,
   "id": "faa13ffb-ea7a-480f-b4d1-559dafe36e78",
   "metadata": {},
   "outputs": [],
   "source": [
    "@njit\n",
    "def uniques(y):\n",
    "    unique_labels = list(np.unique(y))\n",
    "    class_counts = []\n",
    "    for i in range(len(unique_labels)):\n",
    "        cnt = 0\n",
    "        for j in range(len(y)):\n",
    "            if y[j]==unique_labels[i]:\n",
    "                cnt += 1\n",
    "        class_counts.append(cnt)\n",
    "    unique_labels = np.array(unique_labels)\n",
    "    class_counts = np.array(class_counts)\n",
    "    return unique_labels, class_counts"
   ]
  },
  {
   "cell_type": "code",
   "execution_count": 73,
   "id": "53e6b4a5-adf3-43c1-a0d4-60edf4fdd91d",
   "metadata": {},
   "outputs": [],
   "source": [
    "unique_labels, class_counts = uniques(y)"
   ]
  },
  {
   "cell_type": "code",
   "execution_count": 74,
   "id": "039a4218-7fbd-4a51-9237-7f8c0dc6b9e0",
   "metadata": {},
   "outputs": [
    {
     "data": {
      "text/plain": [
       "array(['1', '2'], dtype='<U1')"
      ]
     },
     "execution_count": 74,
     "metadata": {},
     "output_type": "execute_result"
    }
   ],
   "source": [
    "unique_labels"
   ]
  },
  {
   "cell_type": "code",
   "execution_count": 62,
   "id": "f46f116b-f607-486a-bd45-d1c7537eaf46",
   "metadata": {},
   "outputs": [
    {
     "data": {
      "text/plain": [
       "array([547, 549], dtype=int64)"
      ]
     },
     "execution_count": 62,
     "metadata": {},
     "output_type": "execute_result"
    }
   ],
   "source": [
    "class_counts"
   ]
  },
  {
   "cell_type": "code",
   "execution_count": 54,
   "id": "35d1839b-4422-42e0-9218-f4e590efeaa6",
   "metadata": {},
   "outputs": [
    {
     "data": {
      "text/plain": [
       "'2'"
      ]
     },
     "execution_count": 54,
     "metadata": {},
     "output_type": "execute_result"
    }
   ],
   "source": [
    "y[2]"
   ]
  },
  {
   "cell_type": "code",
   "execution_count": 56,
   "id": "292498ff-8be5-4d9b-b2d8-f462f62ce4da",
   "metadata": {},
   "outputs": [
    {
     "name": "stdout",
     "output_type": "stream",
     "text": [
      "0\n",
      "1\n"
     ]
    }
   ],
   "source": [
    "for i in range(len(list(np.unique(y)))):\n",
    "    print(i)"
   ]
  },
  {
   "cell_type": "code",
   "execution_count": 63,
   "id": "70ff787c-e8ac-4717-a35e-28cfe45d290d",
   "metadata": {},
   "outputs": [
    {
     "data": {
      "text/plain": [
       "array(['1', '2'], dtype='<U1')"
      ]
     },
     "execution_count": 63,
     "metadata": {},
     "output_type": "execute_result"
    }
   ],
   "source": [
    "unique_labels = np.array(np.unique(y))\n",
    "unique_labels"
   ]
  },
  {
   "cell_type": "code",
   "execution_count": 66,
   "id": "9dbea017-3c63-4985-9453-25587d0e93de",
   "metadata": {},
   "outputs": [
    {
     "data": {
      "text/plain": [
       "1096"
      ]
     },
     "execution_count": 66,
     "metadata": {},
     "output_type": "execute_result"
    }
   ],
   "source": [
    "len(y)"
   ]
  },
  {
   "cell_type": "code",
   "execution_count": 9,
   "id": "b770205a-b9d5-4a2d-bfdb-8dce92bfc099",
   "metadata": {},
   "outputs": [],
   "source": [
    "@njit(cache=True, fastmath=True)\n",
    "def gini_gain(y, y_subs):\n",
    "        \"\"\"Get gini score of a split, i.e. the gain from parent to children.\n",
    "\n",
    "        Parameters\n",
    "        ----------\n",
    "        y : 1d array\n",
    "            array of class labels at parent\n",
    "        y_subs : list of 1d array like\n",
    "            list of array of class labels, one array per child\n",
    "\n",
    "        Returns\n",
    "        -------\n",
    "        score : float\n",
    "            gini score of the split from parent class labels to children. Note a\n",
    "            higher score means better gain,\n",
    "            i.e. a better split\n",
    "        \"\"\"\n",
    "        # find number of instances overall\n",
    "        parent_n_instances = len(y)\n",
    "        # if parent has no instances then is pure\n",
    "        if parent_n_instances == 0:\n",
    "            for child in y_subs:\n",
    "                if len(child) > 0:\n",
    "                    raise ValueError(\"children populated but parent empty\")\n",
    "            return 0.5\n",
    "        # find gini for parent node\n",
    "        score = gini(y)\n",
    "        # sum the children's gini scores\n",
    "        for index in range(len(y_subs)):\n",
    "            child_class_labels = y_subs[index]\n",
    "            # ignore empty children\n",
    "            if len(child_class_labels) > 0:\n",
    "                # find gini score for this child\n",
    "                child_score = gini(child_class_labels)\n",
    "                # weight score by proportion of instances at child compared to\n",
    "                # parent\n",
    "                child_size = len(child_class_labels)\n",
    "                child_score *= child_size / parent_n_instances\n",
    "                # add to cumulative sum\n",
    "                score -= child_score\n",
    "        return score"
   ]
  },
  {
   "cell_type": "code",
   "execution_count": 10,
   "id": "533b9f9e-7561-4a15-9632-e99ff5aec26d",
   "metadata": {},
   "outputs": [
    {
     "data": {
      "text/plain": [
       "0.375"
      ]
     },
     "execution_count": 10,
     "metadata": {},
     "output_type": "execute_result"
    }
   ],
   "source": [
    "y = np.array([1,1,2,2,4,4,2,2])\n",
    "y_subs = [np.array([1,1,4,4]), np.array([2,2,2,2])]\n",
    "gini_gain(y,y_subs)"
   ]
  },
  {
   "cell_type": "code",
   "execution_count": 8,
   "id": "611543bd-d86a-4373-9fbc-8f6ab7aeaaf9",
   "metadata": {},
   "outputs": [
    {
     "data": {
      "text/plain": [
       "0.375"
      ]
     },
     "execution_count": 8,
     "metadata": {},
     "output_type": "execute_result"
    }
   ],
   "source": [
    "from aeon.classification.distance_based._proximity_tree import gini_gain\n",
    "y = np.array([1,1,2,2,4,4,2,2])\n",
    "y_subs = [np.array([1,1,4,4]), np.array([2,2,2,2])]\n",
    "gini_gain(y, y_subs)"
   ]
  },
  {
   "cell_type": "code",
   "execution_count": 10,
   "id": "8fa64944-bffa-47dc-8ff8-134fac47f707",
   "metadata": {},
   "outputs": [
    {
     "data": {
      "text/plain": [
       "3"
      ]
     },
     "execution_count": 10,
     "metadata": {},
     "output_type": "execute_result"
    }
   ],
   "source": [
    "len(np.unique(y))"
   ]
  },
  {
   "cell_type": "code",
   "execution_count": 11,
   "id": "5f0538ab-73c3-4013-85f7-10d668c13f8a",
   "metadata": {},
   "outputs": [
    {
     "data": {
      "text/plain": [
       "array([1, 2, 4])"
      ]
     },
     "execution_count": 11,
     "metadata": {},
     "output_type": "execute_result"
    }
   ],
   "source": [
    "np.unique(y)"
   ]
  },
  {
   "cell_type": "code",
   "execution_count": 80,
   "id": "46ea054e-24fd-49d7-815d-c05b7b594732",
   "metadata": {},
   "outputs": [],
   "source": [
    "from typing import Type, Union\n",
    "\n",
    "import numpy as np\n",
    "from numba import njit\n",
    "from sklearn.utils import check_random_state\n",
    "\n",
    "from aeon.classification.base import BaseClassifier\n",
    "from aeon.distances import distance\n",
    "\n",
    "\n",
    "class _Node:\n",
    "    \"\"\"Proximity Tree node.\n",
    "\n",
    "    Parameters\n",
    "    ----------\n",
    "    node_id: str\n",
    "        The id of node, root node has id 0.\n",
    "    _is_leaf: bool\n",
    "        To identify leaf nodes.\n",
    "    label: int, str or None\n",
    "        Contains the class label of leaf node, None otherwise.\n",
    "    splitter: dict\n",
    "        The splitter used to split the node.\n",
    "    class_distribution: dict\n",
    "        In case of unpure leaf node, save the class distribution to calculate\n",
    "        probability of each class.\n",
    "    children: dict\n",
    "        Contains the class label and the associated node, empty for leaf node.\n",
    "    \"\"\"\n",
    "\n",
    "    def __init__(\n",
    "        self,\n",
    "        node_id: str,\n",
    "        _is_leaf: bool,\n",
    "        label=None,\n",
    "        class_distribution=None,\n",
    "        splitter=None,\n",
    "    ):\n",
    "        self.node_id = node_id\n",
    "        self._is_leaf = _is_leaf\n",
    "        self.label = label\n",
    "        self.splitter = splitter\n",
    "        self.class_distribution = class_distribution or {}\n",
    "        self.children = {}\n",
    "\n",
    "\n",
    "class ProximityTree(BaseClassifier):\n",
    "    \"\"\"Proximity Tree classifier.\n",
    "\n",
    "    A Proximity Tree is similar to a decision tree classifier where\n",
    "    the splits are based on similarity to chosen time series exemplars.\n",
    "    A Proximity Tree splits the data based on the proximity of each instance to\n",
    "    each of a set of class exemplars based on a parameterized similarity measure. The\n",
    "    tree is constructed recursively from the root node down to the leaf nodes.\n",
    "    At each node (other than leaf nodes) a pool of candidate splitters are evaluated.\n",
    "    Each splitter has a set of exemplar time series for each class chosen randomly,\n",
    "    and a parameterized distance measure, also chosen randomly. The splitter that\n",
    "    maximizes the difference between the Gini impurity of the parent node and the\n",
    "    weighted sum of Gini impurity of the child nodes.\n",
    "\n",
    "    Parameters\n",
    "    ----------\n",
    "    n_splitters: int, default = 5\n",
    "        The number of candidate splitters to be evaluated at each node.\n",
    "    max_depth: int, default = None\n",
    "        The maximum depth of the tree. If None, then nodes are expanded until all\n",
    "        leaves are pure or until all leaves contain less than min_samples_split samples.\n",
    "    min_samples_split: int, default = 2\n",
    "        The minimum number of samples required to split an internal node.\n",
    "    random_state : int, RandomState instance or None, default=None\n",
    "        If `int`, random_state is the seed used by the random number generator;\n",
    "        If `RandomState` instance, random_state is the random number generator;\n",
    "        If `None`, the random number generator is the `RandomState` instance used\n",
    "        by `np.random`.\n",
    "    n_jobs : int, default = None\n",
    "        The number of parallel jobs to run for neighbors search.\n",
    "        ``None`` means 1 unless in a :obj:`joblib.parallel_backend` context.\n",
    "        ``-1`` means using all processors. See :term:`Glossary <n_jobs>`\n",
    "        for more details. Parameter for compatibility purposes, still unimplemented.\n",
    "\n",
    "    Notes\n",
    "    -----\n",
    "    For the Java version, see\n",
    "    `ProximityTree\n",
    "    <https://github.com/fpetitjean/ProximityForest/blob/master/src/trees/ProximityTree.java>`_.\n",
    "\n",
    "    References\n",
    "    ----------\n",
    "    .. [1] Lucas, B., Shifaz, A., Pelletier, C., O’Neill, L., Zaidi, N., Goethals, B.,\n",
    "    Petitjean, F. and Webb, G.I., 2019. Proximity forest: an effective and scalable\n",
    "    distance-based classifier for time series. Data Mining and Knowledge Discovery,\n",
    "    33(3), pp.607-635.\n",
    "\n",
    "    Examples\n",
    "    --------\n",
    "    >>> from aeon.datasets import load_unit_test\n",
    "    >>> from aeon.classification.distance_based import ProximityTree\n",
    "    >>> X_train, y_train = load_unit_test(split=\"train\")\n",
    "    >>> X_test, y_test = load_unit_test(split=\"test\")\n",
    "    >>> classifier = ProximityTree(n_splitters = 3)\n",
    "    >>> classifier.fit(X_train, y_train)\n",
    "    ProximityTree(...)\n",
    "    >>> y_pred = classifier.predict(X_test)\n",
    "    \"\"\"\n",
    "\n",
    "    _tags = {\n",
    "        \"capability:multivariate\": False,\n",
    "        \"capability:unequal_length\": False,\n",
    "        \"algorithm_type\": \"distance\",\n",
    "        \"X_inner_type\": [\"numpy2D\"],\n",
    "    }\n",
    "\n",
    "    def __init__(\n",
    "        self,\n",
    "        n_splitters: int = 5,\n",
    "        max_depth: int = None,\n",
    "        min_samples_split: int = 2,\n",
    "        random_state: Union[int, Type[np.random.RandomState], None] = None,\n",
    "        n_jobs: int = 1,\n",
    "    ) -> None:\n",
    "        self.n_splitters = n_splitters\n",
    "        self.max_depth = max_depth\n",
    "        self.min_samples_split = min_samples_split\n",
    "        self.random_state = random_state\n",
    "        self.n_jobs = n_jobs\n",
    "        super().__init__()\n",
    "\n",
    "    def _get_parameter_value(self, X):\n",
    "        \"\"\"Generate random parameter values.\n",
    "\n",
    "        For a list of distance measures, generate a dictionary\n",
    "        of parameterized distances.\n",
    "\n",
    "        Parameters\n",
    "        ----------\n",
    "        X : np.ndarray of shape (n_cases, n_timepoints)\n",
    "\n",
    "        Returns\n",
    "        -------\n",
    "        distance_param : a dictionary of distances and their\n",
    "        parameters.\n",
    "        \"\"\"\n",
    "        rng = check_random_state(self.random_state)\n",
    "\n",
    "        X_std = X.std()\n",
    "        param_ranges = {\n",
    "            \"euclidean\": {},\n",
    "            \"dtw\": {\"window\": (0, 0.25)},\n",
    "            \"ddtw\": {\"window\": (0, 0.25)},\n",
    "            \"wdtw\": {\"g\": (0, 1)},\n",
    "            \"wddtw\": {\"g\": (0, 1)},\n",
    "            \"erp\": {\"g\": (X_std / 5, X_std)},\n",
    "            \"lcss\": {\"epsilon\": (X_std / 5, X_std), \"window\": (0, 0.25)},\n",
    "        }\n",
    "        random_params = {}\n",
    "        for measure, ranges in param_ranges.items():\n",
    "            random_params[measure] = {\n",
    "                param: np.round(rng.uniform(low, high), 3)\n",
    "                for param, (low, high) in ranges.items()\n",
    "            }\n",
    "        # For TWE\n",
    "        lmbda = rng.randint(0, 9)\n",
    "        exponent_range = np.arange(1, 6)  # Exponents from -5 to 1 (inclusive)\n",
    "        random_exponent = rng.choice(exponent_range)\n",
    "        nu = 1 / 10**random_exponent\n",
    "        random_params[\"twe\"] = {\"lmbda\": lmbda, \"nu\": nu}\n",
    "\n",
    "        # For MSM\n",
    "        base = 10\n",
    "        # Exponents from -2 to 2 (inclusive)\n",
    "        exponents = np.arange(-2, 3, dtype=np.float64)\n",
    "        # Randomly select an index from the exponent range\n",
    "        random_index = rng.randint(0, len(exponents))\n",
    "        c = base ** exponents[random_index]\n",
    "        random_params[\"msm\"] = {\"c\": c}\n",
    "\n",
    "        return random_params\n",
    "\n",
    "    def _get_candidate_splitter(self, X, y):\n",
    "        \"\"\"Generate candidate splitter.\n",
    "\n",
    "        Takes a time series dataset and a set of parameterized\n",
    "        distance measures to create a candidate splitter, which\n",
    "        contains a parameterized distance measure and a set of exemplars.\n",
    "\n",
    "        Parameters\n",
    "        ----------\n",
    "        X : np.ndarray shape (n_cases, n_timepoints)\n",
    "            The training input samples.\n",
    "        y : np.array shape (n_cases,) or (n_cases,1)\n",
    "            The labels of the training samples.\n",
    "        parameterized_distances : dictionary\n",
    "            Contains the distances and their parameters.\n",
    "\n",
    "        Returns\n",
    "        -------\n",
    "        splitter : list of two dictionaries\n",
    "            A distance and its parameter values and a set of exemplars.\n",
    "        \"\"\"\n",
    "        rng = check_random_state(self.random_state)\n",
    "            \n",
    "        exemplars = {}\n",
    "        for label in range(len(classes_)):\n",
    "            id = rng.randint(0, self.class_locs_[label].shape[0])\n",
    "            exemplars[label] = X[id, :]\n",
    "\n",
    "        # Create a list with first element exemplars and second element a\n",
    "        # random parameterized distance measure\n",
    "        parameterized_distances = self._get_parameter_value(X)\n",
    "        n = rng.randint(0, 9)\n",
    "        dist = list(parameterized_distances.keys())[n]\n",
    "        splitter = [exemplars, {dist: parameterized_distances[dist]}]\n",
    "\n",
    "        return splitter\n",
    "\n",
    "    def _get_best_splitter(self, X, y):\n",
    "        \"\"\"Get the splitter for a node which maximizes the gini gain.\"\"\"\n",
    "        max_gain = float(\"-inf\")\n",
    "        best_splitter = None\n",
    "        for _ in range(self.n_splitters):\n",
    "            splitter = self._get_candidate_splitter(X, y)\n",
    "            labels = list(splitter[0].keys())\n",
    "            measure = list(splitter[1].keys())[0]\n",
    "            y_subs = [[] for _ in range(len(labels))]\n",
    "            for j in range(X.shape[0]):\n",
    "                min_dist = float(\"inf\")\n",
    "                sub = None\n",
    "                for k in range(len(labels)):\n",
    "                    dist = distance(\n",
    "                        X[j],\n",
    "                        splitter[0][labels[k]],\n",
    "                        metric=measure,\n",
    "                        kwargs=splitter[1][measure],\n",
    "                    )\n",
    "                    if dist < min_dist:\n",
    "                        min_dist = dist\n",
    "                        sub = k\n",
    "                y_subs[sub].append(y[j])\n",
    "            y_subs = [np.array(ele, dtype=y.dtype) for ele in y_subs]\n",
    "            gini_index = gini_gain(y, y_subs)\n",
    "            if gini_index > max_gain:\n",
    "                max_gain = gini_index\n",
    "                best_splitter = splitter\n",
    "        return best_splitter\n",
    "\n",
    "    def _build_tree(self, X, y, depth, node_id, parent_target_value=None):\n",
    "\n",
    "        # If the data reaching the node is empty\n",
    "        if len(X) == 0:\n",
    "            leaf_label = parent_target_value\n",
    "            leaf_distribution = {}\n",
    "            leaf = _Node(\n",
    "                node_id=node_id,\n",
    "                _is_leaf=True,\n",
    "                label=leaf_label,\n",
    "                class_distribution=leaf_distribution,\n",
    "            )\n",
    "            return leaf\n",
    "\n",
    "        # Target value in current node\n",
    "        target_value = self._find_target_value(y)\n",
    "        class_distribution = {\n",
    "            label: count / len(y)\n",
    "            for label, count in zip(*np.unique(y, return_counts=True))\n",
    "        }\n",
    "\n",
    "        # If min sample splits is reached\n",
    "        if self.min_samples_split >= len(X):\n",
    "            leaf_label = target_value\n",
    "            leaf = _Node(\n",
    "                node_id=node_id,\n",
    "                _is_leaf=True,\n",
    "                label=leaf_label,\n",
    "                class_distribution=class_distribution,\n",
    "            )\n",
    "            return leaf\n",
    "\n",
    "        # If max depth is reached\n",
    "        if (self.max_depth is not None) and (depth >= self.max_depth):\n",
    "            leaf_label = target_value\n",
    "            leaf = _Node(\n",
    "                node_id=node_id,\n",
    "                _is_leaf=True,\n",
    "                label=leaf_label,\n",
    "                class_distribution=class_distribution,\n",
    "            )\n",
    "            return leaf\n",
    "\n",
    "        # Pure node\n",
    "        if len(np.unique(y)) == 1:\n",
    "            leaf_label = target_value\n",
    "            leaf = _Node(\n",
    "                node_id=node_id,\n",
    "                _is_leaf=True,\n",
    "                label=leaf_label,\n",
    "                class_distribution=class_distribution,\n",
    "            )\n",
    "            return leaf\n",
    "\n",
    "        # Find the best splitter\n",
    "        splitter = self._get_best_splitter(X, y)\n",
    "\n",
    "        # Create root node\n",
    "        node = _Node(node_id=node_id, _is_leaf=False, splitter=splitter)\n",
    "\n",
    "        # For each exemplar split the data\n",
    "        labels = list(splitter[0].keys())\n",
    "        measure = list(splitter[1].keys())[0]\n",
    "        X_child = [[] for _ in labels]\n",
    "        y_child = [[] for _ in labels]\n",
    "        for i in range(len(X)):\n",
    "            min_dist = np.inf\n",
    "            id = None\n",
    "            for j in range(len(labels)):\n",
    "                dist = distance(\n",
    "                    X[i],\n",
    "                    splitter[0][labels[j]],\n",
    "                    metric=measure,\n",
    "                    kwargs=splitter[1][measure],\n",
    "                )\n",
    "                if dist < min_dist:\n",
    "                    min_dist = dist\n",
    "                    id = j\n",
    "            X_child[id].append(X[i])\n",
    "            y_child[id].append(y[i])\n",
    "        X_child = [np.array(ele) for ele in X_child]\n",
    "        y_child = [np.array(ele) for ele in y_child]\n",
    "        # For each exemplar, create a branch\n",
    "        for i in range(len(labels)):\n",
    "            child_node_id = node_id + \".\" + str(i)\n",
    "            child_node = self._build_tree(\n",
    "                X_child[i],\n",
    "                y_child[i],\n",
    "                depth=depth + 1,\n",
    "                node_id=child_node_id,\n",
    "                parent_target_value=target_value,\n",
    "            )\n",
    "            node.children[labels[i]] = child_node\n",
    "\n",
    "        return node\n",
    "\n",
    "    @staticmethod\n",
    "    @njit(cache=True, fastmath=True)\n",
    "    def _find_target_value(y):\n",
    "        \"\"\"Get the class label of highest frequency.\"\"\"\n",
    "        unique_labels = list(np.unique(y))\n",
    "        class_counts = []\n",
    "        for i in range(len(unique_labels)):\n",
    "            cnt = 0\n",
    "            for j in range(len(y)):\n",
    "                if y[j] == unique_labels[i]:\n",
    "                    cnt += 1\n",
    "            class_counts.append(cnt)\n",
    "        class_counts = np.array(class_counts)\n",
    "        # Find the index of the maximum count\n",
    "        max_index = np.argmax(class_counts)\n",
    "        mode_value = unique_labels[max_index]\n",
    "        # mode_count = counts[max_index]\n",
    "        return mode_value\n",
    "\n",
    "    def _fit(self, X, y):\n",
    "        # Set the unique class labels\n",
    "        if (X.ndim != 2) or (y.ndim != 1):\n",
    "            raise ValueError(\"X should be of shape (n_cases, n_timepoints).\")\n",
    "            \n",
    "        self.classes_ = list(np.unique(y))\n",
    "        self.class_locs_ = []\n",
    "        for label in self.classes_:\n",
    "            self.class_locs_.append(np.where(y==label)[0]) # use [0] as y is 1D\n",
    "        self.root = self._build_tree(\n",
    "            X, y, depth=0, node_id=\"0\", parent_target_value=None\n",
    "        )\n",
    "\n",
    "    def _predict(self, X):\n",
    "        probas = self._predict_proba(X)\n",
    "        predictions = np.argmax(probas, axis=1)\n",
    "        return np.array([self.classes_[pred] for pred in predictions])\n",
    "\n",
    "    def _predict_proba(self, X):\n",
    "        # Get the unique class labels\n",
    "        classes = self.classes_\n",
    "        class_count = len(classes)\n",
    "        probas = []\n",
    "\n",
    "        for i in range(len(X)):\n",
    "            # Classify the data point and find the leaf node\n",
    "            leaf_node = self._classify(self.root, X[i])\n",
    "\n",
    "            # Create probability distribution based on class counts in the leaf node\n",
    "            proba = np.zeros(class_count)\n",
    "            for class_label, class_proba in leaf_node.class_distribution.items():\n",
    "                proba[classes.index(class_label)] = class_proba\n",
    "            probas.append(proba)\n",
    "\n",
    "        return np.array(probas)\n",
    "\n",
    "    def _classify(self, treenode, x):\n",
    "        # Classify one data point using the proximity tree\n",
    "        if treenode._is_leaf:\n",
    "            return treenode\n",
    "        else:\n",
    "            measure = list(treenode.splitter[1].keys())[0]\n",
    "            branches = list(treenode.splitter[0].keys())\n",
    "            min_dist = np.inf\n",
    "            id = None\n",
    "            for i in range(len(branches)):\n",
    "                dist = distance(\n",
    "                    x,\n",
    "                    treenode.splitter[0][branches[i]],\n",
    "                    metric=measure,\n",
    "                    kwargs=treenode.splitter[1][measure],\n",
    "                )\n",
    "                if dist < min_dist:\n",
    "                    min_dist = dist\n",
    "                    id = i\n",
    "            return self._classify(treenode.children[branches[id]], x)\n",
    "\n",
    "\n",
    "@njit(cache=True, fastmath=True)\n",
    "def gini(y) -> float:\n",
    "    \"\"\"Get gini score at a specific node.\n",
    "\n",
    "    Parameters\n",
    "    ----------\n",
    "    y : 1d numpy array\n",
    "        array of class labels\n",
    "\n",
    "    Returns\n",
    "    -------\n",
    "    score : float\n",
    "        gini score for the set of class labels (i.e. how pure they are). A\n",
    "        larger score means more impurity. Zero means\n",
    "        pure.\n",
    "    \"\"\"\n",
    "    # get number instances at node\n",
    "    n_instances = y.shape[0]\n",
    "    if n_instances > 0:\n",
    "        # count each class\n",
    "        unique_labels = list(np.unique(y))\n",
    "        class_counts = []\n",
    "        for i in range(len(unique_labels)):\n",
    "            cnt = 0\n",
    "            for j in range(len(y)):\n",
    "                if y[j] == unique_labels[i]:\n",
    "                    cnt += 1\n",
    "            class_counts.append(cnt)\n",
    "        class_counts = np.array(class_counts)\n",
    "        # subtract class entropy from current score for each class\n",
    "        class_counts = np.divide(class_counts, n_instances)\n",
    "        class_counts = np.power(class_counts, 2)\n",
    "        sum = np.sum(class_counts)\n",
    "        return 1 - sum\n",
    "    else:\n",
    "        # y is empty, therefore considered pure\n",
    "        raise ValueError(\"y empty\")\n",
    "\n",
    "\n",
    "@njit(cache=True, fastmath=True)\n",
    "def gini_gain(y, y_subs) -> float:\n",
    "    \"\"\"Get gini score of a split, i.e. the gain from parent to children.\n",
    "\n",
    "    Parameters\n",
    "    ----------\n",
    "    y : 1d array\n",
    "        array of class labels at parent\n",
    "    y_subs : list of 1d array like\n",
    "        list of array of class labels, one array per child\n",
    "\n",
    "    Returns\n",
    "    -------\n",
    "    score : float\n",
    "        gini score of the split from parent class labels to children. Note a\n",
    "        higher score means better gain,\n",
    "        i.e. a better split\n",
    "    \"\"\"\n",
    "    # find number of instances overall\n",
    "    parent_n_instances = y.shape[0]\n",
    "    # if parent has no instances then is pure\n",
    "    if parent_n_instances == 0:\n",
    "        for child in y_subs:\n",
    "            if len(child) > 0:\n",
    "                raise ValueError(\"children populated but parent empty\")\n",
    "        return 0.5\n",
    "    # find gini for parent node\n",
    "    score = gini(y)\n",
    "    # sum the children's gini scores\n",
    "    for index in range(len(y_subs)):\n",
    "        child_class_labels = y_subs[index]\n",
    "        # ignore empty children\n",
    "        if len(child_class_labels) > 0:\n",
    "            # find gini score for this child\n",
    "            child_score = gini(child_class_labels)\n",
    "            # weight score by proportion of instances at child compared to\n",
    "            # parent\n",
    "            child_size = len(child_class_labels)\n",
    "            child_score *= child_size / parent_n_instances\n",
    "            # add to cumulative sum\n",
    "            score -= child_score\n",
    "    return score\n"
   ]
  },
  {
   "cell_type": "code",
   "execution_count": 81,
   "id": "08036c89-7503-4766-8792-0b17ff31e847",
   "metadata": {},
   "outputs": [],
   "source": [
    "clf1 = ProximityTree(n_splitters = 7, max_depth = 6)"
   ]
  },
  {
   "cell_type": "code",
   "execution_count": 82,
   "id": "92a7ff50-b11d-413c-8b26-a328147fe190",
   "metadata": {},
   "outputs": [
    {
     "ename": "IndexError",
     "evalue": "index 197 is out of bounds for axis 0 with size 131",
     "output_type": "error",
     "traceback": [
      "\u001b[1;31m---------------------------------------------------------------------------\u001b[0m",
      "\u001b[1;31mIndexError\u001b[0m                                Traceback (most recent call last)",
      "Cell \u001b[1;32mIn[82], line 1\u001b[0m\n\u001b[1;32m----> 1\u001b[0m clf1\u001b[38;5;241m.\u001b[39m_fit(X_train, y_train)\n",
      "Cell \u001b[1;32mIn[80], line 370\u001b[0m, in \u001b[0;36mProximityTree._fit\u001b[1;34m(self, X, y)\u001b[0m\n\u001b[0;32m    368\u001b[0m \u001b[38;5;28;01mfor\u001b[39;00m label \u001b[38;5;129;01min\u001b[39;00m \u001b[38;5;28mself\u001b[39m\u001b[38;5;241m.\u001b[39mclasses_:\n\u001b[0;32m    369\u001b[0m     \u001b[38;5;28mself\u001b[39m\u001b[38;5;241m.\u001b[39mclass_locs_\u001b[38;5;241m.\u001b[39mappend(np\u001b[38;5;241m.\u001b[39mwhere(y\u001b[38;5;241m==\u001b[39mlabel)[\u001b[38;5;241m0\u001b[39m]) \u001b[38;5;66;03m# use [0] as y is 1D\u001b[39;00m\n\u001b[1;32m--> 370\u001b[0m \u001b[38;5;28mself\u001b[39m\u001b[38;5;241m.\u001b[39mroot \u001b[38;5;241m=\u001b[39m \u001b[38;5;28mself\u001b[39m\u001b[38;5;241m.\u001b[39m_build_tree(\n\u001b[0;32m    371\u001b[0m     X, y, depth\u001b[38;5;241m=\u001b[39m\u001b[38;5;241m0\u001b[39m, node_id\u001b[38;5;241m=\u001b[39m\u001b[38;5;124m\"\u001b[39m\u001b[38;5;124m0\u001b[39m\u001b[38;5;124m\"\u001b[39m, parent_target_value\u001b[38;5;241m=\u001b[39m\u001b[38;5;28;01mNone\u001b[39;00m\n\u001b[0;32m    372\u001b[0m )\n",
      "Cell \u001b[1;32mIn[80], line 331\u001b[0m, in \u001b[0;36mProximityTree._build_tree\u001b[1;34m(self, X, y, depth, node_id, parent_target_value)\u001b[0m\n\u001b[0;32m    329\u001b[0m \u001b[38;5;28;01mfor\u001b[39;00m i \u001b[38;5;129;01min\u001b[39;00m \u001b[38;5;28mrange\u001b[39m(\u001b[38;5;28mlen\u001b[39m(labels)):\n\u001b[0;32m    330\u001b[0m     child_node_id \u001b[38;5;241m=\u001b[39m node_id \u001b[38;5;241m+\u001b[39m \u001b[38;5;124m\"\u001b[39m\u001b[38;5;124m.\u001b[39m\u001b[38;5;124m\"\u001b[39m \u001b[38;5;241m+\u001b[39m \u001b[38;5;28mstr\u001b[39m(i)\n\u001b[1;32m--> 331\u001b[0m     child_node \u001b[38;5;241m=\u001b[39m \u001b[38;5;28mself\u001b[39m\u001b[38;5;241m.\u001b[39m_build_tree(\n\u001b[0;32m    332\u001b[0m         X_child[i],\n\u001b[0;32m    333\u001b[0m         y_child[i],\n\u001b[0;32m    334\u001b[0m         depth\u001b[38;5;241m=\u001b[39mdepth \u001b[38;5;241m+\u001b[39m \u001b[38;5;241m1\u001b[39m,\n\u001b[0;32m    335\u001b[0m         node_id\u001b[38;5;241m=\u001b[39mchild_node_id,\n\u001b[0;32m    336\u001b[0m         parent_target_value\u001b[38;5;241m=\u001b[39mtarget_value,\n\u001b[0;32m    337\u001b[0m     )\n\u001b[0;32m    338\u001b[0m     node\u001b[38;5;241m.\u001b[39mchildren[labels[i]] \u001b[38;5;241m=\u001b[39m child_node\n\u001b[0;32m    340\u001b[0m \u001b[38;5;28;01mreturn\u001b[39;00m node\n",
      "Cell \u001b[1;32mIn[80], line 331\u001b[0m, in \u001b[0;36mProximityTree._build_tree\u001b[1;34m(self, X, y, depth, node_id, parent_target_value)\u001b[0m\n\u001b[0;32m    329\u001b[0m \u001b[38;5;28;01mfor\u001b[39;00m i \u001b[38;5;129;01min\u001b[39;00m \u001b[38;5;28mrange\u001b[39m(\u001b[38;5;28mlen\u001b[39m(labels)):\n\u001b[0;32m    330\u001b[0m     child_node_id \u001b[38;5;241m=\u001b[39m node_id \u001b[38;5;241m+\u001b[39m \u001b[38;5;124m\"\u001b[39m\u001b[38;5;124m.\u001b[39m\u001b[38;5;124m\"\u001b[39m \u001b[38;5;241m+\u001b[39m \u001b[38;5;28mstr\u001b[39m(i)\n\u001b[1;32m--> 331\u001b[0m     child_node \u001b[38;5;241m=\u001b[39m \u001b[38;5;28mself\u001b[39m\u001b[38;5;241m.\u001b[39m_build_tree(\n\u001b[0;32m    332\u001b[0m         X_child[i],\n\u001b[0;32m    333\u001b[0m         y_child[i],\n\u001b[0;32m    334\u001b[0m         depth\u001b[38;5;241m=\u001b[39mdepth \u001b[38;5;241m+\u001b[39m \u001b[38;5;241m1\u001b[39m,\n\u001b[0;32m    335\u001b[0m         node_id\u001b[38;5;241m=\u001b[39mchild_node_id,\n\u001b[0;32m    336\u001b[0m         parent_target_value\u001b[38;5;241m=\u001b[39mtarget_value,\n\u001b[0;32m    337\u001b[0m     )\n\u001b[0;32m    338\u001b[0m     node\u001b[38;5;241m.\u001b[39mchildren[labels[i]] \u001b[38;5;241m=\u001b[39m child_node\n\u001b[0;32m    340\u001b[0m \u001b[38;5;28;01mreturn\u001b[39;00m node\n",
      "Cell \u001b[1;32mIn[80], line 301\u001b[0m, in \u001b[0;36mProximityTree._build_tree\u001b[1;34m(self, X, y, depth, node_id, parent_target_value)\u001b[0m\n\u001b[0;32m    298\u001b[0m     \u001b[38;5;28;01mreturn\u001b[39;00m leaf\n\u001b[0;32m    300\u001b[0m \u001b[38;5;66;03m# Find the best splitter\u001b[39;00m\n\u001b[1;32m--> 301\u001b[0m splitter \u001b[38;5;241m=\u001b[39m \u001b[38;5;28mself\u001b[39m\u001b[38;5;241m.\u001b[39m_get_best_splitter(X, y)\n\u001b[0;32m    303\u001b[0m \u001b[38;5;66;03m# Create root node\u001b[39;00m\n\u001b[0;32m    304\u001b[0m node \u001b[38;5;241m=\u001b[39m _Node(node_id\u001b[38;5;241m=\u001b[39mnode_id, _is_leaf\u001b[38;5;241m=\u001b[39m\u001b[38;5;28;01mFalse\u001b[39;00m, splitter\u001b[38;5;241m=\u001b[39msplitter)\n",
      "Cell \u001b[1;32mIn[80], line 221\u001b[0m, in \u001b[0;36mProximityTree._get_best_splitter\u001b[1;34m(self, X, y)\u001b[0m\n\u001b[0;32m    219\u001b[0m best_splitter \u001b[38;5;241m=\u001b[39m \u001b[38;5;28;01mNone\u001b[39;00m\n\u001b[0;32m    220\u001b[0m \u001b[38;5;28;01mfor\u001b[39;00m _ \u001b[38;5;129;01min\u001b[39;00m \u001b[38;5;28mrange\u001b[39m(\u001b[38;5;28mself\u001b[39m\u001b[38;5;241m.\u001b[39mn_splitters):\n\u001b[1;32m--> 221\u001b[0m     splitter \u001b[38;5;241m=\u001b[39m \u001b[38;5;28mself\u001b[39m\u001b[38;5;241m.\u001b[39m_get_candidate_splitter(X, y)\n\u001b[0;32m    222\u001b[0m     labels \u001b[38;5;241m=\u001b[39m \u001b[38;5;28mlist\u001b[39m(splitter[\u001b[38;5;241m0\u001b[39m]\u001b[38;5;241m.\u001b[39mkeys())\n\u001b[0;32m    223\u001b[0m     measure \u001b[38;5;241m=\u001b[39m \u001b[38;5;28mlist\u001b[39m(splitter[\u001b[38;5;241m1\u001b[39m]\u001b[38;5;241m.\u001b[39mkeys())[\u001b[38;5;241m0\u001b[39m]\n",
      "Cell \u001b[1;32mIn[80], line 205\u001b[0m, in \u001b[0;36mProximityTree._get_candidate_splitter\u001b[1;34m(self, X, y)\u001b[0m\n\u001b[0;32m    203\u001b[0m \u001b[38;5;28;01mfor\u001b[39;00m label \u001b[38;5;129;01min\u001b[39;00m \u001b[38;5;28mrange\u001b[39m(\u001b[38;5;28mlen\u001b[39m(classes_)):\n\u001b[0;32m    204\u001b[0m     \u001b[38;5;28mid\u001b[39m \u001b[38;5;241m=\u001b[39m rng\u001b[38;5;241m.\u001b[39mrandint(\u001b[38;5;241m0\u001b[39m, \u001b[38;5;28mself\u001b[39m\u001b[38;5;241m.\u001b[39mclass_locs_[label]\u001b[38;5;241m.\u001b[39mshape[\u001b[38;5;241m0\u001b[39m])\n\u001b[1;32m--> 205\u001b[0m     exemplars[label] \u001b[38;5;241m=\u001b[39m X[\u001b[38;5;28mid\u001b[39m, :]\n\u001b[0;32m    207\u001b[0m \u001b[38;5;66;03m# Create a list with first element exemplars and second element a\u001b[39;00m\n\u001b[0;32m    208\u001b[0m \u001b[38;5;66;03m# random parameterized distance measure\u001b[39;00m\n\u001b[0;32m    209\u001b[0m parameterized_distances \u001b[38;5;241m=\u001b[39m \u001b[38;5;28mself\u001b[39m\u001b[38;5;241m.\u001b[39m_get_parameter_value(X)\n",
      "\u001b[1;31mIndexError\u001b[0m: index 197 is out of bounds for axis 0 with size 131"
     ]
    }
   ],
   "source": [
    "clf1._fit(X_train, y_train)"
   ]
  },
  {
   "cell_type": "code",
   "execution_count": 42,
   "id": "ff2b2664-a961-4edb-bc4c-591ac34f532a",
   "metadata": {},
   "outputs": [],
   "source": [
    "from sklearn.metrics import accuracy_score\n",
    "\n",
    "y_pred = clf1._predict(X_test)\n",
    "score = accuracy_score(y_pred, y_test)"
   ]
  },
  {
   "cell_type": "code",
   "execution_count": 43,
   "id": "78c2091a-97db-4a53-95dd-5489ef243e06",
   "metadata": {},
   "outputs": [
    {
     "data": {
      "text/plain": [
       "0.9438775510204082"
      ]
     },
     "execution_count": 43,
     "metadata": {},
     "output_type": "execute_result"
    }
   ],
   "source": [
    "score"
   ]
  },
  {
   "cell_type": "code",
   "execution_count": 2,
   "id": "04e338d5-24db-46e2-83db-065f8d716d0a",
   "metadata": {},
   "outputs": [
    {
     "data": {
      "text/html": [
       "<style>#sk-container-id-1 {\n",
       "  /* Definition of color scheme common for light and dark mode */\n",
       "  --sklearn-color-text: black;\n",
       "  --sklearn-color-line: gray;\n",
       "  /* Definition of color scheme for unfitted estimators */\n",
       "  --sklearn-color-unfitted-level-0: #fff5e6;\n",
       "  --sklearn-color-unfitted-level-1: #f6e4d2;\n",
       "  --sklearn-color-unfitted-level-2: #ffe0b3;\n",
       "  --sklearn-color-unfitted-level-3: chocolate;\n",
       "  /* Definition of color scheme for fitted estimators */\n",
       "  --sklearn-color-fitted-level-0: #f0f8ff;\n",
       "  --sklearn-color-fitted-level-1: #d4ebff;\n",
       "  --sklearn-color-fitted-level-2: #b3dbfd;\n",
       "  --sklearn-color-fitted-level-3: cornflowerblue;\n",
       "\n",
       "  /* Specific color for light theme */\n",
       "  --sklearn-color-text-on-default-background: var(--sg-text-color, var(--theme-code-foreground, var(--jp-content-font-color1, black)));\n",
       "  --sklearn-color-background: var(--sg-background-color, var(--theme-background, var(--jp-layout-color0, white)));\n",
       "  --sklearn-color-border-box: var(--sg-text-color, var(--theme-code-foreground, var(--jp-content-font-color1, black)));\n",
       "  --sklearn-color-icon: #696969;\n",
       "\n",
       "  @media (prefers-color-scheme: dark) {\n",
       "    /* Redefinition of color scheme for dark theme */\n",
       "    --sklearn-color-text-on-default-background: var(--sg-text-color, var(--theme-code-foreground, var(--jp-content-font-color1, white)));\n",
       "    --sklearn-color-background: var(--sg-background-color, var(--theme-background, var(--jp-layout-color0, #111)));\n",
       "    --sklearn-color-border-box: var(--sg-text-color, var(--theme-code-foreground, var(--jp-content-font-color1, white)));\n",
       "    --sklearn-color-icon: #878787;\n",
       "  }\n",
       "}\n",
       "\n",
       "#sk-container-id-1 {\n",
       "  color: var(--sklearn-color-text);\n",
       "}\n",
       "\n",
       "#sk-container-id-1 pre {\n",
       "  padding: 0;\n",
       "}\n",
       "\n",
       "#sk-container-id-1 input.sk-hidden--visually {\n",
       "  border: 0;\n",
       "  clip: rect(1px 1px 1px 1px);\n",
       "  clip: rect(1px, 1px, 1px, 1px);\n",
       "  height: 1px;\n",
       "  margin: -1px;\n",
       "  overflow: hidden;\n",
       "  padding: 0;\n",
       "  position: absolute;\n",
       "  width: 1px;\n",
       "}\n",
       "\n",
       "#sk-container-id-1 div.sk-dashed-wrapped {\n",
       "  border: 1px dashed var(--sklearn-color-line);\n",
       "  margin: 0 0.4em 0.5em 0.4em;\n",
       "  box-sizing: border-box;\n",
       "  padding-bottom: 0.4em;\n",
       "  background-color: var(--sklearn-color-background);\n",
       "}\n",
       "\n",
       "#sk-container-id-1 div.sk-container {\n",
       "  /* jupyter's `normalize.less` sets `[hidden] { display: none; }`\n",
       "     but bootstrap.min.css set `[hidden] { display: none !important; }`\n",
       "     so we also need the `!important` here to be able to override the\n",
       "     default hidden behavior on the sphinx rendered scikit-learn.org.\n",
       "     See: https://github.com/scikit-learn/scikit-learn/issues/21755 */\n",
       "  display: inline-block !important;\n",
       "  position: relative;\n",
       "}\n",
       "\n",
       "#sk-container-id-1 div.sk-text-repr-fallback {\n",
       "  display: none;\n",
       "}\n",
       "\n",
       "div.sk-parallel-item,\n",
       "div.sk-serial,\n",
       "div.sk-item {\n",
       "  /* draw centered vertical line to link estimators */\n",
       "  background-image: linear-gradient(var(--sklearn-color-text-on-default-background), var(--sklearn-color-text-on-default-background));\n",
       "  background-size: 2px 100%;\n",
       "  background-repeat: no-repeat;\n",
       "  background-position: center center;\n",
       "}\n",
       "\n",
       "/* Parallel-specific style estimator block */\n",
       "\n",
       "#sk-container-id-1 div.sk-parallel-item::after {\n",
       "  content: \"\";\n",
       "  width: 100%;\n",
       "  border-bottom: 2px solid var(--sklearn-color-text-on-default-background);\n",
       "  flex-grow: 1;\n",
       "}\n",
       "\n",
       "#sk-container-id-1 div.sk-parallel {\n",
       "  display: flex;\n",
       "  align-items: stretch;\n",
       "  justify-content: center;\n",
       "  background-color: var(--sklearn-color-background);\n",
       "  position: relative;\n",
       "}\n",
       "\n",
       "#sk-container-id-1 div.sk-parallel-item {\n",
       "  display: flex;\n",
       "  flex-direction: column;\n",
       "}\n",
       "\n",
       "#sk-container-id-1 div.sk-parallel-item:first-child::after {\n",
       "  align-self: flex-end;\n",
       "  width: 50%;\n",
       "}\n",
       "\n",
       "#sk-container-id-1 div.sk-parallel-item:last-child::after {\n",
       "  align-self: flex-start;\n",
       "  width: 50%;\n",
       "}\n",
       "\n",
       "#sk-container-id-1 div.sk-parallel-item:only-child::after {\n",
       "  width: 0;\n",
       "}\n",
       "\n",
       "/* Serial-specific style estimator block */\n",
       "\n",
       "#sk-container-id-1 div.sk-serial {\n",
       "  display: flex;\n",
       "  flex-direction: column;\n",
       "  align-items: center;\n",
       "  background-color: var(--sklearn-color-background);\n",
       "  padding-right: 1em;\n",
       "  padding-left: 1em;\n",
       "}\n",
       "\n",
       "\n",
       "/* Toggleable style: style used for estimator/Pipeline/ColumnTransformer box that is\n",
       "clickable and can be expanded/collapsed.\n",
       "- Pipeline and ColumnTransformer use this feature and define the default style\n",
       "- Estimators will overwrite some part of the style using the `sk-estimator` class\n",
       "*/\n",
       "\n",
       "/* Pipeline and ColumnTransformer style (default) */\n",
       "\n",
       "#sk-container-id-1 div.sk-toggleable {\n",
       "  /* Default theme specific background. It is overwritten whether we have a\n",
       "  specific estimator or a Pipeline/ColumnTransformer */\n",
       "  background-color: var(--sklearn-color-background);\n",
       "}\n",
       "\n",
       "/* Toggleable label */\n",
       "#sk-container-id-1 label.sk-toggleable__label {\n",
       "  cursor: pointer;\n",
       "  display: block;\n",
       "  width: 100%;\n",
       "  margin-bottom: 0;\n",
       "  padding: 0.5em;\n",
       "  box-sizing: border-box;\n",
       "  text-align: center;\n",
       "}\n",
       "\n",
       "#sk-container-id-1 label.sk-toggleable__label-arrow:before {\n",
       "  /* Arrow on the left of the label */\n",
       "  content: \"▸\";\n",
       "  float: left;\n",
       "  margin-right: 0.25em;\n",
       "  color: var(--sklearn-color-icon);\n",
       "}\n",
       "\n",
       "#sk-container-id-1 label.sk-toggleable__label-arrow:hover:before {\n",
       "  color: var(--sklearn-color-text);\n",
       "}\n",
       "\n",
       "/* Toggleable content - dropdown */\n",
       "\n",
       "#sk-container-id-1 div.sk-toggleable__content {\n",
       "  max-height: 0;\n",
       "  max-width: 0;\n",
       "  overflow: hidden;\n",
       "  text-align: left;\n",
       "  /* unfitted */\n",
       "  background-color: var(--sklearn-color-unfitted-level-0);\n",
       "}\n",
       "\n",
       "#sk-container-id-1 div.sk-toggleable__content.fitted {\n",
       "  /* fitted */\n",
       "  background-color: var(--sklearn-color-fitted-level-0);\n",
       "}\n",
       "\n",
       "#sk-container-id-1 div.sk-toggleable__content pre {\n",
       "  margin: 0.2em;\n",
       "  border-radius: 0.25em;\n",
       "  color: var(--sklearn-color-text);\n",
       "  /* unfitted */\n",
       "  background-color: var(--sklearn-color-unfitted-level-0);\n",
       "}\n",
       "\n",
       "#sk-container-id-1 div.sk-toggleable__content.fitted pre {\n",
       "  /* unfitted */\n",
       "  background-color: var(--sklearn-color-fitted-level-0);\n",
       "}\n",
       "\n",
       "#sk-container-id-1 input.sk-toggleable__control:checked~div.sk-toggleable__content {\n",
       "  /* Expand drop-down */\n",
       "  max-height: 200px;\n",
       "  max-width: 100%;\n",
       "  overflow: auto;\n",
       "}\n",
       "\n",
       "#sk-container-id-1 input.sk-toggleable__control:checked~label.sk-toggleable__label-arrow:before {\n",
       "  content: \"▾\";\n",
       "}\n",
       "\n",
       "/* Pipeline/ColumnTransformer-specific style */\n",
       "\n",
       "#sk-container-id-1 div.sk-label input.sk-toggleable__control:checked~label.sk-toggleable__label {\n",
       "  color: var(--sklearn-color-text);\n",
       "  background-color: var(--sklearn-color-unfitted-level-2);\n",
       "}\n",
       "\n",
       "#sk-container-id-1 div.sk-label.fitted input.sk-toggleable__control:checked~label.sk-toggleable__label {\n",
       "  background-color: var(--sklearn-color-fitted-level-2);\n",
       "}\n",
       "\n",
       "/* Estimator-specific style */\n",
       "\n",
       "/* Colorize estimator box */\n",
       "#sk-container-id-1 div.sk-estimator input.sk-toggleable__control:checked~label.sk-toggleable__label {\n",
       "  /* unfitted */\n",
       "  background-color: var(--sklearn-color-unfitted-level-2);\n",
       "}\n",
       "\n",
       "#sk-container-id-1 div.sk-estimator.fitted input.sk-toggleable__control:checked~label.sk-toggleable__label {\n",
       "  /* fitted */\n",
       "  background-color: var(--sklearn-color-fitted-level-2);\n",
       "}\n",
       "\n",
       "#sk-container-id-1 div.sk-label label.sk-toggleable__label,\n",
       "#sk-container-id-1 div.sk-label label {\n",
       "  /* The background is the default theme color */\n",
       "  color: var(--sklearn-color-text-on-default-background);\n",
       "}\n",
       "\n",
       "/* On hover, darken the color of the background */\n",
       "#sk-container-id-1 div.sk-label:hover label.sk-toggleable__label {\n",
       "  color: var(--sklearn-color-text);\n",
       "  background-color: var(--sklearn-color-unfitted-level-2);\n",
       "}\n",
       "\n",
       "/* Label box, darken color on hover, fitted */\n",
       "#sk-container-id-1 div.sk-label.fitted:hover label.sk-toggleable__label.fitted {\n",
       "  color: var(--sklearn-color-text);\n",
       "  background-color: var(--sklearn-color-fitted-level-2);\n",
       "}\n",
       "\n",
       "/* Estimator label */\n",
       "\n",
       "#sk-container-id-1 div.sk-label label {\n",
       "  font-family: monospace;\n",
       "  font-weight: bold;\n",
       "  display: inline-block;\n",
       "  line-height: 1.2em;\n",
       "}\n",
       "\n",
       "#sk-container-id-1 div.sk-label-container {\n",
       "  text-align: center;\n",
       "}\n",
       "\n",
       "/* Estimator-specific */\n",
       "#sk-container-id-1 div.sk-estimator {\n",
       "  font-family: monospace;\n",
       "  border: 1px dotted var(--sklearn-color-border-box);\n",
       "  border-radius: 0.25em;\n",
       "  box-sizing: border-box;\n",
       "  margin-bottom: 0.5em;\n",
       "  /* unfitted */\n",
       "  background-color: var(--sklearn-color-unfitted-level-0);\n",
       "}\n",
       "\n",
       "#sk-container-id-1 div.sk-estimator.fitted {\n",
       "  /* fitted */\n",
       "  background-color: var(--sklearn-color-fitted-level-0);\n",
       "}\n",
       "\n",
       "/* on hover */\n",
       "#sk-container-id-1 div.sk-estimator:hover {\n",
       "  /* unfitted */\n",
       "  background-color: var(--sklearn-color-unfitted-level-2);\n",
       "}\n",
       "\n",
       "#sk-container-id-1 div.sk-estimator.fitted:hover {\n",
       "  /* fitted */\n",
       "  background-color: var(--sklearn-color-fitted-level-2);\n",
       "}\n",
       "\n",
       "/* Specification for estimator info (e.g. \"i\" and \"?\") */\n",
       "\n",
       "/* Common style for \"i\" and \"?\" */\n",
       "\n",
       ".sk-estimator-doc-link,\n",
       "a:link.sk-estimator-doc-link,\n",
       "a:visited.sk-estimator-doc-link {\n",
       "  float: right;\n",
       "  font-size: smaller;\n",
       "  line-height: 1em;\n",
       "  font-family: monospace;\n",
       "  background-color: var(--sklearn-color-background);\n",
       "  border-radius: 1em;\n",
       "  height: 1em;\n",
       "  width: 1em;\n",
       "  text-decoration: none !important;\n",
       "  margin-left: 1ex;\n",
       "  /* unfitted */\n",
       "  border: var(--sklearn-color-unfitted-level-1) 1pt solid;\n",
       "  color: var(--sklearn-color-unfitted-level-1);\n",
       "}\n",
       "\n",
       ".sk-estimator-doc-link.fitted,\n",
       "a:link.sk-estimator-doc-link.fitted,\n",
       "a:visited.sk-estimator-doc-link.fitted {\n",
       "  /* fitted */\n",
       "  border: var(--sklearn-color-fitted-level-1) 1pt solid;\n",
       "  color: var(--sklearn-color-fitted-level-1);\n",
       "}\n",
       "\n",
       "/* On hover */\n",
       "div.sk-estimator:hover .sk-estimator-doc-link:hover,\n",
       ".sk-estimator-doc-link:hover,\n",
       "div.sk-label-container:hover .sk-estimator-doc-link:hover,\n",
       ".sk-estimator-doc-link:hover {\n",
       "  /* unfitted */\n",
       "  background-color: var(--sklearn-color-unfitted-level-3);\n",
       "  color: var(--sklearn-color-background);\n",
       "  text-decoration: none;\n",
       "}\n",
       "\n",
       "div.sk-estimator.fitted:hover .sk-estimator-doc-link.fitted:hover,\n",
       ".sk-estimator-doc-link.fitted:hover,\n",
       "div.sk-label-container:hover .sk-estimator-doc-link.fitted:hover,\n",
       ".sk-estimator-doc-link.fitted:hover {\n",
       "  /* fitted */\n",
       "  background-color: var(--sklearn-color-fitted-level-3);\n",
       "  color: var(--sklearn-color-background);\n",
       "  text-decoration: none;\n",
       "}\n",
       "\n",
       "/* Span, style for the box shown on hovering the info icon */\n",
       ".sk-estimator-doc-link span {\n",
       "  display: none;\n",
       "  z-index: 9999;\n",
       "  position: relative;\n",
       "  font-weight: normal;\n",
       "  right: .2ex;\n",
       "  padding: .5ex;\n",
       "  margin: .5ex;\n",
       "  width: min-content;\n",
       "  min-width: 20ex;\n",
       "  max-width: 50ex;\n",
       "  color: var(--sklearn-color-text);\n",
       "  box-shadow: 2pt 2pt 4pt #999;\n",
       "  /* unfitted */\n",
       "  background: var(--sklearn-color-unfitted-level-0);\n",
       "  border: .5pt solid var(--sklearn-color-unfitted-level-3);\n",
       "}\n",
       "\n",
       ".sk-estimator-doc-link.fitted span {\n",
       "  /* fitted */\n",
       "  background: var(--sklearn-color-fitted-level-0);\n",
       "  border: var(--sklearn-color-fitted-level-3);\n",
       "}\n",
       "\n",
       ".sk-estimator-doc-link:hover span {\n",
       "  display: block;\n",
       "}\n",
       "\n",
       "/* \"?\"-specific style due to the `<a>` HTML tag */\n",
       "\n",
       "#sk-container-id-1 a.estimator_doc_link {\n",
       "  float: right;\n",
       "  font-size: 1rem;\n",
       "  line-height: 1em;\n",
       "  font-family: monospace;\n",
       "  background-color: var(--sklearn-color-background);\n",
       "  border-radius: 1rem;\n",
       "  height: 1rem;\n",
       "  width: 1rem;\n",
       "  text-decoration: none;\n",
       "  /* unfitted */\n",
       "  color: var(--sklearn-color-unfitted-level-1);\n",
       "  border: var(--sklearn-color-unfitted-level-1) 1pt solid;\n",
       "}\n",
       "\n",
       "#sk-container-id-1 a.estimator_doc_link.fitted {\n",
       "  /* fitted */\n",
       "  border: var(--sklearn-color-fitted-level-1) 1pt solid;\n",
       "  color: var(--sklearn-color-fitted-level-1);\n",
       "}\n",
       "\n",
       "/* On hover */\n",
       "#sk-container-id-1 a.estimator_doc_link:hover {\n",
       "  /* unfitted */\n",
       "  background-color: var(--sklearn-color-unfitted-level-3);\n",
       "  color: var(--sklearn-color-background);\n",
       "  text-decoration: none;\n",
       "}\n",
       "\n",
       "#sk-container-id-1 a.estimator_doc_link.fitted:hover {\n",
       "  /* fitted */\n",
       "  background-color: var(--sklearn-color-fitted-level-3);\n",
       "}\n",
       "</style><div id=\"sk-container-id-1\" class=\"sk-top-container\"><div class=\"sk-text-repr-fallback\"><pre>ProximityTree(max_depth=5, n_splitters=3)</pre><b>In a Jupyter environment, please rerun this cell to show the HTML representation or trust the notebook. <br />On GitHub, the HTML representation is unable to render, please try loading this page with nbviewer.org.</b></div><div class=\"sk-container\" hidden><div class=\"sk-item\"><div class=\"sk-estimator fitted sk-toggleable\"><input class=\"sk-toggleable__control sk-hidden--visually\" id=\"sk-estimator-id-1\" type=\"checkbox\" checked><label for=\"sk-estimator-id-1\" class=\"sk-toggleable__label fitted sk-toggleable__label-arrow fitted\">&nbsp;ProximityTree<span class=\"sk-estimator-doc-link fitted\">i<span>Fitted</span></span></label><div class=\"sk-toggleable__content fitted\"><pre>ProximityTree(max_depth=5, n_splitters=3)</pre></div> </div></div></div></div>"
      ],
      "text/plain": [
       "ProximityTree(max_depth=5, n_splitters=3)"
      ]
     },
     "execution_count": 2,
     "metadata": {},
     "output_type": "execute_result"
    }
   ],
   "source": [
    "from aeon.datasets import load_unit_test\n",
    "from aeon.classification.distance_based import ProximityTree\n",
    "X_train, y_train = load_unit_test(split=\"train\")\n",
    "X_test, y_test = load_unit_test(split=\"test\")\n",
    "classifier = ProximityTree(n_splitters = 3, max_depth = 5)\n",
    "classifier.fit(X_train, y_train)"
   ]
  },
  {
   "cell_type": "code",
   "execution_count": 8,
   "id": "250bb6db-2f9c-41c8-8274-e7267e410cf6",
   "metadata": {},
   "outputs": [],
   "source": [
    "@njit(cache=True, fastmath=True)\n",
    "def _find_target_value(y):\n",
    "        \"\"\"Get the class label of highest frequency.\"\"\"\n",
    "        unique_labels = list(np.unique(y))\n",
    "        class_counts = []\n",
    "        for i in range(len(unique_labels)):\n",
    "            cnt = 0\n",
    "            for j in range(len(y)):\n",
    "                if y[j] == unique_labels[i]:\n",
    "                    cnt += 1\n",
    "            class_counts.append(cnt)\n",
    "        class_counts = np.array(class_counts)\n",
    "        # Find the index of the maximum count\n",
    "        max_index = np.argmax(class_counts)\n",
    "        mode_value = unique_labels[max_index]\n",
    "        # mode_count = counts[max_index]\n",
    "        return mode_value"
   ]
  },
  {
   "cell_type": "code",
   "execution_count": 10,
   "id": "3d2e087f-e6b1-4737-a94f-c45d0e813c29",
   "metadata": {},
   "outputs": [
    {
     "data": {
      "text/plain": [
       "'2'"
      ]
     },
     "execution_count": 10,
     "metadata": {},
     "output_type": "execute_result"
    }
   ],
   "source": [
    "_find_target_value(y)"
   ]
  },
  {
   "cell_type": "code",
   "execution_count": 5,
   "id": "212bf16f-6c36-4cf6-b7c3-bb779153b996",
   "metadata": {},
   "outputs": [
    {
     "data": {
      "text/plain": [
       "(array(['1', '2'], dtype='<U1'), array([547, 549], dtype=int64))"
      ]
     },
     "execution_count": 5,
     "metadata": {},
     "output_type": "execute_result"
    }
   ],
   "source": [
    "np.unique(y, return_counts=True)"
   ]
  },
  {
   "cell_type": "code",
   "execution_count": 6,
   "id": "5af2402c-5b42-48a9-ae3c-526d1baa9dcd",
   "metadata": {},
   "outputs": [],
   "source": [
    "   def _find_target_value(y):\n",
    "        \"\"\"Get the class label of highest frequency.\"\"\"\n",
    "        unique, counts = np.unique(y, return_counts=True)\n",
    "        # Find the index of the maximum count\n",
    "        max_index = np.argmax(counts)\n",
    "        mode_value = unique[max_index]\n",
    "        # mode_count = counts[max_index]\n",
    "        return mode_value"
   ]
  },
  {
   "cell_type": "code",
   "execution_count": 7,
   "id": "363737e0-67c6-4d17-b96b-3ec0aaa7f679",
   "metadata": {},
   "outputs": [
    {
     "data": {
      "text/plain": [
       "'2'"
      ]
     },
     "execution_count": 7,
     "metadata": {},
     "output_type": "execute_result"
    }
   ],
   "source": [
    "_find_target_value(y)"
   ]
  },
  {
   "cell_type": "code",
   "execution_count": 18,
   "id": "d222d4d6-6b5e-4bd1-84ce-34af9c4bb476",
   "metadata": {},
   "outputs": [
    {
     "data": {
      "text/plain": [
       "[{'1': array([-0.29671594, -0.79984296, -0.95465128, -1.2642679 , -1.4190762 ,\n",
       "         -1.4964804 , -1.0320554 , -0.64503465, -0.99335336, -0.14190762,\n",
       "          0.32251732,  0.3612194 ,  0.59343188,  0.24511317, -0.33541802,\n",
       "         -0.29671594, -0.33541802,  0.94175059,  1.4448776 ,  1.7931963 ,\n",
       "          1.8318984 ,  1.3287714 ,  0.78694227,  0.3612194 ]),\n",
       "  '2': array([ 0.38587292, -0.08502285, -1.0268144 , -1.2361014 , -1.2884231 ,\n",
       "         -1.1837796 , -0.97449262, -1.3930666 , -0.60824036,  0.17658591,\n",
       "          0.38587292,  0.75212517,  0.54283817,  0.01962066, -0.1373446 ,\n",
       "         -0.55591861, -0.55591861, -0.55591861,  0.07194241,  1.7985602 ,\n",
       "          2.1124907 ,  1.5892732 ,  1.1706992 ,  0.59515992])},\n",
       " {'erp': {'g': 0.491}}]"
      ]
     },
     "execution_count": 18,
     "metadata": {},
     "output_type": "execute_result"
    }
   ],
   "source": [
    "clf1._get_candidate_splitter(X_train,y_train)"
   ]
  },
  {
   "cell_type": "code",
   "execution_count": 23,
   "id": "76f9347d-ab1c-4c33-a950-a93ed6c1e2fb",
   "metadata": {},
   "outputs": [],
   "source": [
    "classes_ = list(np.unique(y))\n",
    "class_locs_ = []\n",
    "for label in classes_:\n",
    "    class_locs_.append(np.where(y==label)[0]) # use [0] as y is 1D"
   ]
  },
  {
   "cell_type": "code",
   "execution_count": 24,
   "id": "0634d03e-d5e9-46f3-b8e8-f3686eb13990",
   "metadata": {},
   "outputs": [
    {
     "data": {
      "text/plain": [
       "2"
      ]
     },
     "execution_count": 24,
     "metadata": {},
     "output_type": "execute_result"
    }
   ],
   "source": [
    "len(classes_)"
   ]
  },
  {
   "cell_type": "code",
   "execution_count": 25,
   "id": "3355787b-bb7d-413b-878d-0551ab3fda99",
   "metadata": {},
   "outputs": [
    {
     "data": {
      "text/plain": [
       "2"
      ]
     },
     "execution_count": 25,
     "metadata": {},
     "output_type": "execute_result"
    }
   ],
   "source": [
    "len(class_locs_)"
   ]
  },
  {
   "cell_type": "code",
   "execution_count": 27,
   "id": "d973667c-f195-47a7-950a-537e449651b9",
   "metadata": {},
   "outputs": [
    {
     "data": {
      "text/plain": [
       "549"
      ]
     },
     "execution_count": 27,
     "metadata": {},
     "output_type": "execute_result"
    }
   ],
   "source": [
    "len(class_locs_[1])"
   ]
  },
  {
   "cell_type": "code",
   "execution_count": 34,
   "id": "31fc5a10-14c5-4aa5-a71c-48d9475f9444",
   "metadata": {},
   "outputs": [],
   "source": [
    "exemplars = {}\n",
    "for label in range(len(classes_)):\n",
    "    id = np.random.randint(0, class_locs_[label].shape[0])\n",
    "    exemplars[label] = X[id, :]"
   ]
  },
  {
   "cell_type": "code",
   "execution_count": 35,
   "id": "7fa2ff03-9f4f-431a-aa24-8aeda05f9cc4",
   "metadata": {},
   "outputs": [
    {
     "data": {
      "text/plain": [
       "{0: array([-1.1178645 , -1.4190694 , -1.505128  , -1.6342158 , -1.6557304 ,\n",
       "        -1.505128  , -1.0102914 ,  0.04392572,  0.4742184 ,  1.0335989 ,\n",
       "         1.0551135 ,  0.969055  ,  0.8399672 ,  0.49573304,  0.4096745 ,\n",
       "         0.60330622,  0.5387623 ,  0.58179157,  0.81845256,  1.2487452 ,\n",
       "         0.79693793,  0.45270377, -0.02061819, -0.49394015]),\n",
       " 1: array([ 0.33926348, -0.32541599, -0.71314569, -0.93470552, -1.1008754 ,\n",
       "        -1.1008754 , -0.87931556, -0.54697582, -0.99009547, -0.32541599,\n",
       "         0.28387353,  0.61621327,  0.50543335,  0.11770366, -0.38080595,\n",
       "        -0.54697582, -0.71314569, -0.71314569, -0.38080595,  0.4500434 ,\n",
       "         2.3886919 ,  2.0563521 ,  1.7240124 ,  1.1701128 ])}"
      ]
     },
     "execution_count": 35,
     "metadata": {},
     "output_type": "execute_result"
    }
   ],
   "source": [
    "exemplars"
   ]
  },
  {
   "cell_type": "code",
   "execution_count": 56,
   "id": "8c710b8f-fd13-4803-a0bb-4d176aeabbb0",
   "metadata": {},
   "outputs": [
    {
     "data": {
      "text/plain": [
       "array([1.85774544, 0.4315754 , 1.83557252, 1.03927471, 1.50690448,\n",
       "       1.2610533 , 0.64689672, 0.89479119, 1.86570593, 0.99634836])"
      ]
     },
     "execution_count": 56,
     "metadata": {},
     "output_type": "execute_result"
    }
   ],
   "source": [
    "X1 = np.random.uniform(0,2, size = 500).reshape((50,10))\n",
    "X1[5]"
   ]
  },
  {
   "cell_type": "code",
   "execution_count": 58,
   "id": "1f454d2d-e114-4dc2-9913-58ff9643f0f1",
   "metadata": {},
   "outputs": [
    {
     "data": {
      "text/plain": [
       "array([4.4524013 , 3.98640968, 4.91235267, 3.24272041, 3.68691933,\n",
       "       4.38410718, 4.88167147, 3.43756319, 4.85451838, 3.23610597])"
      ]
     },
     "execution_count": 58,
     "metadata": {},
     "output_type": "execute_result"
    }
   ],
   "source": [
    "X2 = np.random.uniform(3,5, size = 500).reshape((50,10))\n",
    "X2[0]"
   ]
  },
  {
   "cell_type": "code",
   "execution_count": 47,
   "id": "4fad2425-17cf-4544-9aab-31b4745768e5",
   "metadata": {},
   "outputs": [
    {
     "data": {
      "text/plain": [
       "(100,)"
      ]
     },
     "execution_count": 47,
     "metadata": {},
     "output_type": "execute_result"
    }
   ],
   "source": [
    "y1 = np.full((50,), '0')\n",
    "y2 = np.full((50,), '1')\n",
    "y = np.concatenate((y1,y2), axis=0)\n",
    "y.shape"
   ]
  },
  {
   "cell_type": "code",
   "execution_count": 55,
   "id": "cd252ed7-314e-4f72-8556-b8a24d9b66d7",
   "metadata": {},
   "outputs": [
    {
     "data": {
      "text/plain": [
       "array([0.39939819, 0.85966705, 0.69619281, 0.28313637, 0.34090891])"
      ]
     },
     "execution_count": 55,
     "metadata": {},
     "output_type": "execute_result"
    }
   ],
   "source": [
    "random_ints = np.random.uniform(0,1, size=5)\n",
    "random_ints"
   ]
  },
  {
   "cell_type": "code",
   "execution_count": 59,
   "id": "b112871c-80b5-44b5-97cc-a74a934b7ad4",
   "metadata": {},
   "outputs": [
    {
     "data": {
      "text/plain": [
       "(100, 10)"
      ]
     },
     "execution_count": 59,
     "metadata": {},
     "output_type": "execute_result"
    }
   ],
   "source": [
    "X = np.concatenate((X1,X2), axis=0)\n",
    "X.shape"
   ]
  },
  {
   "cell_type": "code",
   "execution_count": 60,
   "id": "7e84128b-4b18-450b-a123-cf02b35c0db2",
   "metadata": {},
   "outputs": [
    {
     "data": {
      "text/html": [
       "<style>#sk-container-id-1 {\n",
       "  /* Definition of color scheme common for light and dark mode */\n",
       "  --sklearn-color-text: black;\n",
       "  --sklearn-color-line: gray;\n",
       "  /* Definition of color scheme for unfitted estimators */\n",
       "  --sklearn-color-unfitted-level-0: #fff5e6;\n",
       "  --sklearn-color-unfitted-level-1: #f6e4d2;\n",
       "  --sklearn-color-unfitted-level-2: #ffe0b3;\n",
       "  --sklearn-color-unfitted-level-3: chocolate;\n",
       "  /* Definition of color scheme for fitted estimators */\n",
       "  --sklearn-color-fitted-level-0: #f0f8ff;\n",
       "  --sklearn-color-fitted-level-1: #d4ebff;\n",
       "  --sklearn-color-fitted-level-2: #b3dbfd;\n",
       "  --sklearn-color-fitted-level-3: cornflowerblue;\n",
       "\n",
       "  /* Specific color for light theme */\n",
       "  --sklearn-color-text-on-default-background: var(--sg-text-color, var(--theme-code-foreground, var(--jp-content-font-color1, black)));\n",
       "  --sklearn-color-background: var(--sg-background-color, var(--theme-background, var(--jp-layout-color0, white)));\n",
       "  --sklearn-color-border-box: var(--sg-text-color, var(--theme-code-foreground, var(--jp-content-font-color1, black)));\n",
       "  --sklearn-color-icon: #696969;\n",
       "\n",
       "  @media (prefers-color-scheme: dark) {\n",
       "    /* Redefinition of color scheme for dark theme */\n",
       "    --sklearn-color-text-on-default-background: var(--sg-text-color, var(--theme-code-foreground, var(--jp-content-font-color1, white)));\n",
       "    --sklearn-color-background: var(--sg-background-color, var(--theme-background, var(--jp-layout-color0, #111)));\n",
       "    --sklearn-color-border-box: var(--sg-text-color, var(--theme-code-foreground, var(--jp-content-font-color1, white)));\n",
       "    --sklearn-color-icon: #878787;\n",
       "  }\n",
       "}\n",
       "\n",
       "#sk-container-id-1 {\n",
       "  color: var(--sklearn-color-text);\n",
       "}\n",
       "\n",
       "#sk-container-id-1 pre {\n",
       "  padding: 0;\n",
       "}\n",
       "\n",
       "#sk-container-id-1 input.sk-hidden--visually {\n",
       "  border: 0;\n",
       "  clip: rect(1px 1px 1px 1px);\n",
       "  clip: rect(1px, 1px, 1px, 1px);\n",
       "  height: 1px;\n",
       "  margin: -1px;\n",
       "  overflow: hidden;\n",
       "  padding: 0;\n",
       "  position: absolute;\n",
       "  width: 1px;\n",
       "}\n",
       "\n",
       "#sk-container-id-1 div.sk-dashed-wrapped {\n",
       "  border: 1px dashed var(--sklearn-color-line);\n",
       "  margin: 0 0.4em 0.5em 0.4em;\n",
       "  box-sizing: border-box;\n",
       "  padding-bottom: 0.4em;\n",
       "  background-color: var(--sklearn-color-background);\n",
       "}\n",
       "\n",
       "#sk-container-id-1 div.sk-container {\n",
       "  /* jupyter's `normalize.less` sets `[hidden] { display: none; }`\n",
       "     but bootstrap.min.css set `[hidden] { display: none !important; }`\n",
       "     so we also need the `!important` here to be able to override the\n",
       "     default hidden behavior on the sphinx rendered scikit-learn.org.\n",
       "     See: https://github.com/scikit-learn/scikit-learn/issues/21755 */\n",
       "  display: inline-block !important;\n",
       "  position: relative;\n",
       "}\n",
       "\n",
       "#sk-container-id-1 div.sk-text-repr-fallback {\n",
       "  display: none;\n",
       "}\n",
       "\n",
       "div.sk-parallel-item,\n",
       "div.sk-serial,\n",
       "div.sk-item {\n",
       "  /* draw centered vertical line to link estimators */\n",
       "  background-image: linear-gradient(var(--sklearn-color-text-on-default-background), var(--sklearn-color-text-on-default-background));\n",
       "  background-size: 2px 100%;\n",
       "  background-repeat: no-repeat;\n",
       "  background-position: center center;\n",
       "}\n",
       "\n",
       "/* Parallel-specific style estimator block */\n",
       "\n",
       "#sk-container-id-1 div.sk-parallel-item::after {\n",
       "  content: \"\";\n",
       "  width: 100%;\n",
       "  border-bottom: 2px solid var(--sklearn-color-text-on-default-background);\n",
       "  flex-grow: 1;\n",
       "}\n",
       "\n",
       "#sk-container-id-1 div.sk-parallel {\n",
       "  display: flex;\n",
       "  align-items: stretch;\n",
       "  justify-content: center;\n",
       "  background-color: var(--sklearn-color-background);\n",
       "  position: relative;\n",
       "}\n",
       "\n",
       "#sk-container-id-1 div.sk-parallel-item {\n",
       "  display: flex;\n",
       "  flex-direction: column;\n",
       "}\n",
       "\n",
       "#sk-container-id-1 div.sk-parallel-item:first-child::after {\n",
       "  align-self: flex-end;\n",
       "  width: 50%;\n",
       "}\n",
       "\n",
       "#sk-container-id-1 div.sk-parallel-item:last-child::after {\n",
       "  align-self: flex-start;\n",
       "  width: 50%;\n",
       "}\n",
       "\n",
       "#sk-container-id-1 div.sk-parallel-item:only-child::after {\n",
       "  width: 0;\n",
       "}\n",
       "\n",
       "/* Serial-specific style estimator block */\n",
       "\n",
       "#sk-container-id-1 div.sk-serial {\n",
       "  display: flex;\n",
       "  flex-direction: column;\n",
       "  align-items: center;\n",
       "  background-color: var(--sklearn-color-background);\n",
       "  padding-right: 1em;\n",
       "  padding-left: 1em;\n",
       "}\n",
       "\n",
       "\n",
       "/* Toggleable style: style used for estimator/Pipeline/ColumnTransformer box that is\n",
       "clickable and can be expanded/collapsed.\n",
       "- Pipeline and ColumnTransformer use this feature and define the default style\n",
       "- Estimators will overwrite some part of the style using the `sk-estimator` class\n",
       "*/\n",
       "\n",
       "/* Pipeline and ColumnTransformer style (default) */\n",
       "\n",
       "#sk-container-id-1 div.sk-toggleable {\n",
       "  /* Default theme specific background. It is overwritten whether we have a\n",
       "  specific estimator or a Pipeline/ColumnTransformer */\n",
       "  background-color: var(--sklearn-color-background);\n",
       "}\n",
       "\n",
       "/* Toggleable label */\n",
       "#sk-container-id-1 label.sk-toggleable__label {\n",
       "  cursor: pointer;\n",
       "  display: block;\n",
       "  width: 100%;\n",
       "  margin-bottom: 0;\n",
       "  padding: 0.5em;\n",
       "  box-sizing: border-box;\n",
       "  text-align: center;\n",
       "}\n",
       "\n",
       "#sk-container-id-1 label.sk-toggleable__label-arrow:before {\n",
       "  /* Arrow on the left of the label */\n",
       "  content: \"▸\";\n",
       "  float: left;\n",
       "  margin-right: 0.25em;\n",
       "  color: var(--sklearn-color-icon);\n",
       "}\n",
       "\n",
       "#sk-container-id-1 label.sk-toggleable__label-arrow:hover:before {\n",
       "  color: var(--sklearn-color-text);\n",
       "}\n",
       "\n",
       "/* Toggleable content - dropdown */\n",
       "\n",
       "#sk-container-id-1 div.sk-toggleable__content {\n",
       "  max-height: 0;\n",
       "  max-width: 0;\n",
       "  overflow: hidden;\n",
       "  text-align: left;\n",
       "  /* unfitted */\n",
       "  background-color: var(--sklearn-color-unfitted-level-0);\n",
       "}\n",
       "\n",
       "#sk-container-id-1 div.sk-toggleable__content.fitted {\n",
       "  /* fitted */\n",
       "  background-color: var(--sklearn-color-fitted-level-0);\n",
       "}\n",
       "\n",
       "#sk-container-id-1 div.sk-toggleable__content pre {\n",
       "  margin: 0.2em;\n",
       "  border-radius: 0.25em;\n",
       "  color: var(--sklearn-color-text);\n",
       "  /* unfitted */\n",
       "  background-color: var(--sklearn-color-unfitted-level-0);\n",
       "}\n",
       "\n",
       "#sk-container-id-1 div.sk-toggleable__content.fitted pre {\n",
       "  /* unfitted */\n",
       "  background-color: var(--sklearn-color-fitted-level-0);\n",
       "}\n",
       "\n",
       "#sk-container-id-1 input.sk-toggleable__control:checked~div.sk-toggleable__content {\n",
       "  /* Expand drop-down */\n",
       "  max-height: 200px;\n",
       "  max-width: 100%;\n",
       "  overflow: auto;\n",
       "}\n",
       "\n",
       "#sk-container-id-1 input.sk-toggleable__control:checked~label.sk-toggleable__label-arrow:before {\n",
       "  content: \"▾\";\n",
       "}\n",
       "\n",
       "/* Pipeline/ColumnTransformer-specific style */\n",
       "\n",
       "#sk-container-id-1 div.sk-label input.sk-toggleable__control:checked~label.sk-toggleable__label {\n",
       "  color: var(--sklearn-color-text);\n",
       "  background-color: var(--sklearn-color-unfitted-level-2);\n",
       "}\n",
       "\n",
       "#sk-container-id-1 div.sk-label.fitted input.sk-toggleable__control:checked~label.sk-toggleable__label {\n",
       "  background-color: var(--sklearn-color-fitted-level-2);\n",
       "}\n",
       "\n",
       "/* Estimator-specific style */\n",
       "\n",
       "/* Colorize estimator box */\n",
       "#sk-container-id-1 div.sk-estimator input.sk-toggleable__control:checked~label.sk-toggleable__label {\n",
       "  /* unfitted */\n",
       "  background-color: var(--sklearn-color-unfitted-level-2);\n",
       "}\n",
       "\n",
       "#sk-container-id-1 div.sk-estimator.fitted input.sk-toggleable__control:checked~label.sk-toggleable__label {\n",
       "  /* fitted */\n",
       "  background-color: var(--sklearn-color-fitted-level-2);\n",
       "}\n",
       "\n",
       "#sk-container-id-1 div.sk-label label.sk-toggleable__label,\n",
       "#sk-container-id-1 div.sk-label label {\n",
       "  /* The background is the default theme color */\n",
       "  color: var(--sklearn-color-text-on-default-background);\n",
       "}\n",
       "\n",
       "/* On hover, darken the color of the background */\n",
       "#sk-container-id-1 div.sk-label:hover label.sk-toggleable__label {\n",
       "  color: var(--sklearn-color-text);\n",
       "  background-color: var(--sklearn-color-unfitted-level-2);\n",
       "}\n",
       "\n",
       "/* Label box, darken color on hover, fitted */\n",
       "#sk-container-id-1 div.sk-label.fitted:hover label.sk-toggleable__label.fitted {\n",
       "  color: var(--sklearn-color-text);\n",
       "  background-color: var(--sklearn-color-fitted-level-2);\n",
       "}\n",
       "\n",
       "/* Estimator label */\n",
       "\n",
       "#sk-container-id-1 div.sk-label label {\n",
       "  font-family: monospace;\n",
       "  font-weight: bold;\n",
       "  display: inline-block;\n",
       "  line-height: 1.2em;\n",
       "}\n",
       "\n",
       "#sk-container-id-1 div.sk-label-container {\n",
       "  text-align: center;\n",
       "}\n",
       "\n",
       "/* Estimator-specific */\n",
       "#sk-container-id-1 div.sk-estimator {\n",
       "  font-family: monospace;\n",
       "  border: 1px dotted var(--sklearn-color-border-box);\n",
       "  border-radius: 0.25em;\n",
       "  box-sizing: border-box;\n",
       "  margin-bottom: 0.5em;\n",
       "  /* unfitted */\n",
       "  background-color: var(--sklearn-color-unfitted-level-0);\n",
       "}\n",
       "\n",
       "#sk-container-id-1 div.sk-estimator.fitted {\n",
       "  /* fitted */\n",
       "  background-color: var(--sklearn-color-fitted-level-0);\n",
       "}\n",
       "\n",
       "/* on hover */\n",
       "#sk-container-id-1 div.sk-estimator:hover {\n",
       "  /* unfitted */\n",
       "  background-color: var(--sklearn-color-unfitted-level-2);\n",
       "}\n",
       "\n",
       "#sk-container-id-1 div.sk-estimator.fitted:hover {\n",
       "  /* fitted */\n",
       "  background-color: var(--sklearn-color-fitted-level-2);\n",
       "}\n",
       "\n",
       "/* Specification for estimator info (e.g. \"i\" and \"?\") */\n",
       "\n",
       "/* Common style for \"i\" and \"?\" */\n",
       "\n",
       ".sk-estimator-doc-link,\n",
       "a:link.sk-estimator-doc-link,\n",
       "a:visited.sk-estimator-doc-link {\n",
       "  float: right;\n",
       "  font-size: smaller;\n",
       "  line-height: 1em;\n",
       "  font-family: monospace;\n",
       "  background-color: var(--sklearn-color-background);\n",
       "  border-radius: 1em;\n",
       "  height: 1em;\n",
       "  width: 1em;\n",
       "  text-decoration: none !important;\n",
       "  margin-left: 1ex;\n",
       "  /* unfitted */\n",
       "  border: var(--sklearn-color-unfitted-level-1) 1pt solid;\n",
       "  color: var(--sklearn-color-unfitted-level-1);\n",
       "}\n",
       "\n",
       ".sk-estimator-doc-link.fitted,\n",
       "a:link.sk-estimator-doc-link.fitted,\n",
       "a:visited.sk-estimator-doc-link.fitted {\n",
       "  /* fitted */\n",
       "  border: var(--sklearn-color-fitted-level-1) 1pt solid;\n",
       "  color: var(--sklearn-color-fitted-level-1);\n",
       "}\n",
       "\n",
       "/* On hover */\n",
       "div.sk-estimator:hover .sk-estimator-doc-link:hover,\n",
       ".sk-estimator-doc-link:hover,\n",
       "div.sk-label-container:hover .sk-estimator-doc-link:hover,\n",
       ".sk-estimator-doc-link:hover {\n",
       "  /* unfitted */\n",
       "  background-color: var(--sklearn-color-unfitted-level-3);\n",
       "  color: var(--sklearn-color-background);\n",
       "  text-decoration: none;\n",
       "}\n",
       "\n",
       "div.sk-estimator.fitted:hover .sk-estimator-doc-link.fitted:hover,\n",
       ".sk-estimator-doc-link.fitted:hover,\n",
       "div.sk-label-container:hover .sk-estimator-doc-link.fitted:hover,\n",
       ".sk-estimator-doc-link.fitted:hover {\n",
       "  /* fitted */\n",
       "  background-color: var(--sklearn-color-fitted-level-3);\n",
       "  color: var(--sklearn-color-background);\n",
       "  text-decoration: none;\n",
       "}\n",
       "\n",
       "/* Span, style for the box shown on hovering the info icon */\n",
       ".sk-estimator-doc-link span {\n",
       "  display: none;\n",
       "  z-index: 9999;\n",
       "  position: relative;\n",
       "  font-weight: normal;\n",
       "  right: .2ex;\n",
       "  padding: .5ex;\n",
       "  margin: .5ex;\n",
       "  width: min-content;\n",
       "  min-width: 20ex;\n",
       "  max-width: 50ex;\n",
       "  color: var(--sklearn-color-text);\n",
       "  box-shadow: 2pt 2pt 4pt #999;\n",
       "  /* unfitted */\n",
       "  background: var(--sklearn-color-unfitted-level-0);\n",
       "  border: .5pt solid var(--sklearn-color-unfitted-level-3);\n",
       "}\n",
       "\n",
       ".sk-estimator-doc-link.fitted span {\n",
       "  /* fitted */\n",
       "  background: var(--sklearn-color-fitted-level-0);\n",
       "  border: var(--sklearn-color-fitted-level-3);\n",
       "}\n",
       "\n",
       ".sk-estimator-doc-link:hover span {\n",
       "  display: block;\n",
       "}\n",
       "\n",
       "/* \"?\"-specific style due to the `<a>` HTML tag */\n",
       "\n",
       "#sk-container-id-1 a.estimator_doc_link {\n",
       "  float: right;\n",
       "  font-size: 1rem;\n",
       "  line-height: 1em;\n",
       "  font-family: monospace;\n",
       "  background-color: var(--sklearn-color-background);\n",
       "  border-radius: 1rem;\n",
       "  height: 1rem;\n",
       "  width: 1rem;\n",
       "  text-decoration: none;\n",
       "  /* unfitted */\n",
       "  color: var(--sklearn-color-unfitted-level-1);\n",
       "  border: var(--sklearn-color-unfitted-level-1) 1pt solid;\n",
       "}\n",
       "\n",
       "#sk-container-id-1 a.estimator_doc_link.fitted {\n",
       "  /* fitted */\n",
       "  border: var(--sklearn-color-fitted-level-1) 1pt solid;\n",
       "  color: var(--sklearn-color-fitted-level-1);\n",
       "}\n",
       "\n",
       "/* On hover */\n",
       "#sk-container-id-1 a.estimator_doc_link:hover {\n",
       "  /* unfitted */\n",
       "  background-color: var(--sklearn-color-unfitted-level-3);\n",
       "  color: var(--sklearn-color-background);\n",
       "  text-decoration: none;\n",
       "}\n",
       "\n",
       "#sk-container-id-1 a.estimator_doc_link.fitted:hover {\n",
       "  /* fitted */\n",
       "  background-color: var(--sklearn-color-fitted-level-3);\n",
       "}\n",
       "</style><div id=\"sk-container-id-1\" class=\"sk-top-container\"><div class=\"sk-text-repr-fallback\"><pre>ProximityTree()</pre><b>In a Jupyter environment, please rerun this cell to show the HTML representation or trust the notebook. <br />On GitHub, the HTML representation is unable to render, please try loading this page with nbviewer.org.</b></div><div class=\"sk-container\" hidden><div class=\"sk-item\"><div class=\"sk-estimator fitted sk-toggleable\"><input class=\"sk-toggleable__control sk-hidden--visually\" id=\"sk-estimator-id-1\" type=\"checkbox\" checked><label for=\"sk-estimator-id-1\" class=\"sk-toggleable__label fitted sk-toggleable__label-arrow fitted\">&nbsp;ProximityTree<span class=\"sk-estimator-doc-link fitted\">i<span>Fitted</span></span></label><div class=\"sk-toggleable__content fitted\"><pre>ProximityTree()</pre></div> </div></div></div></div>"
      ],
      "text/plain": [
       "ProximityTree()"
      ]
     },
     "execution_count": 60,
     "metadata": {},
     "output_type": "execute_result"
    }
   ],
   "source": [
    "clf = ProximityTree()\n",
    "clf.fit(X,y)"
   ]
  },
  {
   "cell_type": "code",
   "execution_count": 61,
   "id": "245dfc59-e64f-4cf5-b7b5-793cc6d84653",
   "metadata": {},
   "outputs": [
    {
     "data": {
      "text/plain": [
       "1.0"
      ]
     },
     "execution_count": 61,
     "metadata": {},
     "output_type": "execute_result"
    }
   ],
   "source": [
    "y_pred = clf.predict(X)\n",
    "accuracy_score(y_pred,y)"
   ]
  },
  {
   "cell_type": "code",
   "execution_count": 64,
   "id": "725ef832-484e-402f-b591-83f30f9b6e37",
   "metadata": {},
   "outputs": [],
   "source": [
    "X_test1 = np.random.uniform(0,3, size = 50).reshape(5,10)\n",
    "X_test2 = np.random.uniform(1,6, size = 50).reshape(5,10)\n",
    "X_test = np.concatenate((X_test2, X_test1), axis=0)"
   ]
  },
  {
   "cell_type": "code",
   "execution_count": 65,
   "id": "f520bbab-c4b1-40f1-8c2b-60d5737c5765",
   "metadata": {},
   "outputs": [],
   "source": [
    "y_test1= np.full((5,),'0')\n",
    "y_test2=np.full((5,),'1')\n",
    "y_test = np.concatenate((y_test2, y_test1), axis=0)"
   ]
  },
  {
   "cell_type": "code",
   "execution_count": 66,
   "id": "81e7380a-001b-4004-8fb5-f0fc424cf7a4",
   "metadata": {},
   "outputs": [
    {
     "data": {
      "text/plain": [
       "1.0"
      ]
     },
     "execution_count": 66,
     "metadata": {},
     "output_type": "execute_result"
    }
   ],
   "source": [
    "y_pred = clf.predict(X_test)\n",
    "accuracy_score(y_pred,y_test)"
   ]
  },
  {
   "cell_type": "code",
   "execution_count": 67,
   "id": "410561d7-16e8-40c8-a06e-41ed7ef8826d",
   "metadata": {},
   "outputs": [
    {
     "data": {
      "image/png": "[encoded data removed]",
      "text/plain": [
       "<Figure size 1200x600 with 6 Axes>"
      ]
     },
     "metadata": {},
     "output_type": "display_data"
    }
   ],
   "source": [
    "import numpy as np\n",
    "import matplotlib.pyplot as plt\n",
    "\n",
    "def generate_sinusoidal(length, freq, amplitude, noise_level=0.1):\n",
    "    t = np.linspace(0, 2 * np.pi, length)\n",
    "    signal = amplitude * np.sin(freq * t)\n",
    "    noise = noise_level * np.random.randn(length)\n",
    "    return signal + noise\n",
    "\n",
    "def generate_linear(length, slope, intercept, noise_level=0.1):\n",
    "    t = np.linspace(0, length-1, length)\n",
    "    signal = slope * t + intercept\n",
    "    noise = noise_level * np.random.randn(length)\n",
    "    return signal + noise\n",
    "\n",
    "def create_time_series_dataset(n_samples, length):\n",
    "    data = []\n",
    "    labels = []\n",
    "    \n",
    "    for _ in range(n_samples // 2):\n",
    "        # Generate sinusoidal time series\n",
    "        sinusoidal = generate_sinusoidal(length, freq=1, amplitude=1)\n",
    "        data.append(sinusoidal)\n",
    "        labels.append(0)\n",
    "        \n",
    "        # Generate linear time series\n",
    "        linear = generate_linear(length, slope=0.1, intercept=0)\n",
    "        data.append(linear)\n",
    "        labels.append(1)\n",
    "        \n",
    "    data = np.array(data)\n",
    "    labels = np.array(labels)\n",
    "    \n",
    "    # Shuffle the dataset\n",
    "    indices = np.random.permutation(n_samples)\n",
    "    data = data[indices]\n",
    "    labels = labels[indices]\n",
    "    \n",
    "    return data, labels\n",
    "\n",
    "# Parameters\n",
    "n_samples = 100  # Total number of samples (should be even)\n",
    "length = 50      # Length of each time series\n",
    "\n",
    "# Generate the dataset\n",
    "data, labels = create_time_series_dataset(n_samples, length)\n",
    "\n",
    "# Plot a few examples\n",
    "plt.figure(figsize=(12, 6))\n",
    "for i in range(6):\n",
    "    plt.subplot(2, 3, i + 1)\n",
    "    plt.plot(data[i])\n",
    "    plt.title(f'Class {labels[i]}')\n",
    "plt.tight_layout()\n",
    "plt.show()\n"
   ]
  },
  {
   "cell_type": "code",
   "execution_count": 68,
   "id": "0b48d12b-dedd-4e17-8869-b94e859c6f97",
   "metadata": {},
   "outputs": [
    {
     "data": {
      "text/plain": [
       "(100, 50)"
      ]
     },
     "execution_count": 68,
     "metadata": {},
     "output_type": "execute_result"
    }
   ],
   "source": [
    "data.shape"
   ]
  },
  {
   "cell_type": "code",
   "execution_count": 69,
   "id": "e28ceaa9-4fce-47be-b303-b1373c1ad666",
   "metadata": {},
   "outputs": [
    {
     "data": {
      "text/plain": [
       "(100,)"
      ]
     },
     "execution_count": 69,
     "metadata": {},
     "output_type": "execute_result"
    }
   ],
   "source": [
    "labels.shape"
   ]
  },
  {
   "cell_type": "code",
   "execution_count": 70,
   "id": "f08a5264-5729-422c-8ad7-868bf4756d6b",
   "metadata": {},
   "outputs": [
    {
     "data": {
      "text/plain": [
       "array([0, 1])"
      ]
     },
     "execution_count": 70,
     "metadata": {},
     "output_type": "execute_result"
    }
   ],
   "source": [
    "np.unique(labels)"
   ]
  },
  {
   "cell_type": "code",
   "execution_count": 76,
   "id": "e3378173-c263-4fa9-92e4-97521ce766ba",
   "metadata": {},
   "outputs": [],
   "source": [
    "X, y = create_time_series_dataset(200, 20)\n",
    "X_test, y_test = create_time_series_dataset(50,20)"
   ]
  },
  {
   "cell_type": "code",
   "execution_count": 77,
   "id": "1612b5b1-95b1-4624-a7f8-2bbf6a67ef9c",
   "metadata": {},
   "outputs": [
    {
     "data": {
      "text/plain": [
       "1.0"
      ]
     },
     "execution_count": 77,
     "metadata": {},
     "output_type": "execute_result"
    }
   ],
   "source": [
    "clf.fit(X,y)\n",
    "y_pred = clf.predict(X_test)\n",
    "accuracy_score(y_pred,y_test)"
   ]
  },
  {
   "cell_type": "code",
   "execution_count": 75,
   "id": "95f734ce-3fe1-44b3-933c-e7e1f0e32688",
   "metadata": {},
   "outputs": [
    {
     "data": {
      "image/png": "[encoded data removed]",
      "text/plain": [
       "<Figure size 1200x600 with 6 Axes>"
      ]
     },
     "metadata": {},
     "output_type": "display_data"
    }
   ],
   "source": [
    "import numpy as np\n",
    "import matplotlib.pyplot as plt\n",
    "\n",
    "def generate_time_series(length, mean, std, noise_level=0.5):\n",
    "    signal = np.random.normal(mean, std, length)\n",
    "    noise = noise_level * np.random.randn(length)\n",
    "    return signal + noise\n",
    "\n",
    "def create_time_series_dataset(n_samples, length):\n",
    "    data = []\n",
    "    labels = []\n",
    "    \n",
    "    half_samples = n_samples // 2\n",
    "    \n",
    "    for _ in range(half_samples):\n",
    "        # Generate time series with larger values for class 0\n",
    "        larger_values = generate_time_series(length, mean=5, std=1)\n",
    "        data.append(larger_values)\n",
    "        labels.append(0)\n",
    "        \n",
    "        # Generate time series with smaller values for class 1\n",
    "        smaller_values = generate_time_series(length, mean=0, std=1)\n",
    "        data.append(smaller_values)\n",
    "        labels.append(1)\n",
    "        \n",
    "    data = np.array(data)\n",
    "    labels = np.array(labels)\n",
    "    \n",
    "    # Shuffle the dataset\n",
    "    indices = np.random.permutation(n_samples)\n",
    "    data = data[indices]\n",
    "    labels = labels[indices]\n",
    "    \n",
    "    return data, labels\n",
    "\n",
    "# Parameters\n",
    "n_samples = 100  # Total number of samples (should be even)\n",
    "length = 50      # Length of each time series\n",
    "\n",
    "# Generate the dataset\n",
    "data, labels = create_time_series_dataset(n_samples, length)\n",
    "\n",
    "# Plot a few examples\n",
    "plt.figure(figsize=(12, 6))\n",
    "for i in range(6):\n",
    "    plt.subplot(2, 3, i + 1)\n",
    "    plt.plot(data[i])\n",
    "    plt.title(f'Class {labels[i]}')\n",
    "plt.tight_layout()\n",
    "plt.show()\n"
   ]
  },
  {
   "cell_type": "code",
   "execution_count": 8,
   "id": "b160b0c2-8954-4a41-83cc-89b3db5b5168",
   "metadata": {},
   "outputs": [
    {
     "data": {
      "text/plain": [
       "array([[[0.        , 1.69159304, 1.08804603, 1.8110271 , 0.03137393,\n",
       "         0.27883059, 1.77809095, 0.94104588, 1.3680432 , 1.32962947,\n",
       "         1.82753881, 0.1513075 ]],\n",
       "\n",
       "       [[2.        , 0.59719574, 2.11801394, 3.75080261, 2.13844945,\n",
       "         3.41104566, 0.00513538, 1.5321236 , 1.78017574, 3.07773445,\n",
       "         3.88894289, 2.31999879]],\n",
       "\n",
       "       [[2.86246869, 3.75752345, 0.50850668, 3.75833246, 0.30529557,\n",
       "         2.81106939, 0.0080994 , 1.07327084, 2.07509781, 3.01818843,\n",
       "         3.65197881, 2.75775313]],\n",
       "\n",
       "       [[0.06329563, 0.42992183, 0.83740157, 0.24286289, 0.11677167,\n",
       "         0.5559328 , 0.05797565, 1.2293005 , 1.66042437, 0.93560231,\n",
       "         1.43117326, 1.33586495]],\n",
       "\n",
       "       [[2.18646506, 0.27136109, 3.73639709, 0.78924571, 3.02347717,\n",
       "         1.07473634, 2.69399758, 3.85864114, 2.67097721, 3.05390851,\n",
       "         2.95591651, 1.29168201]],\n",
       "\n",
       "       [[3.44631609, 3.80359998, 1.39283666, 0.32064672, 0.89076124,\n",
       "         3.56894501, 0.11563305, 0.63427849, 0.70756362, 2.80193059,\n",
       "         1.63036661, 2.51145179]],\n",
       "\n",
       "       [[3.41111944, 2.88846479, 1.22406825, 0.30206273, 2.90255352,\n",
       "         2.65919563, 0.39530615, 1.17709614, 1.39766981, 3.0359122 ,\n",
       "         1.23206758, 3.0210029 ]],\n",
       "\n",
       "       [[2.13841859, 1.68953721, 3.04738781, 3.21137728, 3.09511881,\n",
       "         0.8567536 , 1.29200202, 2.61234401, 1.27353296, 1.88181743,\n",
       "         0.37945802, 0.51463043]],\n",
       "\n",
       "       [[0.83117877, 1.81567079, 1.63902804, 0.21487741, 0.6692127 ,\n",
       "         1.00679277, 1.90286855, 0.54277369, 0.96893603, 0.50095696,\n",
       "         1.22547465, 0.9936318 ]],\n",
       "\n",
       "       [[0.93310138, 1.11674596, 1.51714429, 0.42175329, 0.18695503,\n",
       "         1.56078431, 0.5338961 , 1.58857871, 1.88351639, 0.45074274,\n",
       "         1.97925797, 0.95349045]]])"
      ]
     },
     "execution_count": 8,
     "metadata": {},
     "output_type": "execute_result"
    }
   ],
   "source": [
    "from aeon.testing.data_generation import make_example_3d_numpy\n",
    "X,y = make_example_3d_numpy(10,1,12, n_labels=2)\n",
    "X"
   ]
  },
  {
   "cell_type": "code",
   "execution_count": 9,
   "id": "1d23763d-004b-4ffe-87e3-071c2bf9edea",
   "metadata": {},
   "outputs": [
    {
     "data": {
      "text/plain": [
       "array([0, 1, 1, 0, 1, 1, 1, 1, 0, 0])"
      ]
     },
     "execution_count": 9,
     "metadata": {},
     "output_type": "execute_result"
    }
   ],
   "source": [
    "y"
   ]
  },
  {
   "cell_type": "code",
   "execution_count": null,
   "id": "f1880809-88aa-487e-88d7-5a111de3564b",
   "metadata": {},
   "outputs": [],
   "source": []
  }
 ],
 "metadata": {
  "kernelspec": {
   "display_name": "Python 3 (ipykernel)",
   "language": "python",
   "name": "python3"
  },
  "language_info": {
   "codemirror_mode": {
    "name": "ipython",
    "version": 3
   },
   "file_extension": ".py",
   "mimetype": "text/x-python",
   "name": "python",
   "nbconvert_exporter": "python",
   "pygments_lexer": "ipython3",
   "version": "3.12.2"
  }
 },
 "nbformat": 4,
 "nbformat_minor": 5
}
