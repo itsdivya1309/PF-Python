{
 "cells": [
  {
   "cell_type": "code",
   "execution_count": 1,
   "id": "5f1ae822-93cb-4bb5-b561-706488be3d9d",
   "metadata": {},
   "outputs": [],
   "source": [
    "from aeon.classification.distance_based import ProximityTree\n",
    "import numpy as np\n",
    "\n",
    "from numba import njit"
   ]
  },
  {
   "cell_type": "code",
   "execution_count": 2,
   "id": "33c829b0-6128-43dd-ac29-67a62673c509",
   "metadata": {},
   "outputs": [],
   "source": [
    "from aeon.datasets import load_italy_power_demand\n",
    "X, y = load_italy_power_demand(return_type='numpy2d')"
   ]
  },
  {
   "cell_type": "code",
   "execution_count": 3,
   "id": "e06c4324-3660-4fa1-9ed9-5f3e7289091e",
   "metadata": {},
   "outputs": [],
   "source": [
    "clf = ProximityTree(n_splitters = 7)"
   ]
  },
  {
   "cell_type": "code",
   "execution_count": 4,
   "id": "3f31a76c-0fb8-410f-99f0-182476d5aa61",
   "metadata": {},
   "outputs": [
    {
     "data": {
      "text/plain": [
       "(196, 24)"
      ]
     },
     "execution_count": 4,
     "metadata": {},
     "output_type": "execute_result"
    }
   ],
   "source": [
    "X_train, X_test = X[:900], X[900:]\n",
    "y_train, y_test = y[:900],y[900:]\n",
    "X_test.shape"
   ]
  },
  {
   "cell_type": "code",
   "execution_count": 5,
   "id": "81b048fc-237a-41a2-b3ed-cc6ed0866b54",
   "metadata": {},
   "outputs": [
    {
     "data": {
      "text/html": [
       "<style>#sk-container-id-1 {\n",
       "  /* Definition of color scheme common for light and dark mode */\n",
       "  --sklearn-color-text: black;\n",
       "  --sklearn-color-line: gray;\n",
       "  /* Definition of color scheme for unfitted estimators */\n",
       "  --sklearn-color-unfitted-level-0: #fff5e6;\n",
       "  --sklearn-color-unfitted-level-1: #f6e4d2;\n",
       "  --sklearn-color-unfitted-level-2: #ffe0b3;\n",
       "  --sklearn-color-unfitted-level-3: chocolate;\n",
       "  /* Definition of color scheme for fitted estimators */\n",
       "  --sklearn-color-fitted-level-0: #f0f8ff;\n",
       "  --sklearn-color-fitted-level-1: #d4ebff;\n",
       "  --sklearn-color-fitted-level-2: #b3dbfd;\n",
       "  --sklearn-color-fitted-level-3: cornflowerblue;\n",
       "\n",
       "  /* Specific color for light theme */\n",
       "  --sklearn-color-text-on-default-background: var(--sg-text-color, var(--theme-code-foreground, var(--jp-content-font-color1, black)));\n",
       "  --sklearn-color-background: var(--sg-background-color, var(--theme-background, var(--jp-layout-color0, white)));\n",
       "  --sklearn-color-border-box: var(--sg-text-color, var(--theme-code-foreground, var(--jp-content-font-color1, black)));\n",
       "  --sklearn-color-icon: #696969;\n",
       "\n",
       "  @media (prefers-color-scheme: dark) {\n",
       "    /* Redefinition of color scheme for dark theme */\n",
       "    --sklearn-color-text-on-default-background: var(--sg-text-color, var(--theme-code-foreground, var(--jp-content-font-color1, white)));\n",
       "    --sklearn-color-background: var(--sg-background-color, var(--theme-background, var(--jp-layout-color0, #111)));\n",
       "    --sklearn-color-border-box: var(--sg-text-color, var(--theme-code-foreground, var(--jp-content-font-color1, white)));\n",
       "    --sklearn-color-icon: #878787;\n",
       "  }\n",
       "}\n",
       "\n",
       "#sk-container-id-1 {\n",
       "  color: var(--sklearn-color-text);\n",
       "}\n",
       "\n",
       "#sk-container-id-1 pre {\n",
       "  padding: 0;\n",
       "}\n",
       "\n",
       "#sk-container-id-1 input.sk-hidden--visually {\n",
       "  border: 0;\n",
       "  clip: rect(1px 1px 1px 1px);\n",
       "  clip: rect(1px, 1px, 1px, 1px);\n",
       "  height: 1px;\n",
       "  margin: -1px;\n",
       "  overflow: hidden;\n",
       "  padding: 0;\n",
       "  position: absolute;\n",
       "  width: 1px;\n",
       "}\n",
       "\n",
       "#sk-container-id-1 div.sk-dashed-wrapped {\n",
       "  border: 1px dashed var(--sklearn-color-line);\n",
       "  margin: 0 0.4em 0.5em 0.4em;\n",
       "  box-sizing: border-box;\n",
       "  padding-bottom: 0.4em;\n",
       "  background-color: var(--sklearn-color-background);\n",
       "}\n",
       "\n",
       "#sk-container-id-1 div.sk-container {\n",
       "  /* jupyter's `normalize.less` sets `[hidden] { display: none; }`\n",
       "     but bootstrap.min.css set `[hidden] { display: none !important; }`\n",
       "     so we also need the `!important` here to be able to override the\n",
       "     default hidden behavior on the sphinx rendered scikit-learn.org.\n",
       "     See: https://github.com/scikit-learn/scikit-learn/issues/21755 */\n",
       "  display: inline-block !important;\n",
       "  position: relative;\n",
       "}\n",
       "\n",
       "#sk-container-id-1 div.sk-text-repr-fallback {\n",
       "  display: none;\n",
       "}\n",
       "\n",
       "div.sk-parallel-item,\n",
       "div.sk-serial,\n",
       "div.sk-item {\n",
       "  /* draw centered vertical line to link estimators */\n",
       "  background-image: linear-gradient(var(--sklearn-color-text-on-default-background), var(--sklearn-color-text-on-default-background));\n",
       "  background-size: 2px 100%;\n",
       "  background-repeat: no-repeat;\n",
       "  background-position: center center;\n",
       "}\n",
       "\n",
       "/* Parallel-specific style estimator block */\n",
       "\n",
       "#sk-container-id-1 div.sk-parallel-item::after {\n",
       "  content: \"\";\n",
       "  width: 100%;\n",
       "  border-bottom: 2px solid var(--sklearn-color-text-on-default-background);\n",
       "  flex-grow: 1;\n",
       "}\n",
       "\n",
       "#sk-container-id-1 div.sk-parallel {\n",
       "  display: flex;\n",
       "  align-items: stretch;\n",
       "  justify-content: center;\n",
       "  background-color: var(--sklearn-color-background);\n",
       "  position: relative;\n",
       "}\n",
       "\n",
       "#sk-container-id-1 div.sk-parallel-item {\n",
       "  display: flex;\n",
       "  flex-direction: column;\n",
       "}\n",
       "\n",
       "#sk-container-id-1 div.sk-parallel-item:first-child::after {\n",
       "  align-self: flex-end;\n",
       "  width: 50%;\n",
       "}\n",
       "\n",
       "#sk-container-id-1 div.sk-parallel-item:last-child::after {\n",
       "  align-self: flex-start;\n",
       "  width: 50%;\n",
       "}\n",
       "\n",
       "#sk-container-id-1 div.sk-parallel-item:only-child::after {\n",
       "  width: 0;\n",
       "}\n",
       "\n",
       "/* Serial-specific style estimator block */\n",
       "\n",
       "#sk-container-id-1 div.sk-serial {\n",
       "  display: flex;\n",
       "  flex-direction: column;\n",
       "  align-items: center;\n",
       "  background-color: var(--sklearn-color-background);\n",
       "  padding-right: 1em;\n",
       "  padding-left: 1em;\n",
       "}\n",
       "\n",
       "\n",
       "/* Toggleable style: style used for estimator/Pipeline/ColumnTransformer box that is\n",
       "clickable and can be expanded/collapsed.\n",
       "- Pipeline and ColumnTransformer use this feature and define the default style\n",
       "- Estimators will overwrite some part of the style using the `sk-estimator` class\n",
       "*/\n",
       "\n",
       "/* Pipeline and ColumnTransformer style (default) */\n",
       "\n",
       "#sk-container-id-1 div.sk-toggleable {\n",
       "  /* Default theme specific background. It is overwritten whether we have a\n",
       "  specific estimator or a Pipeline/ColumnTransformer */\n",
       "  background-color: var(--sklearn-color-background);\n",
       "}\n",
       "\n",
       "/* Toggleable label */\n",
       "#sk-container-id-1 label.sk-toggleable__label {\n",
       "  cursor: pointer;\n",
       "  display: block;\n",
       "  width: 100%;\n",
       "  margin-bottom: 0;\n",
       "  padding: 0.5em;\n",
       "  box-sizing: border-box;\n",
       "  text-align: center;\n",
       "}\n",
       "\n",
       "#sk-container-id-1 label.sk-toggleable__label-arrow:before {\n",
       "  /* Arrow on the left of the label */\n",
       "  content: \"▸\";\n",
       "  float: left;\n",
       "  margin-right: 0.25em;\n",
       "  color: var(--sklearn-color-icon);\n",
       "}\n",
       "\n",
       "#sk-container-id-1 label.sk-toggleable__label-arrow:hover:before {\n",
       "  color: var(--sklearn-color-text);\n",
       "}\n",
       "\n",
       "/* Toggleable content - dropdown */\n",
       "\n",
       "#sk-container-id-1 div.sk-toggleable__content {\n",
       "  max-height: 0;\n",
       "  max-width: 0;\n",
       "  overflow: hidden;\n",
       "  text-align: left;\n",
       "  /* unfitted */\n",
       "  background-color: var(--sklearn-color-unfitted-level-0);\n",
       "}\n",
       "\n",
       "#sk-container-id-1 div.sk-toggleable__content.fitted {\n",
       "  /* fitted */\n",
       "  background-color: var(--sklearn-color-fitted-level-0);\n",
       "}\n",
       "\n",
       "#sk-container-id-1 div.sk-toggleable__content pre {\n",
       "  margin: 0.2em;\n",
       "  border-radius: 0.25em;\n",
       "  color: var(--sklearn-color-text);\n",
       "  /* unfitted */\n",
       "  background-color: var(--sklearn-color-unfitted-level-0);\n",
       "}\n",
       "\n",
       "#sk-container-id-1 div.sk-toggleable__content.fitted pre {\n",
       "  /* unfitted */\n",
       "  background-color: var(--sklearn-color-fitted-level-0);\n",
       "}\n",
       "\n",
       "#sk-container-id-1 input.sk-toggleable__control:checked~div.sk-toggleable__content {\n",
       "  /* Expand drop-down */\n",
       "  max-height: 200px;\n",
       "  max-width: 100%;\n",
       "  overflow: auto;\n",
       "}\n",
       "\n",
       "#sk-container-id-1 input.sk-toggleable__control:checked~label.sk-toggleable__label-arrow:before {\n",
       "  content: \"▾\";\n",
       "}\n",
       "\n",
       "/* Pipeline/ColumnTransformer-specific style */\n",
       "\n",
       "#sk-container-id-1 div.sk-label input.sk-toggleable__control:checked~label.sk-toggleable__label {\n",
       "  color: var(--sklearn-color-text);\n",
       "  background-color: var(--sklearn-color-unfitted-level-2);\n",
       "}\n",
       "\n",
       "#sk-container-id-1 div.sk-label.fitted input.sk-toggleable__control:checked~label.sk-toggleable__label {\n",
       "  background-color: var(--sklearn-color-fitted-level-2);\n",
       "}\n",
       "\n",
       "/* Estimator-specific style */\n",
       "\n",
       "/* Colorize estimator box */\n",
       "#sk-container-id-1 div.sk-estimator input.sk-toggleable__control:checked~label.sk-toggleable__label {\n",
       "  /* unfitted */\n",
       "  background-color: var(--sklearn-color-unfitted-level-2);\n",
       "}\n",
       "\n",
       "#sk-container-id-1 div.sk-estimator.fitted input.sk-toggleable__control:checked~label.sk-toggleable__label {\n",
       "  /* fitted */\n",
       "  background-color: var(--sklearn-color-fitted-level-2);\n",
       "}\n",
       "\n",
       "#sk-container-id-1 div.sk-label label.sk-toggleable__label,\n",
       "#sk-container-id-1 div.sk-label label {\n",
       "  /* The background is the default theme color */\n",
       "  color: var(--sklearn-color-text-on-default-background);\n",
       "}\n",
       "\n",
       "/* On hover, darken the color of the background */\n",
       "#sk-container-id-1 div.sk-label:hover label.sk-toggleable__label {\n",
       "  color: var(--sklearn-color-text);\n",
       "  background-color: var(--sklearn-color-unfitted-level-2);\n",
       "}\n",
       "\n",
       "/* Label box, darken color on hover, fitted */\n",
       "#sk-container-id-1 div.sk-label.fitted:hover label.sk-toggleable__label.fitted {\n",
       "  color: var(--sklearn-color-text);\n",
       "  background-color: var(--sklearn-color-fitted-level-2);\n",
       "}\n",
       "\n",
       "/* Estimator label */\n",
       "\n",
       "#sk-container-id-1 div.sk-label label {\n",
       "  font-family: monospace;\n",
       "  font-weight: bold;\n",
       "  display: inline-block;\n",
       "  line-height: 1.2em;\n",
       "}\n",
       "\n",
       "#sk-container-id-1 div.sk-label-container {\n",
       "  text-align: center;\n",
       "}\n",
       "\n",
       "/* Estimator-specific */\n",
       "#sk-container-id-1 div.sk-estimator {\n",
       "  font-family: monospace;\n",
       "  border: 1px dotted var(--sklearn-color-border-box);\n",
       "  border-radius: 0.25em;\n",
       "  box-sizing: border-box;\n",
       "  margin-bottom: 0.5em;\n",
       "  /* unfitted */\n",
       "  background-color: var(--sklearn-color-unfitted-level-0);\n",
       "}\n",
       "\n",
       "#sk-container-id-1 div.sk-estimator.fitted {\n",
       "  /* fitted */\n",
       "  background-color: var(--sklearn-color-fitted-level-0);\n",
       "}\n",
       "\n",
       "/* on hover */\n",
       "#sk-container-id-1 div.sk-estimator:hover {\n",
       "  /* unfitted */\n",
       "  background-color: var(--sklearn-color-unfitted-level-2);\n",
       "}\n",
       "\n",
       "#sk-container-id-1 div.sk-estimator.fitted:hover {\n",
       "  /* fitted */\n",
       "  background-color: var(--sklearn-color-fitted-level-2);\n",
       "}\n",
       "\n",
       "/* Specification for estimator info (e.g. \"i\" and \"?\") */\n",
       "\n",
       "/* Common style for \"i\" and \"?\" */\n",
       "\n",
       ".sk-estimator-doc-link,\n",
       "a:link.sk-estimator-doc-link,\n",
       "a:visited.sk-estimator-doc-link {\n",
       "  float: right;\n",
       "  font-size: smaller;\n",
       "  line-height: 1em;\n",
       "  font-family: monospace;\n",
       "  background-color: var(--sklearn-color-background);\n",
       "  border-radius: 1em;\n",
       "  height: 1em;\n",
       "  width: 1em;\n",
       "  text-decoration: none !important;\n",
       "  margin-left: 1ex;\n",
       "  /* unfitted */\n",
       "  border: var(--sklearn-color-unfitted-level-1) 1pt solid;\n",
       "  color: var(--sklearn-color-unfitted-level-1);\n",
       "}\n",
       "\n",
       ".sk-estimator-doc-link.fitted,\n",
       "a:link.sk-estimator-doc-link.fitted,\n",
       "a:visited.sk-estimator-doc-link.fitted {\n",
       "  /* fitted */\n",
       "  border: var(--sklearn-color-fitted-level-1) 1pt solid;\n",
       "  color: var(--sklearn-color-fitted-level-1);\n",
       "}\n",
       "\n",
       "/* On hover */\n",
       "div.sk-estimator:hover .sk-estimator-doc-link:hover,\n",
       ".sk-estimator-doc-link:hover,\n",
       "div.sk-label-container:hover .sk-estimator-doc-link:hover,\n",
       ".sk-estimator-doc-link:hover {\n",
       "  /* unfitted */\n",
       "  background-color: var(--sklearn-color-unfitted-level-3);\n",
       "  color: var(--sklearn-color-background);\n",
       "  text-decoration: none;\n",
       "}\n",
       "\n",
       "div.sk-estimator.fitted:hover .sk-estimator-doc-link.fitted:hover,\n",
       ".sk-estimator-doc-link.fitted:hover,\n",
       "div.sk-label-container:hover .sk-estimator-doc-link.fitted:hover,\n",
       ".sk-estimator-doc-link.fitted:hover {\n",
       "  /* fitted */\n",
       "  background-color: var(--sklearn-color-fitted-level-3);\n",
       "  color: var(--sklearn-color-background);\n",
       "  text-decoration: none;\n",
       "}\n",
       "\n",
       "/* Span, style for the box shown on hovering the info icon */\n",
       ".sk-estimator-doc-link span {\n",
       "  display: none;\n",
       "  z-index: 9999;\n",
       "  position: relative;\n",
       "  font-weight: normal;\n",
       "  right: .2ex;\n",
       "  padding: .5ex;\n",
       "  margin: .5ex;\n",
       "  width: min-content;\n",
       "  min-width: 20ex;\n",
       "  max-width: 50ex;\n",
       "  color: var(--sklearn-color-text);\n",
       "  box-shadow: 2pt 2pt 4pt #999;\n",
       "  /* unfitted */\n",
       "  background: var(--sklearn-color-unfitted-level-0);\n",
       "  border: .5pt solid var(--sklearn-color-unfitted-level-3);\n",
       "}\n",
       "\n",
       ".sk-estimator-doc-link.fitted span {\n",
       "  /* fitted */\n",
       "  background: var(--sklearn-color-fitted-level-0);\n",
       "  border: var(--sklearn-color-fitted-level-3);\n",
       "}\n",
       "\n",
       ".sk-estimator-doc-link:hover span {\n",
       "  display: block;\n",
       "}\n",
       "\n",
       "/* \"?\"-specific style due to the `<a>` HTML tag */\n",
       "\n",
       "#sk-container-id-1 a.estimator_doc_link {\n",
       "  float: right;\n",
       "  font-size: 1rem;\n",
       "  line-height: 1em;\n",
       "  font-family: monospace;\n",
       "  background-color: var(--sklearn-color-background);\n",
       "  border-radius: 1rem;\n",
       "  height: 1rem;\n",
       "  width: 1rem;\n",
       "  text-decoration: none;\n",
       "  /* unfitted */\n",
       "  color: var(--sklearn-color-unfitted-level-1);\n",
       "  border: var(--sklearn-color-unfitted-level-1) 1pt solid;\n",
       "}\n",
       "\n",
       "#sk-container-id-1 a.estimator_doc_link.fitted {\n",
       "  /* fitted */\n",
       "  border: var(--sklearn-color-fitted-level-1) 1pt solid;\n",
       "  color: var(--sklearn-color-fitted-level-1);\n",
       "}\n",
       "\n",
       "/* On hover */\n",
       "#sk-container-id-1 a.estimator_doc_link:hover {\n",
       "  /* unfitted */\n",
       "  background-color: var(--sklearn-color-unfitted-level-3);\n",
       "  color: var(--sklearn-color-background);\n",
       "  text-decoration: none;\n",
       "}\n",
       "\n",
       "#sk-container-id-1 a.estimator_doc_link.fitted:hover {\n",
       "  /* fitted */\n",
       "  background-color: var(--sklearn-color-fitted-level-3);\n",
       "}\n",
       "</style><div id=\"sk-container-id-1\" class=\"sk-top-container\"><div class=\"sk-text-repr-fallback\"><pre>ProximityTree(n_splitters=7)</pre><b>In a Jupyter environment, please rerun this cell to show the HTML representation or trust the notebook. <br />On GitHub, the HTML representation is unable to render, please try loading this page with nbviewer.org.</b></div><div class=\"sk-container\" hidden><div class=\"sk-item\"><div class=\"sk-estimator fitted sk-toggleable\"><input class=\"sk-toggleable__control sk-hidden--visually\" id=\"sk-estimator-id-1\" type=\"checkbox\" checked><label for=\"sk-estimator-id-1\" class=\"sk-toggleable__label fitted sk-toggleable__label-arrow fitted\">&nbsp;ProximityTree<span class=\"sk-estimator-doc-link fitted\">i<span>Fitted</span></span></label><div class=\"sk-toggleable__content fitted\"><pre>ProximityTree(n_splitters=7)</pre></div> </div></div></div></div>"
      ],
      "text/plain": [
       "ProximityTree(n_splitters=7)"
      ]
     },
     "execution_count": 5,
     "metadata": {},
     "output_type": "execute_result"
    }
   ],
   "source": [
    "clf.fit(X_train,y_train)"
   ]
  },
  {
   "cell_type": "code",
   "execution_count": 6,
   "id": "c453b624-282a-4215-8369-fbfa990a3081",
   "metadata": {},
   "outputs": [],
   "source": [
    "from sklearn.metrics import accuracy_score\n",
    "\n",
    "y_pred = clf.predict(X_test)\n",
    "score = accuracy_score(y_pred, y_test)"
   ]
  },
  {
   "cell_type": "code",
   "execution_count": 7,
   "id": "e6b8b8b1-4d21-4f51-a61c-c15690570d58",
   "metadata": {},
   "outputs": [
    {
     "data": {
      "text/plain": [
       "0.9591836734693877"
      ]
     },
     "execution_count": 7,
     "metadata": {},
     "output_type": "execute_result"
    }
   ],
   "source": [
    "score"
   ]
  },
  {
   "cell_type": "code",
   "execution_count": 8,
   "id": "2f75e18a-9b56-4228-92f6-5407e517ae1a",
   "metadata": {},
   "outputs": [
    {
     "data": {
      "text/plain": [
       "1096"
      ]
     },
     "execution_count": 8,
     "metadata": {},
     "output_type": "execute_result"
    }
   ],
   "source": [
    "len(X)"
   ]
  },
  {
   "cell_type": "code",
   "execution_count": 6,
   "id": "963eea17-61dd-4bad-8f57-fd012c7d163f",
   "metadata": {},
   "outputs": [
    {
     "data": {
      "text/plain": [
       "1"
      ]
     },
     "execution_count": 6,
     "metadata": {},
     "output_type": "execute_result"
    }
   ],
   "source": [
    "y.ndim"
   ]
  },
  {
   "cell_type": "code",
   "execution_count": 7,
   "id": "5ad6dce7-881f-434c-a6e6-36bdfa12e56a",
   "metadata": {},
   "outputs": [
    {
     "data": {
      "text/plain": [
       "(1096, 1, 24)"
      ]
     },
     "execution_count": 7,
     "metadata": {},
     "output_type": "execute_result"
    }
   ],
   "source": [
    "X.shape"
   ]
  },
  {
   "cell_type": "code",
   "execution_count": 8,
   "id": "8726182c-dbb8-4fcf-9720-75928416195b",
   "metadata": {},
   "outputs": [
    {
     "data": {
      "text/plain": [
       "3"
      ]
     },
     "execution_count": 8,
     "metadata": {},
     "output_type": "execute_result"
    }
   ],
   "source": [
    "X.reshape((X.shape[0],-1))\n",
    "X.ndim"
   ]
  },
  {
   "cell_type": "code",
   "execution_count": 9,
   "id": "84357723-d48d-42df-90a9-0db08d0ca378",
   "metadata": {},
   "outputs": [
    {
     "data": {
      "text/plain": [
       "array([], dtype=int32)"
      ]
     },
     "execution_count": 9,
     "metadata": {},
     "output_type": "execute_result"
    }
   ],
   "source": [
    "y = np.array([1,1,2,2,4,4,2,2])\n",
    "y_subs = [np.array([1,1,4,4]), np.array([2,2,2,2])]\n",
    "a = np.array([], dtype = y.dtype)\n",
    "a"
   ]
  },
  {
   "cell_type": "code",
   "execution_count": 18,
   "id": "00baa9e7-dc21-4867-9722-19e0a57a888c",
   "metadata": {},
   "outputs": [
    {
     "data": {
      "text/plain": [
       "2"
      ]
     },
     "execution_count": 18,
     "metadata": {},
     "output_type": "execute_result"
    }
   ],
   "source": [
    "splitter = clf.get_candidate_splitter(X,y)\n",
    "len(splitter)"
   ]
  },
  {
   "cell_type": "code",
   "execution_count": 16,
   "id": "2a06760a-298e-4b1f-b677-587fd0675b95",
   "metadata": {},
   "outputs": [
    {
     "data": {
      "text/plain": [
       "(10, 50)"
      ]
     },
     "execution_count": 16,
     "metadata": {},
     "output_type": "execute_result"
    }
   ],
   "source": [
    "X = np.random.rand(10, 50)\n",
    "X.shape"
   ]
  },
  {
   "cell_type": "code",
   "execution_count": 17,
   "id": "f7f05282-f17a-4a3b-bbce-2b73eccda073",
   "metadata": {},
   "outputs": [
    {
     "data": {
      "text/plain": [
       "(10,)"
      ]
     },
     "execution_count": 17,
     "metadata": {},
     "output_type": "execute_result"
    }
   ],
   "source": [
    "y = np.array([1,1,1,2,2,2,0,0,0,1])\n",
    "y.shape"
   ]
  },
  {
   "cell_type": "code",
   "execution_count": 20,
   "id": "2ad0604b-ae25-464b-9684-27e531be5300",
   "metadata": {},
   "outputs": [
    {
     "data": {
      "text/plain": [
       "dict_keys(['lcss'])"
      ]
     },
     "execution_count": 20,
     "metadata": {},
     "output_type": "execute_result"
    }
   ],
   "source": [
    "splitter[1].keys()"
   ]
  },
  {
   "cell_type": "code",
   "execution_count": 21,
   "id": "05bacdb7-4435-4fae-8b62-4c1c037c3145",
   "metadata": {},
   "outputs": [],
   "source": [
    "from sklearn.utils import check_random_state"
   ]
  },
  {
   "cell_type": "code",
   "execution_count": 22,
   "id": "eb254d77-9c82-43ab-8357-956937e1cf23",
   "metadata": {},
   "outputs": [],
   "source": [
    "random_state = 42\n",
    "st1 = check_random_state(random_state)"
   ]
  },
  {
   "cell_type": "code",
   "execution_count": 23,
   "id": "f3f4a05a-7383-46c9-b306-6361fbea1c2e",
   "metadata": {},
   "outputs": [],
   "source": [
    "st2 = check_random_state(random_state)"
   ]
  },
  {
   "cell_type": "code",
   "execution_count": 24,
   "id": "7a926921-8063-48dd-805b-2240d3fb76b8",
   "metadata": {},
   "outputs": [
    {
     "data": {
      "text/plain": [
       "RandomState(MT19937) at 0x1EFF83D0240"
      ]
     },
     "execution_count": 24,
     "metadata": {},
     "output_type": "execute_result"
    }
   ],
   "source": [
    "st1"
   ]
  },
  {
   "cell_type": "code",
   "execution_count": 26,
   "id": "3a22c1c1-e73a-459a-baab-870e614025fd",
   "metadata": {},
   "outputs": [
    {
     "data": {
      "text/plain": [
       "RandomState(MT19937) at 0x1EFF83D0840"
      ]
     },
     "execution_count": 26,
     "metadata": {},
     "output_type": "execute_result"
    }
   ],
   "source": [
    "st2"
   ]
  },
  {
   "cell_type": "code",
   "execution_count": 6,
   "id": "edbe0538-d109-4cd2-a477-0bac41030497",
   "metadata": {},
   "outputs": [],
   "source": [
    "from numba import njit\n",
    "\n",
    "@njit(cache=True, fastmath=True)\n",
    "def gini(y):\n",
    "        \"\"\"Get gini score at a specific node.\n",
    "\n",
    "        Parameters\n",
    "        ----------\n",
    "        y : 1d numpy array\n",
    "            array of class labels\n",
    "\n",
    "        Returns\n",
    "        -------\n",
    "        score : float\n",
    "            gini score for the set of class labels (i.e. how pure they are). A\n",
    "            larger score means more impurity. Zero means\n",
    "            pure.\n",
    "        \"\"\"\n",
    "        # get number instances at node\n",
    "        n_instances = y.shape[0]\n",
    "        if n_instances > 0:\n",
    "            # count each class\n",
    "            unique_labels = list(np.unique(y))\n",
    "            class_counts = []\n",
    "            for i in range(len(unique_labels)):\n",
    "                cnt = 0\n",
    "                for j in range(len(y)):\n",
    "                    if y[j]==unique_labels[i]:\n",
    "                        cnt += 1\n",
    "                class_counts.append(cnt)\n",
    "            class_counts = np.array(class_counts)\n",
    "            # subtract class entropy from current score for each class\n",
    "            class_counts = np.divide(class_counts, n_instances)\n",
    "            class_counts = np.power(class_counts, 2)\n",
    "            sum = np.sum(class_counts)\n",
    "            return 1 - sum\n",
    "        else:\n",
    "            # y is empty, therefore considered pure\n",
    "            raise ValueError(\"y empty\")"
   ]
  },
  {
   "cell_type": "code",
   "execution_count": 11,
   "id": "37e89a3d-96e4-4919-b0d6-ccf630c39ee5",
   "metadata": {},
   "outputs": [
    {
     "data": {
      "text/plain": [
       "0.625"
      ]
     },
     "execution_count": 11,
     "metadata": {},
     "output_type": "execute_result"
    }
   ],
   "source": [
    "gini(y)"
   ]
  },
  {
   "cell_type": "code",
   "execution_count": 36,
   "id": "cf9bb82a-34f0-4c3d-b7fc-d0d1d4393efe",
   "metadata": {},
   "outputs": [
    {
     "data": {
      "text/plain": [
       "array(['1', '2'], dtype='<U1')"
      ]
     },
     "execution_count": 36,
     "metadata": {},
     "output_type": "execute_result"
    }
   ],
   "source": [
    "unique_class_labels, class_counts = np.unique(y, return_counts=True)\n",
    "unique_class_labels"
   ]
  },
  {
   "cell_type": "code",
   "execution_count": 37,
   "id": "b78dfe96-c095-4bb0-920d-82a9ae6633e1",
   "metadata": {},
   "outputs": [
    {
     "data": {
      "text/plain": [
       "array([547, 549], dtype=int64)"
      ]
     },
     "execution_count": 37,
     "metadata": {},
     "output_type": "execute_result"
    }
   ],
   "source": [
    "class_counts"
   ]
  },
  {
   "cell_type": "code",
   "execution_count": 72,
   "id": "faa13ffb-ea7a-480f-b4d1-559dafe36e78",
   "metadata": {},
   "outputs": [],
   "source": [
    "@njit\n",
    "def uniques(y):\n",
    "    unique_labels = list(np.unique(y))\n",
    "    class_counts = []\n",
    "    for i in range(len(unique_labels)):\n",
    "        cnt = 0\n",
    "        for j in range(len(y)):\n",
    "            if y[j]==unique_labels[i]:\n",
    "                cnt += 1\n",
    "        class_counts.append(cnt)\n",
    "    unique_labels = np.array(unique_labels)\n",
    "    class_counts = np.array(class_counts)\n",
    "    return unique_labels, class_counts"
   ]
  },
  {
   "cell_type": "code",
   "execution_count": 73,
   "id": "53e6b4a5-adf3-43c1-a0d4-60edf4fdd91d",
   "metadata": {},
   "outputs": [],
   "source": [
    "unique_labels, class_counts = uniques(y)"
   ]
  },
  {
   "cell_type": "code",
   "execution_count": 74,
   "id": "039a4218-7fbd-4a51-9237-7f8c0dc6b9e0",
   "metadata": {},
   "outputs": [
    {
     "data": {
      "text/plain": [
       "array(['1', '2'], dtype='<U1')"
      ]
     },
     "execution_count": 74,
     "metadata": {},
     "output_type": "execute_result"
    }
   ],
   "source": [
    "unique_labels"
   ]
  },
  {
   "cell_type": "code",
   "execution_count": 62,
   "id": "f46f116b-f607-486a-bd45-d1c7537eaf46",
   "metadata": {},
   "outputs": [
    {
     "data": {
      "text/plain": [
       "array([547, 549], dtype=int64)"
      ]
     },
     "execution_count": 62,
     "metadata": {},
     "output_type": "execute_result"
    }
   ],
   "source": [
    "class_counts"
   ]
  },
  {
   "cell_type": "code",
   "execution_count": 54,
   "id": "35d1839b-4422-42e0-9218-f4e590efeaa6",
   "metadata": {},
   "outputs": [
    {
     "data": {
      "text/plain": [
       "'2'"
      ]
     },
     "execution_count": 54,
     "metadata": {},
     "output_type": "execute_result"
    }
   ],
   "source": [
    "y[2]"
   ]
  },
  {
   "cell_type": "code",
   "execution_count": 56,
   "id": "292498ff-8be5-4d9b-b2d8-f462f62ce4da",
   "metadata": {},
   "outputs": [
    {
     "name": "stdout",
     "output_type": "stream",
     "text": [
      "0\n",
      "1\n"
     ]
    }
   ],
   "source": [
    "for i in range(len(list(np.unique(y)))):\n",
    "    print(i)"
   ]
  },
  {
   "cell_type": "code",
   "execution_count": 63,
   "id": "70ff787c-e8ac-4717-a35e-28cfe45d290d",
   "metadata": {},
   "outputs": [
    {
     "data": {
      "text/plain": [
       "array(['1', '2'], dtype='<U1')"
      ]
     },
     "execution_count": 63,
     "metadata": {},
     "output_type": "execute_result"
    }
   ],
   "source": [
    "unique_labels = np.array(np.unique(y))\n",
    "unique_labels"
   ]
  },
  {
   "cell_type": "code",
   "execution_count": 66,
   "id": "9dbea017-3c63-4985-9453-25587d0e93de",
   "metadata": {},
   "outputs": [
    {
     "data": {
      "text/plain": [
       "1096"
      ]
     },
     "execution_count": 66,
     "metadata": {},
     "output_type": "execute_result"
    }
   ],
   "source": [
    "len(y)"
   ]
  },
  {
   "cell_type": "code",
   "execution_count": 9,
   "id": "b770205a-b9d5-4a2d-bfdb-8dce92bfc099",
   "metadata": {},
   "outputs": [],
   "source": [
    "@njit(cache=True, fastmath=True)\n",
    "def gini_gain(y, y_subs):\n",
    "        \"\"\"Get gini score of a split, i.e. the gain from parent to children.\n",
    "\n",
    "        Parameters\n",
    "        ----------\n",
    "        y : 1d array\n",
    "            array of class labels at parent\n",
    "        y_subs : list of 1d array like\n",
    "            list of array of class labels, one array per child\n",
    "\n",
    "        Returns\n",
    "        -------\n",
    "        score : float\n",
    "            gini score of the split from parent class labels to children. Note a\n",
    "            higher score means better gain,\n",
    "            i.e. a better split\n",
    "        \"\"\"\n",
    "        # find number of instances overall\n",
    "        parent_n_instances = len(y)\n",
    "        # if parent has no instances then is pure\n",
    "        if parent_n_instances == 0:\n",
    "            for child in y_subs:\n",
    "                if len(child) > 0:\n",
    "                    raise ValueError(\"children populated but parent empty\")\n",
    "            return 0.5\n",
    "        # find gini for parent node\n",
    "        score = gini(y)\n",
    "        # sum the children's gini scores\n",
    "        for index in range(len(y_subs)):\n",
    "            child_class_labels = y_subs[index]\n",
    "            # ignore empty children\n",
    "            if len(child_class_labels) > 0:\n",
    "                # find gini score for this child\n",
    "                child_score = gini(child_class_labels)\n",
    "                # weight score by proportion of instances at child compared to\n",
    "                # parent\n",
    "                child_size = len(child_class_labels)\n",
    "                child_score *= child_size / parent_n_instances\n",
    "                # add to cumulative sum\n",
    "                score -= child_score\n",
    "        return score"
   ]
  },
  {
   "cell_type": "code",
   "execution_count": 10,
   "id": "533b9f9e-7561-4a15-9632-e99ff5aec26d",
   "metadata": {},
   "outputs": [
    {
     "data": {
      "text/plain": [
       "0.375"
      ]
     },
     "execution_count": 10,
     "metadata": {},
     "output_type": "execute_result"
    }
   ],
   "source": [
    "y = np.array([1,1,2,2,4,4,2,2])\n",
    "y_subs = [np.array([1,1,4,4]), np.array([2,2,2,2])]\n",
    "gini_gain(y,y_subs)"
   ]
  },
  {
   "cell_type": "code",
   "execution_count": 8,
   "id": "611543bd-d86a-4373-9fbc-8f6ab7aeaaf9",
   "metadata": {},
   "outputs": [
    {
     "data": {
      "text/plain": [
       "0.375"
      ]
     },
     "execution_count": 8,
     "metadata": {},
     "output_type": "execute_result"
    }
   ],
   "source": [
    "from aeon.classification.distance_based._proximity_tree import gini_gain\n",
    "y = np.array([1,1,2,2,4,4,2,2])\n",
    "y_subs = [np.array([1,1,4,4]), np.array([2,2,2,2])]\n",
    "gini_gain(y, y_subs)"
   ]
  },
  {
   "cell_type": "code",
   "execution_count": 10,
   "id": "8fa64944-bffa-47dc-8ff8-134fac47f707",
   "metadata": {},
   "outputs": [
    {
     "data": {
      "text/plain": [
       "3"
      ]
     },
     "execution_count": 10,
     "metadata": {},
     "output_type": "execute_result"
    }
   ],
   "source": [
    "len(np.unique(y))"
   ]
  },
  {
   "cell_type": "code",
   "execution_count": 11,
   "id": "5f0538ab-73c3-4013-85f7-10d668c13f8a",
   "metadata": {},
   "outputs": [
    {
     "data": {
      "text/plain": [
       "array([1, 2, 4])"
      ]
     },
     "execution_count": 11,
     "metadata": {},
     "output_type": "execute_result"
    }
   ],
   "source": [
    "np.unique(y)"
   ]
  },
  {
   "cell_type": "code",
   "execution_count": 15,
   "id": "46ea054e-24fd-49d7-815d-c05b7b594732",
   "metadata": {},
   "outputs": [],
   "source": [
    "from typing import Type, Union\n",
    "\n",
    "import numpy as np\n",
    "from numba import njit\n",
    "from sklearn.exceptions import NotFittedError\n",
    "from sklearn.utils import check_random_state\n",
    "\n",
    "from aeon.classification.base import BaseClassifier\n",
    "from aeon.distances import distance\n",
    "\n",
    "\n",
    "class Node:\n",
    "\n",
    "    def __init__(\n",
    "        self,\n",
    "        node_id: int,\n",
    "        _is_leaf: bool,\n",
    "        label=None,\n",
    "        class_distribution=None,\n",
    "        splitter=None,\n",
    "    ):\n",
    "        self.node_id = node_id\n",
    "        self._is_leaf = _is_leaf\n",
    "        self.label = label\n",
    "        self.splitter = splitter\n",
    "        self.class_distribution = class_distribution or {}\n",
    "        self.children = {}\n",
    "\n",
    "\n",
    "class ProximityTree(BaseClassifier):\n",
    "\n",
    "    _tags = {\n",
    "        \"capability:multivariate\": False,\n",
    "        \"capability:unequal_length\": False,\n",
    "        \"algorithm_type\": \"distance\",\n",
    "        \"X_inner_type\": [\"numpy2D\"],\n",
    "    }\n",
    "\n",
    "    def __init__(\n",
    "        self,\n",
    "        n_splitters: int = 5,\n",
    "        max_depth: int = None,\n",
    "        min_samples_split: int = 2,\n",
    "        random_state: Union[int, Type[np.random.RandomState], None] = None,\n",
    "        n_jobs: int = 1,\n",
    "        verbose: int = 0,\n",
    "    ) -> None:\n",
    "        self.n_splitters = n_splitters\n",
    "        self.max_depth = max_depth\n",
    "        self.min_samples_split = min_samples_split\n",
    "        self.random_state = random_state\n",
    "        self.n_jobs = n_jobs\n",
    "        self.verbose = verbose\n",
    "        super().__init__()\n",
    "\n",
    "    def get_parameter_value(self, X):\n",
    "        \"\"\"Generate random parameter values.\n",
    "\n",
    "        For a list of distance measures, generate a dictionary\n",
    "        of parameterized distances.\n",
    "\n",
    "        Parameters\n",
    "        ----------\n",
    "        X : np.ndarray of shape (n_cases, n_timepoints)\n",
    "\n",
    "        Returns\n",
    "        -------\n",
    "        distance_param : a dictionary of distances and their\n",
    "        parameters.\n",
    "        \"\"\"\n",
    "        rng = check_random_state(self.random_state)\n",
    "\n",
    "        X_std = X.std()\n",
    "        param_ranges = {\n",
    "            \"euclidean\": {},\n",
    "            \"dtw\": {\"window\": (0, 0.25)},\n",
    "            \"ddtw\": {\"window\": (0, 0.25)},\n",
    "            \"wdtw\": {\"g\": (0, 1)},\n",
    "            \"wddtw\": {\"g\": (0, 1)},\n",
    "            \"erp\": {\"g\": (X_std / 5, X_std)},\n",
    "            \"lcss\": {\"epsilon\": (X_std / 5, X_std), \"window\": (0, 0.25)},\n",
    "        }\n",
    "        random_params = {}\n",
    "        for measure, ranges in param_ranges.items():\n",
    "            random_params[measure] = {\n",
    "                param: np.round(rng.uniform(low, high), 3)\n",
    "                for param, (low, high) in ranges.items()\n",
    "            }\n",
    "        # For TWE\n",
    "        lmbda = rng.randint(0, 9)\n",
    "        exponent_range = np.arange(1, 6)  # Exponents from -5 to 1 (inclusive)\n",
    "        random_exponent = rng.choice(exponent_range)\n",
    "        nu = 1 / 10**random_exponent\n",
    "        random_params[\"twe\"] = {\"lmbda\": lmbda, \"nu\": nu}\n",
    "\n",
    "        # For MSM\n",
    "        base = 10\n",
    "        # Exponents from -2 to 2 (inclusive)\n",
    "        exponents = np.arange(-2, 3, dtype=np.float64)\n",
    "        # Randomly select an index from the exponent range\n",
    "        random_index = rng.randint(0, len(exponents))\n",
    "        c = base ** exponents[random_index]\n",
    "        random_params[\"msm\"] = {\"c\": c}\n",
    "\n",
    "        return random_params\n",
    "\n",
    "    def get_candidate_splitter(self, X, y):\n",
    "        \"\"\"Generate candidate splitter.\n",
    "\n",
    "        Takes a time series dataset and a set of parameterized\n",
    "        distance measures to create a candidate splitter, which\n",
    "        contains a parameterized distance measure and a set of exemplars.\n",
    "\n",
    "        Parameters\n",
    "        ----------\n",
    "        X : np.ndarray shape (n_cases, n_timepoints)\n",
    "            The training input samples.\n",
    "        y : np.array shape (n_cases,) or (n_cases,1)\n",
    "        parameterized_distances : dictionary\n",
    "            Contains the distances and their parameters.\n",
    "\n",
    "        Returns\n",
    "        -------\n",
    "        splitter : list of two dictionaries\n",
    "            A distance and its parameter values and a set of exemplars.\n",
    "        \"\"\"\n",
    "        rng = check_random_state(self.random_state)\n",
    "\n",
    "        exemplars = {}\n",
    "        for label in np.unique(y):\n",
    "            y_new = y[y == label]\n",
    "            X_new = X[y == label]\n",
    "            id = rng.randint(0, X_new.shape[0])\n",
    "            exemplars[y_new[id]] = X_new[id, :]\n",
    "\n",
    "        # Create a list with first element exemplars and second element a\n",
    "        # random parameterized distance measure\n",
    "        parameterized_distances = self.get_parameter_value(X)\n",
    "        n = rng.randint(0, 9)\n",
    "        dist = list(parameterized_distances.keys())[n]\n",
    "        splitter = [exemplars, {dist: parameterized_distances[dist]}]\n",
    "\n",
    "        return splitter\n",
    "\n",
    "    def get_best_splitter(self, X, y):\n",
    "        \"\"\"Get the splitter for a node which maximizes the gini gain.\"\"\"\n",
    "        max_gain = float(\"-inf\")\n",
    "        best_splitter = None\n",
    "        for _ in range(self.n_splitters):\n",
    "            splitter = self.get_candidate_splitter(X, y)\n",
    "            labels = list(splitter[0].keys())\n",
    "            measure = list(splitter[1].keys())[0]\n",
    "            y_subs = [[] for _ in range(len(labels))]\n",
    "            for j in range(X.shape[0]):\n",
    "                min_dist = float(\"inf\")\n",
    "                sub = None\n",
    "                for k in range(len(labels)):\n",
    "                    dist = distance(\n",
    "                        X[j],\n",
    "                        splitter[0][labels[k]],\n",
    "                        metric=measure,\n",
    "                        kwargs=splitter[1][measure],\n",
    "                    )\n",
    "                    if dist < min_dist:\n",
    "                        min_dist = dist\n",
    "                        sub = k\n",
    "                y_subs[sub].append(y[j])\n",
    "            y_subs = [np.array(ele) for ele in y_subs]\n",
    "            gini_index = gini_gain(y, y_subs)\n",
    "            if gini_index > max_gain:\n",
    "                max_gain = gini_index\n",
    "                best_splitter = splitter\n",
    "        return best_splitter\n",
    "\n",
    "    def _build_tree(self, X, y, depth, node_id, parent_target_value=None):\n",
    "\n",
    "        # If the data reaching the node is empty\n",
    "        if len(X) == 0:\n",
    "            leaf_label = parent_target_value\n",
    "            leaf_distribution = {}\n",
    "            leaf = Node(\n",
    "                node_id=node_id,\n",
    "                _is_leaf=True,\n",
    "                label=leaf_label,\n",
    "                class_distribution=leaf_distribution,\n",
    "            )\n",
    "            return leaf\n",
    "\n",
    "        # Target value in current node\n",
    "        target_value = self._find_target_value(y)\n",
    "        class_distribution = {\n",
    "            label: count / len(y)\n",
    "            for label, count in zip(*np.unique(y, return_counts=True))\n",
    "        }\n",
    "\n",
    "        # If min sample splits is reached\n",
    "        if self.min_samples_split >= len(X):\n",
    "            leaf_label = target_value\n",
    "            leaf = Node(\n",
    "                node_id=node_id,\n",
    "                _is_leaf=True,\n",
    "                label=leaf_label,\n",
    "                class_distribution=class_distribution,\n",
    "            )\n",
    "            return leaf\n",
    "\n",
    "        # If max depth is reached\n",
    "        if (self.max_depth is not None) and (depth >= self.max_depth):\n",
    "            leaf_label = target_value\n",
    "            leaf = Node(\n",
    "                node_id=node_id,\n",
    "                _is_leaf=True,\n",
    "                label=leaf_label,\n",
    "                class_distribution=class_distribution,\n",
    "            )\n",
    "            return leaf\n",
    "\n",
    "        # Pure node\n",
    "        if len(np.unique(y)) == 1:\n",
    "            leaf_label = target_value\n",
    "            leaf = Node(\n",
    "                node_id=node_id,\n",
    "                _is_leaf=True,\n",
    "                label=leaf_label,\n",
    "                class_distribution=class_distribution,\n",
    "            )\n",
    "            return leaf\n",
    "\n",
    "        # Find the best splitter\n",
    "        splitter = self.get_best_splitter(X, y)\n",
    "\n",
    "        # Create root node\n",
    "        node = Node(node_id=node_id, _is_leaf=False, splitter=splitter)\n",
    "\n",
    "        # For each exemplar split the data\n",
    "        labels = list(splitter[0].keys())\n",
    "        measure = list(splitter[1].keys())[0]\n",
    "        X_child = [[] for _ in labels]\n",
    "        y_child = [[] for _ in labels]\n",
    "        for i in range(len(X)):\n",
    "            min_dist = np.inf\n",
    "            id = None\n",
    "            for j in range(len(labels)):\n",
    "                dist = distance(\n",
    "                    X[i],\n",
    "                    splitter[0][labels[j]],\n",
    "                    metric=measure,\n",
    "                    kwargs=splitter[1][measure],\n",
    "                )\n",
    "                if dist < min_dist:\n",
    "                    min_dist = dist\n",
    "                    id = j\n",
    "            X_child[id].append(X[i])\n",
    "            y_child[id].append(y[i])\n",
    "        X_child = [np.array(ele) for ele in X_child]\n",
    "        y_child = [np.array(ele) for ele in y_child]\n",
    "        # For each exemplar, create a branch\n",
    "        for i in range(len(labels)):\n",
    "            child_node_id = node_id + \".\" + str(i)\n",
    "            child_node = self._build_tree(\n",
    "                X_child[i],\n",
    "                y_child[i],\n",
    "                depth=depth + 1,\n",
    "                node_id=child_node_id,\n",
    "                parent_target_value=target_value,\n",
    "            )\n",
    "            node.children[labels[i]] = child_node\n",
    "\n",
    "        return node\n",
    "\n",
    "    @staticmethod\n",
    "    def _find_target_value(y):\n",
    "        \"\"\"Get the class label of highest frequency.\"\"\"\n",
    "        unique, counts = np.unique(y, return_counts=True)\n",
    "        # Find the index of the maximum count\n",
    "        max_index = np.argmax(counts)\n",
    "        mode_value = unique[max_index]\n",
    "        # mode_count = counts[max_index]\n",
    "        return mode_value\n",
    "\n",
    "    def _fit(self, X, y):\n",
    "        # Set the unique class labels\n",
    "        if (X.ndim != 2) or (y.ndim != 1):\n",
    "            raise ValueError(\"X should be of shape (n_cases, n_timepoints).\")\n",
    "        self.classes_ = list(np.unique(y))\n",
    "\n",
    "        self.root = self._build_tree(\n",
    "            X, y, depth=0, node_id=\"0\", parent_target_value=None\n",
    "        )\n",
    "        self._is_fitted = True\n",
    "\n",
    "    def _predict(self, X):\n",
    "        probas = self._predict_proba(X)\n",
    "        predictions = np.argmax(probas, axis=1)\n",
    "        return np.array([self.classes_[pred] for pred in predictions])\n",
    "\n",
    "    def _predict_proba(self, X):\n",
    "        if not self._is_fitted:\n",
    "            raise NotFittedError(\n",
    "                f\"This instance of {self.__class__.__name__} has not \"\n",
    "                f\"been fitted yet; please call `fit` first.\"\n",
    "            )\n",
    "        # Get the unique class labels\n",
    "        classes = self.classes_\n",
    "        class_count = len(classes)\n",
    "        probas = []\n",
    "\n",
    "        for i in range(len(X)):\n",
    "            # Classify the data point and find the leaf node\n",
    "            leaf_node = self._classify(self.root, X[i])\n",
    "\n",
    "            # Create probability distribution based on class counts in the leaf node\n",
    "            proba = np.zeros(class_count)\n",
    "            for class_label, class_proba in leaf_node.class_distribution.items():\n",
    "                proba[classes.index(class_label)] = class_proba\n",
    "            probas.append(proba)\n",
    "\n",
    "        return np.array(probas)\n",
    "\n",
    "    def _classify(self, treenode, x):\n",
    "        # Classify one data point using the proximity tree\n",
    "        if treenode._is_leaf:\n",
    "            return treenode\n",
    "        else:\n",
    "            measure = list(treenode.splitter[1].keys())[0]\n",
    "            branches = list(treenode.splitter[0].keys())\n",
    "            min_dist = np.inf\n",
    "            id = None\n",
    "            for i in range(len(branches)):\n",
    "                dist = distance(\n",
    "                    x,\n",
    "                    treenode.splitter[0][branches[i]],\n",
    "                    metric=measure,\n",
    "                    kwargs=treenode.splitter[1][measure],\n",
    "                )\n",
    "                if dist < min_dist:\n",
    "                    min_dist = dist\n",
    "                    id = i\n",
    "            return self._classify(treenode.children[branches[id]], x)\n",
    "\n",
    "\n",
    "@njit(cache=True, fastmath=True)\n",
    "def gini(y) -> float:\n",
    "    \"\"\"Get gini score at a specific node.\n",
    "\n",
    "    Parameters\n",
    "    ----------\n",
    "    y : 1d numpy array\n",
    "        array of class labels\n",
    "\n",
    "    Returns\n",
    "    -------\n",
    "    score : float\n",
    "        gini score for the set of class labels (i.e. how pure they are). A\n",
    "        larger score means more impurity. Zero means\n",
    "        pure.\n",
    "    \"\"\"\n",
    "    # get number instances at node\n",
    "    n_instances = y.shape[0]\n",
    "    if n_instances > 0:\n",
    "        # count each class\n",
    "        unique_labels = list(np.unique(y))\n",
    "        class_counts = []\n",
    "        for i in range(len(unique_labels)):\n",
    "            cnt = 0\n",
    "            for j in range(len(y)):\n",
    "                if y[j] == unique_labels[i]:\n",
    "                    cnt += 1\n",
    "            class_counts.append(cnt)\n",
    "        class_counts = np.array(class_counts)\n",
    "        # subtract class entropy from current score for each class\n",
    "        class_counts = np.divide(class_counts, n_instances)\n",
    "        class_counts = np.power(class_counts, 2)\n",
    "        sum = np.sum(class_counts)\n",
    "        return 1 - sum\n",
    "    else:\n",
    "        # y is empty, therefore considered pure\n",
    "        raise ValueError(\"y empty\")\n",
    "\n",
    "\n",
    "# @njit(cache=True, fastmath=True)\n",
    "def gini_gain(y, y_subs) -> float:\n",
    "    \"\"\"Get gini score of a split, i.e. the gain from parent to children.\n",
    "\n",
    "    Parameters\n",
    "    ----------\n",
    "    y : 1d array\n",
    "        array of class labels at parent\n",
    "    y_subs : list of 1d array like\n",
    "        list of array of class labels, one array per child\n",
    "\n",
    "    Returns\n",
    "    -------\n",
    "    score : float\n",
    "        gini score of the split from parent class labels to children. Note a\n",
    "        higher score means better gain,\n",
    "        i.e. a better split\n",
    "    \"\"\"\n",
    "    # find number of instances overall\n",
    "    parent_n_instances = y.shape[0]\n",
    "    # if parent has no instances then is pure\n",
    "    if parent_n_instances == 0:\n",
    "        for child in y_subs:\n",
    "            if len(child) > 0:\n",
    "                raise ValueError(\"children populated but parent empty\")\n",
    "        return 0.5\n",
    "    # find gini for parent node\n",
    "    score = gini(y)\n",
    "    # sum the children's gini scores\n",
    "    for index in range(len(y_subs)):\n",
    "        child_class_labels = y_subs[index]\n",
    "        # ignore empty children\n",
    "        if len(child_class_labels) > 0:\n",
    "            # find gini score for this child\n",
    "            child_score = gini(child_class_labels)\n",
    "            # weight score by proportion of instances at child compared to\n",
    "            # parent\n",
    "            child_size = len(child_class_labels)\n",
    "            child_score *= child_size / parent_n_instances\n",
    "            # add to cumulative sum\n",
    "            score -= child_score\n",
    "    return score\n"
   ]
  },
  {
   "cell_type": "code",
   "execution_count": 17,
   "id": "08036c89-7503-4766-8792-0b17ff31e847",
   "metadata": {},
   "outputs": [],
   "source": [
    "clf1 = ProximityTree(n_splitters = 7, max_depth = 6)"
   ]
  },
  {
   "cell_type": "code",
   "execution_count": 18,
   "id": "92a7ff50-b11d-413c-8b26-a328147fe190",
   "metadata": {},
   "outputs": [],
   "source": [
    "clf1._fit(X_train, y_train)"
   ]
  },
  {
   "cell_type": "code",
   "execution_count": 20,
   "id": "ff2b2664-a961-4edb-bc4c-591ac34f532a",
   "metadata": {},
   "outputs": [],
   "source": [
    "from sklearn.metrics import accuracy_score\n",
    "\n",
    "y_pred = clf1._predict(X_test)\n",
    "score = accuracy_score(y_pred, y_test)"
   ]
  },
  {
   "cell_type": "code",
   "execution_count": 21,
   "id": "78c2091a-97db-4a53-95dd-5489ef243e06",
   "metadata": {},
   "outputs": [
    {
     "data": {
      "text/plain": [
       "0.9438775510204082"
      ]
     },
     "execution_count": 21,
     "metadata": {},
     "output_type": "execute_result"
    }
   ],
   "source": [
    "score"
   ]
  },
  {
   "cell_type": "code",
   "execution_count": 2,
   "id": "04e338d5-24db-46e2-83db-065f8d716d0a",
   "metadata": {},
   "outputs": [
    {
     "data": {
      "text/html": [
       "<style>#sk-container-id-1 {\n",
       "  /* Definition of color scheme common for light and dark mode */\n",
       "  --sklearn-color-text: black;\n",
       "  --sklearn-color-line: gray;\n",
       "  /* Definition of color scheme for unfitted estimators */\n",
       "  --sklearn-color-unfitted-level-0: #fff5e6;\n",
       "  --sklearn-color-unfitted-level-1: #f6e4d2;\n",
       "  --sklearn-color-unfitted-level-2: #ffe0b3;\n",
       "  --sklearn-color-unfitted-level-3: chocolate;\n",
       "  /* Definition of color scheme for fitted estimators */\n",
       "  --sklearn-color-fitted-level-0: #f0f8ff;\n",
       "  --sklearn-color-fitted-level-1: #d4ebff;\n",
       "  --sklearn-color-fitted-level-2: #b3dbfd;\n",
       "  --sklearn-color-fitted-level-3: cornflowerblue;\n",
       "\n",
       "  /* Specific color for light theme */\n",
       "  --sklearn-color-text-on-default-background: var(--sg-text-color, var(--theme-code-foreground, var(--jp-content-font-color1, black)));\n",
       "  --sklearn-color-background: var(--sg-background-color, var(--theme-background, var(--jp-layout-color0, white)));\n",
       "  --sklearn-color-border-box: var(--sg-text-color, var(--theme-code-foreground, var(--jp-content-font-color1, black)));\n",
       "  --sklearn-color-icon: #696969;\n",
       "\n",
       "  @media (prefers-color-scheme: dark) {\n",
       "    /* Redefinition of color scheme for dark theme */\n",
       "    --sklearn-color-text-on-default-background: var(--sg-text-color, var(--theme-code-foreground, var(--jp-content-font-color1, white)));\n",
       "    --sklearn-color-background: var(--sg-background-color, var(--theme-background, var(--jp-layout-color0, #111)));\n",
       "    --sklearn-color-border-box: var(--sg-text-color, var(--theme-code-foreground, var(--jp-content-font-color1, white)));\n",
       "    --sklearn-color-icon: #878787;\n",
       "  }\n",
       "}\n",
       "\n",
       "#sk-container-id-1 {\n",
       "  color: var(--sklearn-color-text);\n",
       "}\n",
       "\n",
       "#sk-container-id-1 pre {\n",
       "  padding: 0;\n",
       "}\n",
       "\n",
       "#sk-container-id-1 input.sk-hidden--visually {\n",
       "  border: 0;\n",
       "  clip: rect(1px 1px 1px 1px);\n",
       "  clip: rect(1px, 1px, 1px, 1px);\n",
       "  height: 1px;\n",
       "  margin: -1px;\n",
       "  overflow: hidden;\n",
       "  padding: 0;\n",
       "  position: absolute;\n",
       "  width: 1px;\n",
       "}\n",
       "\n",
       "#sk-container-id-1 div.sk-dashed-wrapped {\n",
       "  border: 1px dashed var(--sklearn-color-line);\n",
       "  margin: 0 0.4em 0.5em 0.4em;\n",
       "  box-sizing: border-box;\n",
       "  padding-bottom: 0.4em;\n",
       "  background-color: var(--sklearn-color-background);\n",
       "}\n",
       "\n",
       "#sk-container-id-1 div.sk-container {\n",
       "  /* jupyter's `normalize.less` sets `[hidden] { display: none; }`\n",
       "     but bootstrap.min.css set `[hidden] { display: none !important; }`\n",
       "     so we also need the `!important` here to be able to override the\n",
       "     default hidden behavior on the sphinx rendered scikit-learn.org.\n",
       "     See: https://github.com/scikit-learn/scikit-learn/issues/21755 */\n",
       "  display: inline-block !important;\n",
       "  position: relative;\n",
       "}\n",
       "\n",
       "#sk-container-id-1 div.sk-text-repr-fallback {\n",
       "  display: none;\n",
       "}\n",
       "\n",
       "div.sk-parallel-item,\n",
       "div.sk-serial,\n",
       "div.sk-item {\n",
       "  /* draw centered vertical line to link estimators */\n",
       "  background-image: linear-gradient(var(--sklearn-color-text-on-default-background), var(--sklearn-color-text-on-default-background));\n",
       "  background-size: 2px 100%;\n",
       "  background-repeat: no-repeat;\n",
       "  background-position: center center;\n",
       "}\n",
       "\n",
       "/* Parallel-specific style estimator block */\n",
       "\n",
       "#sk-container-id-1 div.sk-parallel-item::after {\n",
       "  content: \"\";\n",
       "  width: 100%;\n",
       "  border-bottom: 2px solid var(--sklearn-color-text-on-default-background);\n",
       "  flex-grow: 1;\n",
       "}\n",
       "\n",
       "#sk-container-id-1 div.sk-parallel {\n",
       "  display: flex;\n",
       "  align-items: stretch;\n",
       "  justify-content: center;\n",
       "  background-color: var(--sklearn-color-background);\n",
       "  position: relative;\n",
       "}\n",
       "\n",
       "#sk-container-id-1 div.sk-parallel-item {\n",
       "  display: flex;\n",
       "  flex-direction: column;\n",
       "}\n",
       "\n",
       "#sk-container-id-1 div.sk-parallel-item:first-child::after {\n",
       "  align-self: flex-end;\n",
       "  width: 50%;\n",
       "}\n",
       "\n",
       "#sk-container-id-1 div.sk-parallel-item:last-child::after {\n",
       "  align-self: flex-start;\n",
       "  width: 50%;\n",
       "}\n",
       "\n",
       "#sk-container-id-1 div.sk-parallel-item:only-child::after {\n",
       "  width: 0;\n",
       "}\n",
       "\n",
       "/* Serial-specific style estimator block */\n",
       "\n",
       "#sk-container-id-1 div.sk-serial {\n",
       "  display: flex;\n",
       "  flex-direction: column;\n",
       "  align-items: center;\n",
       "  background-color: var(--sklearn-color-background);\n",
       "  padding-right: 1em;\n",
       "  padding-left: 1em;\n",
       "}\n",
       "\n",
       "\n",
       "/* Toggleable style: style used for estimator/Pipeline/ColumnTransformer box that is\n",
       "clickable and can be expanded/collapsed.\n",
       "- Pipeline and ColumnTransformer use this feature and define the default style\n",
       "- Estimators will overwrite some part of the style using the `sk-estimator` class\n",
       "*/\n",
       "\n",
       "/* Pipeline and ColumnTransformer style (default) */\n",
       "\n",
       "#sk-container-id-1 div.sk-toggleable {\n",
       "  /* Default theme specific background. It is overwritten whether we have a\n",
       "  specific estimator or a Pipeline/ColumnTransformer */\n",
       "  background-color: var(--sklearn-color-background);\n",
       "}\n",
       "\n",
       "/* Toggleable label */\n",
       "#sk-container-id-1 label.sk-toggleable__label {\n",
       "  cursor: pointer;\n",
       "  display: block;\n",
       "  width: 100%;\n",
       "  margin-bottom: 0;\n",
       "  padding: 0.5em;\n",
       "  box-sizing: border-box;\n",
       "  text-align: center;\n",
       "}\n",
       "\n",
       "#sk-container-id-1 label.sk-toggleable__label-arrow:before {\n",
       "  /* Arrow on the left of the label */\n",
       "  content: \"▸\";\n",
       "  float: left;\n",
       "  margin-right: 0.25em;\n",
       "  color: var(--sklearn-color-icon);\n",
       "}\n",
       "\n",
       "#sk-container-id-1 label.sk-toggleable__label-arrow:hover:before {\n",
       "  color: var(--sklearn-color-text);\n",
       "}\n",
       "\n",
       "/* Toggleable content - dropdown */\n",
       "\n",
       "#sk-container-id-1 div.sk-toggleable__content {\n",
       "  max-height: 0;\n",
       "  max-width: 0;\n",
       "  overflow: hidden;\n",
       "  text-align: left;\n",
       "  /* unfitted */\n",
       "  background-color: var(--sklearn-color-unfitted-level-0);\n",
       "}\n",
       "\n",
       "#sk-container-id-1 div.sk-toggleable__content.fitted {\n",
       "  /* fitted */\n",
       "  background-color: var(--sklearn-color-fitted-level-0);\n",
       "}\n",
       "\n",
       "#sk-container-id-1 div.sk-toggleable__content pre {\n",
       "  margin: 0.2em;\n",
       "  border-radius: 0.25em;\n",
       "  color: var(--sklearn-color-text);\n",
       "  /* unfitted */\n",
       "  background-color: var(--sklearn-color-unfitted-level-0);\n",
       "}\n",
       "\n",
       "#sk-container-id-1 div.sk-toggleable__content.fitted pre {\n",
       "  /* unfitted */\n",
       "  background-color: var(--sklearn-color-fitted-level-0);\n",
       "}\n",
       "\n",
       "#sk-container-id-1 input.sk-toggleable__control:checked~div.sk-toggleable__content {\n",
       "  /* Expand drop-down */\n",
       "  max-height: 200px;\n",
       "  max-width: 100%;\n",
       "  overflow: auto;\n",
       "}\n",
       "\n",
       "#sk-container-id-1 input.sk-toggleable__control:checked~label.sk-toggleable__label-arrow:before {\n",
       "  content: \"▾\";\n",
       "}\n",
       "\n",
       "/* Pipeline/ColumnTransformer-specific style */\n",
       "\n",
       "#sk-container-id-1 div.sk-label input.sk-toggleable__control:checked~label.sk-toggleable__label {\n",
       "  color: var(--sklearn-color-text);\n",
       "  background-color: var(--sklearn-color-unfitted-level-2);\n",
       "}\n",
       "\n",
       "#sk-container-id-1 div.sk-label.fitted input.sk-toggleable__control:checked~label.sk-toggleable__label {\n",
       "  background-color: var(--sklearn-color-fitted-level-2);\n",
       "}\n",
       "\n",
       "/* Estimator-specific style */\n",
       "\n",
       "/* Colorize estimator box */\n",
       "#sk-container-id-1 div.sk-estimator input.sk-toggleable__control:checked~label.sk-toggleable__label {\n",
       "  /* unfitted */\n",
       "  background-color: var(--sklearn-color-unfitted-level-2);\n",
       "}\n",
       "\n",
       "#sk-container-id-1 div.sk-estimator.fitted input.sk-toggleable__control:checked~label.sk-toggleable__label {\n",
       "  /* fitted */\n",
       "  background-color: var(--sklearn-color-fitted-level-2);\n",
       "}\n",
       "\n",
       "#sk-container-id-1 div.sk-label label.sk-toggleable__label,\n",
       "#sk-container-id-1 div.sk-label label {\n",
       "  /* The background is the default theme color */\n",
       "  color: var(--sklearn-color-text-on-default-background);\n",
       "}\n",
       "\n",
       "/* On hover, darken the color of the background */\n",
       "#sk-container-id-1 div.sk-label:hover label.sk-toggleable__label {\n",
       "  color: var(--sklearn-color-text);\n",
       "  background-color: var(--sklearn-color-unfitted-level-2);\n",
       "}\n",
       "\n",
       "/* Label box, darken color on hover, fitted */\n",
       "#sk-container-id-1 div.sk-label.fitted:hover label.sk-toggleable__label.fitted {\n",
       "  color: var(--sklearn-color-text);\n",
       "  background-color: var(--sklearn-color-fitted-level-2);\n",
       "}\n",
       "\n",
       "/* Estimator label */\n",
       "\n",
       "#sk-container-id-1 div.sk-label label {\n",
       "  font-family: monospace;\n",
       "  font-weight: bold;\n",
       "  display: inline-block;\n",
       "  line-height: 1.2em;\n",
       "}\n",
       "\n",
       "#sk-container-id-1 div.sk-label-container {\n",
       "  text-align: center;\n",
       "}\n",
       "\n",
       "/* Estimator-specific */\n",
       "#sk-container-id-1 div.sk-estimator {\n",
       "  font-family: monospace;\n",
       "  border: 1px dotted var(--sklearn-color-border-box);\n",
       "  border-radius: 0.25em;\n",
       "  box-sizing: border-box;\n",
       "  margin-bottom: 0.5em;\n",
       "  /* unfitted */\n",
       "  background-color: var(--sklearn-color-unfitted-level-0);\n",
       "}\n",
       "\n",
       "#sk-container-id-1 div.sk-estimator.fitted {\n",
       "  /* fitted */\n",
       "  background-color: var(--sklearn-color-fitted-level-0);\n",
       "}\n",
       "\n",
       "/* on hover */\n",
       "#sk-container-id-1 div.sk-estimator:hover {\n",
       "  /* unfitted */\n",
       "  background-color: var(--sklearn-color-unfitted-level-2);\n",
       "}\n",
       "\n",
       "#sk-container-id-1 div.sk-estimator.fitted:hover {\n",
       "  /* fitted */\n",
       "  background-color: var(--sklearn-color-fitted-level-2);\n",
       "}\n",
       "\n",
       "/* Specification for estimator info (e.g. \"i\" and \"?\") */\n",
       "\n",
       "/* Common style for \"i\" and \"?\" */\n",
       "\n",
       ".sk-estimator-doc-link,\n",
       "a:link.sk-estimator-doc-link,\n",
       "a:visited.sk-estimator-doc-link {\n",
       "  float: right;\n",
       "  font-size: smaller;\n",
       "  line-height: 1em;\n",
       "  font-family: monospace;\n",
       "  background-color: var(--sklearn-color-background);\n",
       "  border-radius: 1em;\n",
       "  height: 1em;\n",
       "  width: 1em;\n",
       "  text-decoration: none !important;\n",
       "  margin-left: 1ex;\n",
       "  /* unfitted */\n",
       "  border: var(--sklearn-color-unfitted-level-1) 1pt solid;\n",
       "  color: var(--sklearn-color-unfitted-level-1);\n",
       "}\n",
       "\n",
       ".sk-estimator-doc-link.fitted,\n",
       "a:link.sk-estimator-doc-link.fitted,\n",
       "a:visited.sk-estimator-doc-link.fitted {\n",
       "  /* fitted */\n",
       "  border: var(--sklearn-color-fitted-level-1) 1pt solid;\n",
       "  color: var(--sklearn-color-fitted-level-1);\n",
       "}\n",
       "\n",
       "/* On hover */\n",
       "div.sk-estimator:hover .sk-estimator-doc-link:hover,\n",
       ".sk-estimator-doc-link:hover,\n",
       "div.sk-label-container:hover .sk-estimator-doc-link:hover,\n",
       ".sk-estimator-doc-link:hover {\n",
       "  /* unfitted */\n",
       "  background-color: var(--sklearn-color-unfitted-level-3);\n",
       "  color: var(--sklearn-color-background);\n",
       "  text-decoration: none;\n",
       "}\n",
       "\n",
       "div.sk-estimator.fitted:hover .sk-estimator-doc-link.fitted:hover,\n",
       ".sk-estimator-doc-link.fitted:hover,\n",
       "div.sk-label-container:hover .sk-estimator-doc-link.fitted:hover,\n",
       ".sk-estimator-doc-link.fitted:hover {\n",
       "  /* fitted */\n",
       "  background-color: var(--sklearn-color-fitted-level-3);\n",
       "  color: var(--sklearn-color-background);\n",
       "  text-decoration: none;\n",
       "}\n",
       "\n",
       "/* Span, style for the box shown on hovering the info icon */\n",
       ".sk-estimator-doc-link span {\n",
       "  display: none;\n",
       "  z-index: 9999;\n",
       "  position: relative;\n",
       "  font-weight: normal;\n",
       "  right: .2ex;\n",
       "  padding: .5ex;\n",
       "  margin: .5ex;\n",
       "  width: min-content;\n",
       "  min-width: 20ex;\n",
       "  max-width: 50ex;\n",
       "  color: var(--sklearn-color-text);\n",
       "  box-shadow: 2pt 2pt 4pt #999;\n",
       "  /* unfitted */\n",
       "  background: var(--sklearn-color-unfitted-level-0);\n",
       "  border: .5pt solid var(--sklearn-color-unfitted-level-3);\n",
       "}\n",
       "\n",
       ".sk-estimator-doc-link.fitted span {\n",
       "  /* fitted */\n",
       "  background: var(--sklearn-color-fitted-level-0);\n",
       "  border: var(--sklearn-color-fitted-level-3);\n",
       "}\n",
       "\n",
       ".sk-estimator-doc-link:hover span {\n",
       "  display: block;\n",
       "}\n",
       "\n",
       "/* \"?\"-specific style due to the `<a>` HTML tag */\n",
       "\n",
       "#sk-container-id-1 a.estimator_doc_link {\n",
       "  float: right;\n",
       "  font-size: 1rem;\n",
       "  line-height: 1em;\n",
       "  font-family: monospace;\n",
       "  background-color: var(--sklearn-color-background);\n",
       "  border-radius: 1rem;\n",
       "  height: 1rem;\n",
       "  width: 1rem;\n",
       "  text-decoration: none;\n",
       "  /* unfitted */\n",
       "  color: var(--sklearn-color-unfitted-level-1);\n",
       "  border: var(--sklearn-color-unfitted-level-1) 1pt solid;\n",
       "}\n",
       "\n",
       "#sk-container-id-1 a.estimator_doc_link.fitted {\n",
       "  /* fitted */\n",
       "  border: var(--sklearn-color-fitted-level-1) 1pt solid;\n",
       "  color: var(--sklearn-color-fitted-level-1);\n",
       "}\n",
       "\n",
       "/* On hover */\n",
       "#sk-container-id-1 a.estimator_doc_link:hover {\n",
       "  /* unfitted */\n",
       "  background-color: var(--sklearn-color-unfitted-level-3);\n",
       "  color: var(--sklearn-color-background);\n",
       "  text-decoration: none;\n",
       "}\n",
       "\n",
       "#sk-container-id-1 a.estimator_doc_link.fitted:hover {\n",
       "  /* fitted */\n",
       "  background-color: var(--sklearn-color-fitted-level-3);\n",
       "}\n",
       "</style><div id=\"sk-container-id-1\" class=\"sk-top-container\"><div class=\"sk-text-repr-fallback\"><pre>ProximityTree(max_depth=5, n_splitters=3)</pre><b>In a Jupyter environment, please rerun this cell to show the HTML representation or trust the notebook. <br />On GitHub, the HTML representation is unable to render, please try loading this page with nbviewer.org.</b></div><div class=\"sk-container\" hidden><div class=\"sk-item\"><div class=\"sk-estimator fitted sk-toggleable\"><input class=\"sk-toggleable__control sk-hidden--visually\" id=\"sk-estimator-id-1\" type=\"checkbox\" checked><label for=\"sk-estimator-id-1\" class=\"sk-toggleable__label fitted sk-toggleable__label-arrow fitted\">&nbsp;ProximityTree<span class=\"sk-estimator-doc-link fitted\">i<span>Fitted</span></span></label><div class=\"sk-toggleable__content fitted\"><pre>ProximityTree(max_depth=5, n_splitters=3)</pre></div> </div></div></div></div>"
      ],
      "text/plain": [
       "ProximityTree(max_depth=5, n_splitters=3)"
      ]
     },
     "execution_count": 2,
     "metadata": {},
     "output_type": "execute_result"
    }
   ],
   "source": [
    "from aeon.datasets import load_unit_test\n",
    "from aeon.classification.distance_based import ProximityTree\n",
    "X_train, y_train = load_unit_test(split=\"train\")\n",
    "X_test, y_test = load_unit_test(split=\"test\")\n",
    "classifier = ProximityTree(n_splitters = 3, max_depth = 5)\n",
    "classifier.fit(X_train, y_train)"
   ]
  },
  {
   "cell_type": "code",
   "execution_count": 8,
   "id": "250bb6db-2f9c-41c8-8274-e7267e410cf6",
   "metadata": {},
   "outputs": [],
   "source": [
    "@njit(cache=True, fastmath=True)\n",
    "def _find_target_value(y):\n",
    "        \"\"\"Get the class label of highest frequency.\"\"\"\n",
    "        unique_labels = list(np.unique(y))\n",
    "        class_counts = []\n",
    "        for i in range(len(unique_labels)):\n",
    "            cnt = 0\n",
    "            for j in range(len(y)):\n",
    "                if y[j] == unique_labels[i]:\n",
    "                    cnt += 1\n",
    "            class_counts.append(cnt)\n",
    "        class_counts = np.array(class_counts)\n",
    "        # Find the index of the maximum count\n",
    "        max_index = np.argmax(class_counts)\n",
    "        mode_value = unique_labels[max_index]\n",
    "        # mode_count = counts[max_index]\n",
    "        return mode_value"
   ]
  },
  {
   "cell_type": "code",
   "execution_count": 10,
   "id": "3d2e087f-e6b1-4737-a94f-c45d0e813c29",
   "metadata": {},
   "outputs": [
    {
     "data": {
      "text/plain": [
       "'2'"
      ]
     },
     "execution_count": 10,
     "metadata": {},
     "output_type": "execute_result"
    }
   ],
   "source": [
    "_find_target_value(y)"
   ]
  },
  {
   "cell_type": "code",
   "execution_count": 5,
   "id": "212bf16f-6c36-4cf6-b7c3-bb779153b996",
   "metadata": {},
   "outputs": [
    {
     "data": {
      "text/plain": [
       "(array(['1', '2'], dtype='<U1'), array([547, 549], dtype=int64))"
      ]
     },
     "execution_count": 5,
     "metadata": {},
     "output_type": "execute_result"
    }
   ],
   "source": [
    "np.unique(y, return_counts=True)"
   ]
  },
  {
   "cell_type": "code",
   "execution_count": 6,
   "id": "5af2402c-5b42-48a9-ae3c-526d1baa9dcd",
   "metadata": {},
   "outputs": [],
   "source": [
    "   def _find_target_value(y):\n",
    "        \"\"\"Get the class label of highest frequency.\"\"\"\n",
    "        unique, counts = np.unique(y, return_counts=True)\n",
    "        # Find the index of the maximum count\n",
    "        max_index = np.argmax(counts)\n",
    "        mode_value = unique[max_index]\n",
    "        # mode_count = counts[max_index]\n",
    "        return mode_value"
   ]
  },
  {
   "cell_type": "code",
   "execution_count": 7,
   "id": "363737e0-67c6-4d17-b96b-3ec0aaa7f679",
   "metadata": {},
   "outputs": [
    {
     "data": {
      "text/plain": [
       "'2'"
      ]
     },
     "execution_count": 7,
     "metadata": {},
     "output_type": "execute_result"
    }
   ],
   "source": [
    "_find_target_value(y)"
   ]
  },
  {
   "cell_type": "code",
   "execution_count": null,
   "id": "d222d4d6-6b5e-4bd1-84ce-34af9c4bb476",
   "metadata": {},
   "outputs": [],
   "source": []
  }
 ],
 "metadata": {
  "kernelspec": {
   "display_name": "Python 3 (ipykernel)",
   "language": "python",
   "name": "python3"
  },
  "language_info": {
   "codemirror_mode": {
    "name": "ipython",
    "version": 3
   },
   "file_extension": ".py",
   "mimetype": "text/x-python",
   "name": "python",
   "nbconvert_exporter": "python",
   "pygments_lexer": "ipython3",
   "version": "3.12.2"
  }
 },
 "nbformat": 4,
 "nbformat_minor": 5
}
