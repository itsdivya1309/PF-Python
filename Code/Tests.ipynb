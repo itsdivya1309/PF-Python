{
 "cells": [
  {
   "cell_type": "code",
   "execution_count": 13,
   "id": "5f1ae822-93cb-4bb5-b561-706488be3d9d",
   "metadata": {},
   "outputs": [],
   "source": [
    "from aeon.classification.distance_based import ProximityTree\n",
    "import numpy as np"
   ]
  },
  {
   "cell_type": "code",
   "execution_count": 7,
   "id": "33c829b0-6128-43dd-ac29-67a62673c509",
   "metadata": {},
   "outputs": [],
   "source": [
    "from aeon.datasets import load_italy_power_demand\n",
    "X, y = load_italy_power_demand(return_type='numpy3d')"
   ]
  },
  {
   "cell_type": "code",
   "execution_count": 3,
   "id": "e06c4324-3660-4fa1-9ed9-5f3e7289091e",
   "metadata": {},
   "outputs": [],
   "source": [
    "clf = ProximityTree(n_splitters = 7)"
   ]
  },
  {
   "cell_type": "code",
   "execution_count": 4,
   "id": "3f31a76c-0fb8-410f-99f0-182476d5aa61",
   "metadata": {},
   "outputs": [
    {
     "data": {
      "text/plain": [
       "0.4999983350205125"
      ]
     },
     "execution_count": 4,
     "metadata": {},
     "output_type": "execute_result"
    }
   ],
   "source": [
    "clf.gini(y)"
   ]
  },
  {
   "cell_type": "code",
   "execution_count": 8,
   "id": "2f75e18a-9b56-4228-92f6-5407e517ae1a",
   "metadata": {},
   "outputs": [
    {
     "data": {
      "text/plain": [
       "3"
      ]
     },
     "execution_count": 8,
     "metadata": {},
     "output_type": "execute_result"
    }
   ],
   "source": [
    "X.ndim"
   ]
  },
  {
   "cell_type": "code",
   "execution_count": 6,
   "id": "963eea17-61dd-4bad-8f57-fd012c7d163f",
   "metadata": {},
   "outputs": [
    {
     "data": {
      "text/plain": [
       "1"
      ]
     },
     "execution_count": 6,
     "metadata": {},
     "output_type": "execute_result"
    }
   ],
   "source": [
    "y.ndim"
   ]
  },
  {
   "cell_type": "code",
   "execution_count": 9,
   "id": "5ad6dce7-881f-434c-a6e6-36bdfa12e56a",
   "metadata": {},
   "outputs": [
    {
     "data": {
      "text/plain": [
       "(1096, 1, 24)"
      ]
     },
     "execution_count": 9,
     "metadata": {},
     "output_type": "execute_result"
    }
   ],
   "source": [
    "X.shape"
   ]
  },
  {
   "cell_type": "code",
   "execution_count": 11,
   "id": "8726182c-dbb8-4fcf-9720-75928416195b",
   "metadata": {},
   "outputs": [
    {
     "data": {
      "text/plain": [
       "3"
      ]
     },
     "execution_count": 11,
     "metadata": {},
     "output_type": "execute_result"
    }
   ],
   "source": [
    "X.reshape((X.shape[0],-1))\n",
    "X.ndim"
   ]
  },
  {
   "cell_type": "code",
   "execution_count": 14,
   "id": "84357723-d48d-42df-90a9-0db08d0ca378",
   "metadata": {},
   "outputs": [
    {
     "data": {
      "text/plain": [
       "0.375"
      ]
     },
     "execution_count": 14,
     "metadata": {},
     "output_type": "execute_result"
    }
   ],
   "source": [
    "y = np.array([1,1,2,2,4,4,2,2])\n",
    "y_subs = [np.array([1,1,4,4]), np.array([2,2,2,2])]\n",
    "clf.gini_gain(y,y_subs)"
   ]
  },
  {
   "cell_type": "code",
   "execution_count": 17,
   "id": "da05c882-9aa1-4cbc-8ae1-4829e6a1e771",
   "metadata": {},
   "outputs": [
    {
     "data": {
      "text/plain": [
       "0.5"
      ]
     },
     "execution_count": 17,
     "metadata": {},
     "output_type": "execute_result"
    }
   ],
   "source": [
    "y_parent = np.array([1, 1, 0, 0])\n",
    "y_children = [np.array([1, 1]), np.array([])]\n",
    "\n",
    "clf.gini_gain(y_parent, y_children)"
   ]
  },
  {
   "cell_type": "code",
   "execution_count": null,
   "id": "00baa9e7-dc21-4867-9722-19e0a57a888c",
   "metadata": {},
   "outputs": [],
   "source": []
  }
 ],
 "metadata": {
  "kernelspec": {
   "display_name": "Python 3 (ipykernel)",
   "language": "python",
   "name": "python3"
  },
  "language_info": {
   "codemirror_mode": {
    "name": "ipython",
    "version": 3
   },
   "file_extension": ".py",
   "mimetype": "text/x-python",
   "name": "python",
   "nbconvert_exporter": "python",
   "pygments_lexer": "ipython3",
   "version": "3.12.2"
  }
 },
 "nbformat": 4,
 "nbformat_minor": 5
}
