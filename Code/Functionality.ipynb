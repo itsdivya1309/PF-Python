{
 "cells": [
  {
   "cell_type": "code",
   "execution_count": 1,
   "id": "bca3f3c7-8892-463e-bb8f-e9461f1efe49",
   "metadata": {},
   "outputs": [
    {
     "name": "stderr",
     "output_type": "stream",
     "text": [
      "D:\\Python\\Project\\Aeon\\aeon\\aeon\\base\\__init__.py:24: FutureWarning: The aeon package will soon be releasing v1.0.0 with the removal of legacy modules and interfaces such as BaseTransformer and BaseForecaster. This will contain breaking changes. See aeon-toolkit.org for more information. Set aeon.AEON_DEPRECATION_WARNING or the AEON_DEPRECATION_WARNING environmental variable to 'False' to disable this warning.\n",
      "  warnings.warn(\n"
     ]
    }
   ],
   "source": [
    "from aeon.classification.distance_based import ProximityTree, ProximityForest\n",
    "from aeon.datasets import  load_osuleaf\n",
    "\n",
    "X, y = load_osuleaf(split='TEST', return_type='numpy3d')\n",
    "X_test, y_test = load_osuleaf(split='TRAIN', return_type='numpy3d')"
   ]
  },
  {
   "cell_type": "code",
   "execution_count": 2,
   "id": "5830bd6a-6544-49ae-8643-06d9973fd72c",
   "metadata": {},
   "outputs": [
    {
     "data": {
      "text/plain": [
       "array(['1', '2', '3', '4', '5', '6'], dtype='<U1')"
      ]
     },
     "execution_count": 2,
     "metadata": {},
     "output_type": "execute_result"
    }
   ],
   "source": [
    "import numpy as np\n",
    "np.unique(y)"
   ]
  },
  {
   "cell_type": "code",
   "execution_count": 3,
   "id": "9119414a-12e4-4ee6-af18-9f0379c91369",
   "metadata": {},
   "outputs": [
    {
     "data": {
      "text/plain": [
       "(242, 1, 427)"
      ]
     },
     "execution_count": 3,
     "metadata": {},
     "output_type": "execute_result"
    }
   ],
   "source": [
    "X.shape"
   ]
  },
  {
   "cell_type": "code",
   "execution_count": null,
   "id": "5e83e778-4431-4298-b6e0-45d3c4431280",
   "metadata": {},
   "outputs": [],
   "source": [
    "tree = ProximityTree(max_depth = 5)\n",
    "tree.fit(X, y)"
   ]
  },
  {
   "cell_type": "code",
   "execution_count": null,
   "id": "8462bb5e-b295-49f3-a69e-15e9155209d7",
   "metadata": {},
   "outputs": [],
   "source": [
    "tree.classes_"
   ]
  },
  {
   "cell_type": "code",
   "execution_count": null,
   "id": "4f790c71-a3d8-4786-9d37-a846a60ce1a7",
   "metadata": {},
   "outputs": [],
   "source": [
    "list(tree.classes_)"
   ]
  },
  {
   "cell_type": "code",
   "execution_count": null,
   "id": "8b626fff-a6f0-4582-8e75-0e8d90d1417c",
   "metadata": {},
   "outputs": [],
   "source": [
    "tree.n_classes_"
   ]
  },
  {
   "cell_type": "code",
   "execution_count": null,
   "id": "4940c684-e3f2-4514-b6cb-583f343a318f",
   "metadata": {},
   "outputs": [],
   "source": [
    "from sklearn.metrics import accuracy_score\n",
    "\n",
    "y_pred = tree.predict(X)\n",
    "accuracy_score(y_pred, y)"
   ]
  },
  {
   "cell_type": "code",
   "execution_count": null,
   "id": "ac907a39-980c-414f-84e2-fec6c2cb9093",
   "metadata": {},
   "outputs": [],
   "source": [
    "y_proba = tree.predict_proba(X_test)\n",
    "y_proba[:40]"
   ]
  },
  {
   "cell_type": "code",
   "execution_count": null,
   "id": "7d6cbf93-8214-414e-ad99-31c098b8ed70",
   "metadata": {},
   "outputs": [],
   "source": [
    "proba=tree.predict_proba(X)\n",
    "proba[:40]"
   ]
  },
  {
   "cell_type": "code",
   "execution_count": null,
   "id": "9a60d57e-544d-43a7-9e47-93d12f40376b",
   "metadata": {},
   "outputs": [],
   "source": []
  }
 ],
 "metadata": {
  "kernelspec": {
   "display_name": "Python 3 (ipykernel)",
   "language": "python",
   "name": "python3"
  },
  "language_info": {
   "codemirror_mode": {
    "name": "ipython",
    "version": 3
   },
   "file_extension": ".py",
   "mimetype": "text/x-python",
   "name": "python",
   "nbconvert_exporter": "python",
   "pygments_lexer": "ipython3",
   "version": "3.12.2"
  }
 },
 "nbformat": 4,
 "nbformat_minor": 5
}
