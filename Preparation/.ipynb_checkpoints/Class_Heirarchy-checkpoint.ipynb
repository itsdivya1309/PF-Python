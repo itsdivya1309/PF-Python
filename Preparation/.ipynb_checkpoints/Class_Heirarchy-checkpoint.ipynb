{
 "cells": [
  {
   "cell_type": "code",
   "execution_count": 13,
   "id": "50085706-be2f-4063-8b67-0e07a4df72eb",
   "metadata": {},
   "outputs": [],
   "source": [
    "from classes import Circles, Car, SampleClass"
   ]
  },
  {
   "cell_type": "code",
   "execution_count": 2,
   "id": "cf74c3cd-25a3-4334-ac20-9dda75c057e2",
   "metadata": {},
   "outputs": [],
   "source": [
    "circle1 = Circles(7)  #Creating instance or instantiation\n",
    "circle2 = Circles(10)  # Creating another instance of the class"
   ]
  },
  {
   "cell_type": "code",
   "execution_count": 3,
   "id": "19648219-9cf8-49b2-88cd-fa45e618e9f9",
   "metadata": {},
   "outputs": [
    {
     "data": {
      "text/plain": [
       "7"
      ]
     },
     "execution_count": 3,
     "metadata": {},
     "output_type": "execute_result"
    }
   ],
   "source": [
    "circle1.radius"
   ]
  },
  {
   "cell_type": "code",
   "execution_count": 4,
   "id": "42c9b48d-136b-495b-9e16-8ac033fef369",
   "metadata": {},
   "outputs": [
    {
     "data": {
      "text/plain": [
       "153.94"
      ]
     },
     "execution_count": 4,
     "metadata": {},
     "output_type": "execute_result"
    }
   ],
   "source": [
    "circle1.calculate_area()"
   ]
  },
  {
   "cell_type": "code",
   "execution_count": 5,
   "id": "d65409c5-906f-44d4-8f8b-9014b345128c",
   "metadata": {},
   "outputs": [
    {
     "name": "stdout",
     "output_type": "stream",
     "text": [
      "10\n",
      "314.16\n"
     ]
    }
   ],
   "source": [
    "print(circle2.radius)\n",
    "print(circle2.calculate_area())"
   ]
  },
  {
   "cell_type": "code",
   "execution_count": 6,
   "id": "f2124c25-3985-4101-bf05-16e0452087ad",
   "metadata": {},
   "outputs": [
    {
     "name": "stdout",
     "output_type": "stream",
     "text": [
      "14\n",
      "615.75\n"
     ]
    }
   ],
   "source": [
    "# Changing the value of an atribute\n",
    "circle1.radius = 14\n",
    "print(circle1.radius)\n",
    "print(circle1.calculate_area())"
   ]
  },
  {
   "cell_type": "code",
   "execution_count": 7,
   "id": "8aa67470-68ac-4e91-b911-f39d2ff0f8d1",
   "metadata": {},
   "outputs": [
    {
     "data": {
      "text/plain": [
       "{'radius': 14}"
      ]
     },
     "execution_count": 7,
     "metadata": {},
     "output_type": "execute_result"
    }
   ],
   "source": [
    "vars(circle1)"
   ]
  },
  {
   "cell_type": "code",
   "execution_count": 8,
   "id": "d5ff6a26-3ea5-4a91-baff-ba84b16f01c1",
   "metadata": {},
   "outputs": [
    {
     "data": {
      "text/plain": [
       "mappingproxy({'__module__': 'classes',\n",
       "              '__init__': <function classes.Circles.__init__(self, radius)>,\n",
       "              'calculate_area': <function classes.Circles.calculate_area(self)>,\n",
       "              '__dict__': <attribute '__dict__' of 'Circles' objects>,\n",
       "              '__weakref__': <attribute '__weakref__' of 'Circles' objects>,\n",
       "              '__doc__': None})"
      ]
     },
     "execution_count": 8,
     "metadata": {},
     "output_type": "execute_result"
    }
   ],
   "source": [
    "vars(Circles)"
   ]
  },
  {
   "cell_type": "code",
   "execution_count": 9,
   "id": "1c8a8cf2-0d04-4456-a535-60cc38ce2782",
   "metadata": {},
   "outputs": [],
   "source": [
    "toyota_camry = Car(\"Toyota\", \"Camry\", 2022, \"Red\")\n",
    "ford_mustang = Car(\"Ford\", \"Mustang\", 2022, \"Black\")"
   ]
  },
  {
   "cell_type": "code",
   "execution_count": 10,
   "id": "9aeff625-c597-424a-962e-1e713e5c39a4",
   "metadata": {},
   "outputs": [
    {
     "name": "stdout",
     "output_type": "stream",
     "text": [
      "Toyota\n",
      "False\n"
     ]
    }
   ],
   "source": [
    "print(toyota_camry.make)\n",
    "print(ford_mustang.started)"
   ]
  },
  {
   "cell_type": "code",
   "execution_count": 12,
   "id": "7434baa4-e96b-4f01-9fc7-206a2d52375a",
   "metadata": {},
   "outputs": [
    {
     "ename": "AttributeError",
     "evalue": "type object 'Car' has no attribute 'make'",
     "output_type": "error",
     "traceback": [
      "\u001b[1;31m---------------------------------------------------------------------------\u001b[0m",
      "\u001b[1;31mAttributeError\u001b[0m                            Traceback (most recent call last)",
      "Cell \u001b[1;32mIn[12], line 1\u001b[0m\n\u001b[1;32m----> 1\u001b[0m Car\u001b[38;5;241m.\u001b[39mmake\n",
      "\u001b[1;31mAttributeError\u001b[0m: type object 'Car' has no attribute 'make'"
     ]
    }
   ],
   "source": [
    "Car.make  # Cannot access instance attributes through class"
   ]
  },
  {
   "cell_type": "code",
   "execution_count": 15,
   "id": "e9a94c17-75cb-458e-9d8e-c08f58b114cb",
   "metadata": {},
   "outputs": [
    {
     "name": "stdout",
     "output_type": "stream",
     "text": [
      "100\n",
      "{'__module__': 'classes', 'class_attr': 100, '__init__': <function SampleClass.__init__ at 0x000001E6FC6B04A0>, 'method': <function SampleClass.method at 0x000001E6FC6B0FE0>, '__dict__': <attribute '__dict__' of 'SampleClass' objects>, '__weakref__': <attribute '__weakref__' of 'SampleClass' objects>, '__doc__': None}\n"
     ]
    }
   ],
   "source": [
    "print(SampleClass.class_attr)\n",
    "print(SampleClass.__dict__)"
   ]
  },
  {
   "cell_type": "code",
   "execution_count": 16,
   "id": "16c0e589-70ef-4309-b276-67980b178fce",
   "metadata": {},
   "outputs": [
    {
     "data": {
      "text/plain": [
       "mappingproxy({'__module__': 'classes',\n",
       "              'class_attr': 100,\n",
       "              '__init__': <function classes.SampleClass.__init__(self, instance_attr)>,\n",
       "              'method': <function classes.SampleClass.method(self)>,\n",
       "              '__dict__': <attribute '__dict__' of 'SampleClass' objects>,\n",
       "              '__weakref__': <attribute '__weakref__' of 'SampleClass' objects>,\n",
       "              '__doc__': None})"
      ]
     },
     "execution_count": 16,
     "metadata": {},
     "output_type": "execute_result"
    }
   ],
   "source": [
    "SampleClass.__dict__"
   ]
  },
  {
   "cell_type": "code",
   "execution_count": 17,
   "id": "ad0bbf9e-7e87-4376-ade6-754dbcf78324",
   "metadata": {},
   "outputs": [
    {
     "data": {
      "text/plain": [
       "{'instance_attr': 'Hello!'}"
      ]
     },
     "execution_count": 17,
     "metadata": {},
     "output_type": "execute_result"
    }
   ],
   "source": [
    "instance = SampleClass('Hello!')\n",
    "instance.__dict__"
   ]
  },
  {
   "cell_type": "code",
   "execution_count": null,
   "id": "c2ee4057-2557-4dd9-8a3b-70abb3c357fd",
   "metadata": {},
   "outputs": [],
   "source": []
  }
 ],
 "metadata": {
  "kernelspec": {
   "display_name": "Python 3 (ipykernel)",
   "language": "python",
   "name": "python3"
  },
  "language_info": {
   "codemirror_mode": {
    "name": "ipython",
    "version": 3
   },
   "file_extension": ".py",
   "mimetype": "text/x-python",
   "name": "python",
   "nbconvert_exporter": "python",
   "pygments_lexer": "ipython3",
   "version": "3.12.2"
  }
 },
 "nbformat": 4,
 "nbformat_minor": 5
}
